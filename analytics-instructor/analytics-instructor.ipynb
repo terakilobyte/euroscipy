{
 "cells": [
  {
   "cell_type": "markdown",
   "metadata": {
    "slideshow": {
     "slide_type": "slide"
    }
   },
   "source": [
    "# Data Analytics with MongoDB Workshop"
   ]
  },
  {
   "cell_type": "markdown",
   "metadata": {
    "slideshow": {
     "slide_type": "slide"
    }
   },
   "source": [
    "## Welcome\n",
    "\n",
    "Welcome to the Data Analytics with MongoDB Workshop. It is our hope that you'll leave this workshop with a more thorough understanding of using the MongoDB Aggregation Framework to accomplish data transformation and analysis goals.\n",
    "\n",
    "For this workshop we're putting our own data up on the block. We'll be using real data from MongoDB University (scrubbed and anonymized!) to ask some questions both entertaining and very serious."
   ]
  },
  {
   "cell_type": "markdown",
   "metadata": {
    "slideshow": {
     "slide_type": "slide"
    }
   },
   "source": [
    "## Overview\n",
    "\n",
    "In this workshop, we'll be using both Jupyter Notebooks and MongoDB Compass to explore our data, construct pipelines to transform and query it, and to visualize the results.\n",
    "\n",
    "You aren't required to or expected to know `pymongo` or Python deeply. If you have any questions as we go along and it isn't explained to your satisfaction (either Python or Aggregation), please don't hesitate to ask! The instructors and TAs are here to help, and your fellow attendees may know a thing or two as well!"
   ]
  },
  {
   "cell_type": "markdown",
   "metadata": {
    "slideshow": {
     "slide_type": "slide"
    }
   },
   "source": [
    "## Outline\n",
    "\n",
    "### Core Aggregation\n",
    "We'll be covering the core stages of the Aggregation Framework as well as key expressions. You'll gain an understanding of how to weave stages and expressions together to perform some very interesting analysis."
   ]
  },
  {
   "cell_type": "markdown",
   "metadata": {
    "slideshow": {
     "slide_type": "slide"
    }
   },
   "source": [
    "### Capstones\n",
    "We've prepared a set of Capstone exercises, with visualizations baked in!:\n",
    "- Capstone 1 - Problem Problems\n",
    "- Capstone 2 - Cliff Problems\n",
    "\n",
    "Without further ado, let's jump in."
   ]
  },
  {
   "cell_type": "markdown",
   "metadata": {
    "slideshow": {
     "slide_type": "notes"
    }
   },
   "source": [
    "This phase is the workshop setup and the beginning of the aggregation section. This will prime the environment with our helper methods and fragments to load in (answers), and ensure students are set up correctly. This shouldn't take more than 15 minutes."
   ]
  },
  {
   "cell_type": "code",
   "execution_count": null,
   "metadata": {
    "slideshow": {
     "slide_type": "subslide"
    }
   },
   "outputs": [],
   "source": [
    "# setting up our workshop environment\n",
    "%reload_ext autoreload\n",
    "%autoreload 2\n",
    "%matplotlib inline\n",
    "from utils.workshop import *\n",
    "import matplotlib.pyplot as plt\n",
    "import seaborn as sns\n",
    "sns.set(color_codes=True)\n",
    "from IPython.core.magic import register_cell_magic\n",
    "@register_cell_magic\n",
    "def handle(line, cell):\n",
    "    try:\n",
    "        exec(cell)\n",
    "    except Exception as e:\n",
    "        print(str(e))"
   ]
  },
  {
   "cell_type": "code",
   "execution_count": null,
   "metadata": {
    "slideshow": {
     "slide_type": "subslide"
    }
   },
   "outputs": [],
   "source": [
    "# let's import our MongoClient class\n",
    "from pymongo import MongoClient"
   ]
  },
  {
   "cell_type": "code",
   "execution_count": null,
   "metadata": {
    "slideshow": {
     "slide_type": "subslide"
    }
   },
   "outputs": [],
   "source": [
    "# For Local or Vagrant execute this cell\n",
    "client = MongoClient()"
   ]
  },
  {
   "cell_type": "code",
   "execution_count": null,
   "metadata": {
    "slideshow": {
     "slide_type": "subslide"
    }
   },
   "outputs": [],
   "source": [
    "# For Docker use execute this cell\n",
    "client = MongoClient(host=\"mongo\", port=27017, serverSelectionTimeoutMS=200)"
   ]
  },
  {
   "cell_type": "markdown",
   "metadata": {
    "slideshow": {
     "slide_type": "notes"
    }
   },
   "source": [
    "This is the basic setup. \n",
    "Depending on their base setup, they will have one of the prior two cells.\n"
   ]
  },
  {
   "cell_type": "code",
   "execution_count": null,
   "metadata": {
    "slideshow": {
     "slide_type": "subslide"
    }
   },
   "outputs": [],
   "source": [
    "# Run this cell if you are in either Local or Docker\n",
    "%%bash\n",
    "mongorestore --host mongo --port 27017 dump --gzip"
   ]
  },
  {
   "cell_type": "markdown",
   "metadata": {
    "slideshow": {
     "slide_type": "notes"
    }
   },
   "source": [
    "In this cell, studentswill be importing the dataset we will be using throughout the workshop.\n",
    "\n",
    "For Vagrant, this has been already pre-loaded so students do not need to run this in case they are using Vagrant."
   ]
  },
  {
   "cell_type": "code",
   "execution_count": null,
   "metadata": {
    "slideshow": {
     "slide_type": "subslide"
    }
   },
   "outputs": [],
   "source": [
    "# this lets us refer to the mdbw database as mdbw\n",
    "mdbw = client.mdbw\n",
    "# and this lets us refer to the workshop database for exercises\n",
    "workshop = client.workshop\n",
    "# this lets us refer to the mdbw.student_courses collection as student_courses\n",
    "student_course = mdbw.student_course"
   ]
  },
  {
   "cell_type": "markdown",
   "metadata": {
    "slideshow": {
     "slide_type": "notes"
    }
   },
   "source": [
    "* client = ... is just initializing our connection to the database, akin to starting the mongo shell\n",
    "* mdbw = ... is giving us a reference to the `mdbw` database, like `use mdbw` in the shell"
   ]
  },
  {
   "cell_type": "markdown",
   "metadata": {
    "slideshow": {
     "slide_type": "slide"
    }
   },
   "source": [
    "## Mongo shell and workshop environment equivalents\n",
    "\n",
    "This workshop environment and the Mongo shell differ in a few ways.\n",
    "\n",
    "Under the hood, this workshop environment is in Python as it runs in a Jupyter Notebook.\n"
   ]
  },
  {
   "cell_type": "markdown",
   "metadata": {
    "slideshow": {
     "slide_type": "slide"
    }
   },
   "source": [
    "## Displaying database names and collections"
   ]
  },
  {
   "cell_type": "markdown",
   "metadata": {
    "slideshow": {
     "slide_type": "subslide"
    }
   },
   "source": [
    "### Shell\n",
    "\n",
    "In the Mongo shell we would use the familiar commands\n",
    "\n",
    "    show dbs\n",
    "    show collections\n",
    "   \n",
    "to show databases and collections."
   ]
  },
  {
   "cell_type": "markdown",
   "metadata": {
    "slideshow": {
     "slide_type": "slide"
    }
   },
   "source": [
    "![shell](assets/shell_show_dbs_and_colls.png)"
   ]
  },
  {
   "cell_type": "markdown",
   "metadata": {
    "slideshow": {
     "slide_type": "slide"
    }
   },
   "source": [
    "### In the Notebook\n",
    "\n",
    "In the workshop environment, you can use the `pymongo` methods `list_database_names()` and `list_collection_names()` to show the same information."
   ]
  },
  {
   "cell_type": "code",
   "execution_count": null,
   "metadata": {
    "scrolled": true,
    "slideshow": {
     "slide_type": "subslide"
    }
   },
   "outputs": [],
   "source": [
    "m_print(client.list_database_names())\n",
    "m_print(mdbw.list_collection_names())"
   ]
  },
  {
   "cell_type": "markdown",
   "metadata": {
    "slideshow": {
     "slide_type": "notes"
    }
   },
   "source": [
    "`m_print` is a utility function that uses a custom JSON encoder and `dumps` from the json package to print out our results in an easier to read format. An optional parameter `justone` can be supplied to print the first result."
   ]
  },
  {
   "cell_type": "markdown",
   "metadata": {
    "slideshow": {
     "slide_type": "slide"
    }
   },
   "source": [
    "## MongoDB Compass\n",
    "\n",
    "Throughout this workshop, you are encouraged to use Compass. With it, you can easily:\n",
    "\n",
    "* Visualize your schema\n",
    "* Tinker with aggregations to visually see the pipeline\n",
    "* Export your aggregations to the clipboard for easy use in the workshop"
   ]
  },
  {
   "cell_type": "markdown",
   "metadata": {
    "slideshow": {
     "slide_type": "notes"
    }
   },
   "source": [
    "Take this time to explain the Compass window by launching Compass on your own computer.\n",
    "\n",
    "Go over the connection screen, the database and collection views, and the various tabs.\n",
    "\n",
    "**Try to time box this to ~10 minutes.**"
   ]
  },
  {
   "cell_type": "markdown",
   "metadata": {
    "slideshow": {
     "slide_type": "slide"
    }
   },
   "source": [
    "## $match\n",
    "\n",
    "The first stage we'll learn about - and arguably most important stage in the Aggregation Framework - is `$match`.\n",
    "Unlike the rest of the stages in the Aggregation Framework, `$match` uses the operator expression syntax you are most likely familiar with."
   ]
  },
  {
   "cell_type": "markdown",
   "metadata": {
    "slideshow": {
     "slide_type": "subslide"
    }
   },
   "source": [
    "    db.course.findOne({\"key\": \"value\"})\n",
    "    "
   ]
  },
  {
   "cell_type": "markdown",
   "metadata": {
    "slideshow": {
     "slide_type": "fragment"
    }
   },
   "source": [
    "    db.course.find({\"key\": { \"$gt\": 5 }})\n",
    "    "
   ]
  },
  {
   "cell_type": "markdown",
   "metadata": {
    "slideshow": {
     "slide_type": "fragment"
    }
   },
   "source": [
    "    db.course.findOne({\"key\": { \"$type\": \"string\" }})"
   ]
  },
  {
   "cell_type": "markdown",
   "metadata": {
    "slideshow": {
     "slide_type": "fragment"
    }
   },
   "source": [
    "    db.courses.find({\"key\": { \"$gte\": 5 }, \"key2\": \"some_exact_value\"})"
   ]
  },
  {
   "cell_type": "markdown",
   "metadata": {
    "slideshow": {
     "slide_type": "notes"
    }
   },
   "source": [
    "These cells correspond to :\n",
    "* A standard equality predicate\n",
    "* A standard range predicate\n",
    "* Using the type as the predicate\n",
    "* Multiple predicates\n",
    "\n",
    "Refer to these examples using this naming."
   ]
  },
  {
   "cell_type": "markdown",
   "metadata": {
    "slideshow": {
     "slide_type": "slide"
    }
   },
   "source": [
    "Let's look at how we'd do it with the standard query syntax using `findOne` (`find_one` in `pymongo`) in our workshop environment."
   ]
  },
  {
   "cell_type": "code",
   "execution_count": null,
   "metadata": {
    "slideshow": {
     "slide_type": "subslide"
    }
   },
   "outputs": [],
   "source": [
    "m_print(student_course.find_one({\"offering\": \"M103/2018_April\"}))"
   ]
  },
  {
   "cell_type": "markdown",
   "metadata": {
    "slideshow": {
     "slide_type": "subslide"
    }
   },
   "source": [
    "Now, let's do it with aggregation, using the `$match` stage."
   ]
  },
  {
   "cell_type": "markdown",
   "metadata": {
    "slideshow": {
     "slide_type": "fragment"
    }
   },
   "source": [
    "But before we do, let's cover some basic rules."
   ]
  },
  {
   "cell_type": "markdown",
   "metadata": {
    "slideshow": {
     "slide_type": "slide"
    }
   },
   "source": [
    "## The Rules (of thumb)"
   ]
  },
  {
   "cell_type": "markdown",
   "metadata": {
    "slideshow": {
     "slide_type": "fragment"
    }
   },
   "source": [
    "### 1. Friends don't let friends write monolithic pipelines.\n",
    "\n",
    "* Assign your stages to semantically meaningful variable names"
   ]
  },
  {
   "cell_type": "markdown",
   "metadata": {
    "slideshow": {
     "slide_type": "notes"
    }
   },
   "source": [
    "The benefits of this are many. \n",
    "* the ability to select which stages to execute\n",
    "* lightening the cognitive workload of understanding the pipeline \n",
    "* better debugability for the individual stages.\n",
    "\n",
    "Pipelines can become very long and it's easy to forget what a particularly complex stage does when followed by several other equally complex stages."
   ]
  },
  {
   "cell_type": "markdown",
   "metadata": {
    "slideshow": {
     "slide_type": "fragment"
    }
   },
   "source": [
    "### 2. Always keep a reference tab open to the [Aggregation Quick Reference](https://docs.mongodb.com/manual/meta/aggregation-quick-reference/)"
   ]
  },
  {
   "cell_type": "markdown",
   "metadata": {
    "slideshow": {
     "slide_type": "fragment"
    }
   },
   "source": [
    "* There are entirely too many stages and expressions available to try to remember\n",
    "* The stages and expressions linked on this page show examples on how to use them!"
   ]
  },
  {
   "cell_type": "markdown",
   "metadata": {
    "slideshow": {
     "slide_type": "slide"
    }
   },
   "source": [
    "Ok - now that the ceremony is out of the way - using the `$match` stage."
   ]
  },
  {
   "cell_type": "code",
   "execution_count": null,
   "metadata": {
    "slideshow": {
     "slide_type": "slide"
    }
   },
   "outputs": [],
   "source": [
    "predicate = {\n",
    "    \"$match\": {\n",
    "        \"offering\": \"M103/2018_April\"\n",
    "    }\n",
    "}\n",
    "\n",
    "# .next() is a Python/pymongo specific thing\n",
    "m_print(student_course.aggregate([predicate]).next())"
   ]
  },
  {
   "cell_type": "markdown",
   "metadata": {
    "slideshow": {
     "slide_type": "notes"
    }
   },
   "source": [
    "`.next()` is a Python/pymongo feature to iterate the cursor element by element.\n",
    "\n",
    "It's like shifting off the first element in a list and using the value.\n",
    "\n",
    "The benefit of using this approach is that it doesn't consume the entire cursor."
   ]
  },
  {
   "cell_type": "markdown",
   "metadata": {
    "slideshow": {
     "slide_type": "slide"
    }
   },
   "source": [
    "The `$match` stage in the Compass Aggregation Builder."
   ]
  },
  {
   "cell_type": "markdown",
   "metadata": {
    "slideshow": {
     "slide_type": "slide"
    }
   },
   "source": [
    "![compass_match](assets/compass_match.png)"
   ]
  },
  {
   "cell_type": "markdown",
   "metadata": {
    "slideshow": {
     "slide_type": "slide"
    }
   },
   "source": [
    "Let's look at the flow of the Aggregation Builder in Compass to get a sense of what is going on."
   ]
  },
  {
   "cell_type": "markdown",
   "metadata": {
    "slideshow": {
     "slide_type": "slide"
    }
   },
   "source": [
    "![agg_explanation](assets/compass_explanation.png)"
   ]
  },
  {
   "cell_type": "markdown",
   "metadata": {
    "slideshow": {
     "slide_type": "notes"
    }
   },
   "source": [
    "#### Reinforce to students:\n",
    "* Input documents flow in from the previous stage\n",
    "  * If it is the first stage, input documents flow in from the collection\n",
    "* The stage transforms the document stream in some way.\n",
    "* This process repeats until the final stage."
   ]
  },
  {
   "cell_type": "markdown",
   "metadata": {
    "slideshow": {
     "slide_type": "slide"
    }
   },
   "source": [
    "## Think of `$match` as a filter!\n",
    "\n"
   ]
  },
  {
   "cell_type": "markdown",
   "metadata": {
    "slideshow": {
     "slide_type": "fragment"
    }
   },
   "source": [
    "As documents flow into the `$match` stage, those that don't meet the predicate(s) will be \"filtered\" out."
   ]
  },
  {
   "cell_type": "markdown",
   "metadata": {
    "slideshow": {
     "slide_type": "fragment"
    }
   },
   "source": [
    "`$match` should come early and often in your Aggregation pipelines. Only work with the data you need."
   ]
  },
  {
   "cell_type": "markdown",
   "metadata": {
    "slideshow": {
     "slide_type": "slide"
    }
   },
   "source": [
    "![agg_factor](assets/agg_factory.gif)"
   ]
  },
  {
   "cell_type": "markdown",
   "metadata": {
    "slideshow": {
     "slide_type": "notes"
    }
   },
   "source": [
    "#### Address the following questions/topics:\n",
    "\n",
    "- Why think of `$match` as filter?\n",
    "\n",
    "Think of an Aggregation Pipeline like an assembly line where documents pass through stations.\n",
    "\n",
    "- Each \"station\" is a stage.\n",
    "\n",
    "- In this example, the first stage is `$match`, and it is set up to filter out anything green.\n",
    "\n",
    "- The second stage is `$project`, and it is set up to transform the shape from square to circle.\n",
    "\n",
    "- The third stage is `$group`, and it is set up to collect all input and give us a ratio of red to blue circles."
   ]
  },
  {
   "cell_type": "markdown",
   "metadata": {
    "slideshow": {
     "slide_type": "subslide"
    }
   },
   "source": [
    "## Exercise: `$match`\n",
    "\n",
    "For this exercise, find all documents that match the following criteria:\n",
    "\n",
    "* **offering** is either *\"M103/2018_April\"* _or_ *\"M121/2018_April\"*\n",
    "* **user_id** is greater than or equal to **75000** and less than **150000**\n",
    "\n",
    "The print statements are provided for you to display your results."
   ]
  },
  {
   "cell_type": "code",
   "execution_count": null,
   "metadata": {
    "slideshow": {
     "slide_type": "fragment"
    }
   },
   "outputs": [],
   "source": [
    "predicate = {\n",
    "    \"$match\": {\n",
    "        <your code here!!>\n",
    "    }\n",
    "}\n",
    "m_len(collection=student_course, aggregation=[predicate])\n",
    "\n",
    "m_print(student_course.aggregate([predicate]))"
   ]
  },
  {
   "cell_type": "markdown",
   "metadata": {
    "slideshow": {
     "slide_type": "notes"
    }
   },
   "source": [
    "\n",
    "``` \n",
    "   predicate = {\n",
    "        \"$match\": {\n",
    "            \"offering\": { \"$in\": [\"M103/2018_April\", \"M121/2018_April\"] },\n",
    "            \"user_id\": { \"$gte\": 75000, \"$lt\": 150000 }\n",
    "        }\n",
    "    }\n",
    "```\n",
    "\n",
    "Students should get **88**\n",
    "\n",
    "`m_len` is a utility function to print out how many results we get. Internally it just appends the `$count` stage to an aggregation."
   ]
  },
  {
   "cell_type": "markdown",
   "metadata": {
    "slideshow": {
     "slide_type": "slide"
    }
   },
   "source": [
    "## Solution: `$match`"
   ]
  },
  {
   "cell_type": "code",
   "execution_count": null,
   "metadata": {
    "slideshow": {
     "slide_type": "subslide"
    }
   },
   "outputs": [],
   "source": [
    "# %load fragments/match_exercise.py\n",
    "predicate = {\n",
    "    \"$match\": {\n",
    "        \"offering\": { \"$in\": [\"M103/2018_April\", \"M121/2018_April\"] },\n",
    "        \"user_id\": { \"$gte\": 75000, \"$lt\": 150000 }\n",
    "    }\n",
    "}\n"
   ]
  },
  {
   "cell_type": "code",
   "execution_count": null,
   "metadata": {
    "slideshow": {
     "slide_type": "subslide"
    }
   },
   "outputs": [],
   "source": [
    "m_len(collection=student_course, aggregation=[predicate])\n"
   ]
  },
  {
   "cell_type": "markdown",
   "metadata": {
    "slideshow": {
     "slide_type": "slide"
    }
   },
   "source": [
    "## Expressions\n",
    "\n",
    "The next area we'll cover is expressions. If stages like `$match`, `$project`, and `$group` are the assembly stations of an aggregation pipeline, expressions are the individual tools at each station."
   ]
  },
  {
   "cell_type": "markdown",
   "metadata": {
    "slideshow": {
     "slide_type": "subslide"
    }
   },
   "source": [
    "Expressions are functions. With them we can add, multiply, get square roots, join sets, and much, much more. Here are functionally identical examples of a function called add.\n",
    "\n",
    "- Python Syntax\n",
    "\n",
    "```python\n",
    "    def add(a, b):\n",
    "        return a + b\n",
    "```\n",
    "\n",
    "- JavaScript Syntax\n",
    "\n",
    "```javascript\n",
    "    function add(a, b) {\n",
    "      return a + b\n",
    "    }\n",
    "```\n",
    "\n",
    "- Aggregation Syntax\n",
    "\n",
    "```js\n",
    "    { \"$add\": [ \"$a\", \"$b\" ] }\n",
    "```"
   ]
  },
  {
   "cell_type": "markdown",
   "metadata": {
    "slideshow": {
     "slide_type": "slide"
    }
   },
   "source": [
    "Here's another example for a function called `floor`, which floors the input to the next lowest integer value.\n",
    "\n",
    "Python:\n",
    "\n",
    "```python\n",
    "    def floor(a):\n",
    "        return int(a)\n",
    "```\n",
    "\n",
    "JavaScript:\n",
    "\n",
    "```javascript\n",
    "    function floor(a) {\n",
    "      return a | 0\n",
    "    }\n",
    "```\n",
    "\n",
    "Aggregation:\n",
    "\n",
    "```json\n",
    "    { \"$floor\": \"$a\" }\n",
    "```"
   ]
  },
  {
   "cell_type": "markdown",
   "metadata": {
    "slideshow": {
     "slide_type": "slide"
    }
   },
   "source": [
    "And just like functions, expressions can be composed together. Currently there is no round function in the Aggregation Framework, but it's easy to make.\n",
    "\n",
    "    { \"$floor\": { \"$add\": [ \"$a\", 0.5 ] } }"
   ]
  },
  {
   "cell_type": "markdown",
   "metadata": {
    "slideshow": {
     "slide_type": "notes"
    }
   },
   "source": [
    "Adding `0.5` to a number and then flooring it will produce a rounding result.\n",
    "\n",
    "```\n",
    ".4 + .5 -> .9 -> floor(.9) -> 0\n",
    ".5 + .5 -> 1 -> floor(1) -> 1\n",
    ".9 + .5 -> 1.4 -> floor(1.4) -> 1\n",
    "```\n",
    "\n",
    "There is a unit test on the next slide to show this works"
   ]
  },
  {
   "cell_type": "code",
   "execution_count": null,
   "metadata": {
    "slideshow": {
     "slide_type": "fragment"
    }
   },
   "outputs": [],
   "source": [
    "import numpy as np\n",
    "def round(a):\n",
    "       return int(a + 0.5)\n",
    "    \n",
    "expected = [0, 0, 0, 0, 0, 1, 1, 1, 1, 1, 1, 1, 1, 1, 1, 2, 2, 2, 2, 2]\n",
    "actual = [round(a) for a in np.arange(0.0, 2.0, 0.1)]\n",
    "assert actual == expected\n",
    "# print([a for a in np.arange(0.0, 2.0, 0.1)])"
   ]
  },
  {
   "cell_type": "markdown",
   "metadata": {
    "slideshow": {
     "slide_type": "notes"
    }
   },
   "source": [
    "Here we're using a utility function from the `numpy` library called `arange` to give ourselves values from `0` to `1.9`, increasing by `0.1`\n",
    "\n",
    "We pass each value through our round function to show that function composition gives us the value we want.\n",
    "\n",
    "Feel free to have students uncomment the print line to see the list produced from `arange`."
   ]
  },
  {
   "cell_type": "markdown",
   "metadata": {
    "slideshow": {
     "slide_type": "slide"
    }
   },
   "source": [
    "Let's take a closer look at our custom `round` expression to get a feel for aggregation semantics.\n",
    "\n",
    "    { \"$floor\": { \"$add\": [ \"$a\", 0.5 ] } }"
   ]
  },
  {
   "cell_type": "markdown",
   "metadata": {
    "slideshow": {
     "slide_type": "subslide"
    }
   },
   "source": [
    "    { \"$floor\": { \"$add\": [ \"$a\", 0.5 ] } }\n",
    "    ^           ^                       ^ ^\n",
    "    \n",
    "Unless an expression is entirely self contained, it is surrounded by curly brackets. These delimit the scope of the expression.\n",
    "\n",
    "Expressions are evaluated from the inside out. So, the `$add` expression is evaluated before the `$floor` expression."
   ]
  },
  {
   "cell_type": "markdown",
   "metadata": {
    "slideshow": {
     "slide_type": "subslide"
    }
   },
   "source": [
    "    { \"$floor\": { \"$add\": [ \"$a\", 0.5 ] } }\n",
    "                          ^           ^\n",
    "\n",
    "As a general rule, expressions that take multiple arguments accept them in an array. Some expressions only accept 1 or 2 arguments, like `$subtract`, while others are variadic (number of arguments isn't fixed), like `$add`."
   ]
  },
  {
   "cell_type": "markdown",
   "metadata": {
    "slideshow": {
     "slide_type": "subslide"
    }
   },
   "source": [
    "    { \"$floor\": { \"$add\": [ \"$a\", 0.5 ] } }\n",
    "                              ^\n",
    "                              \n",
    "Lastly, let's cover field path expressions. Field path expressions are self contained, hence there's no need to surround them with curly braces when composing them with other expressions or using them to supply an argument to an expression.\n",
    "\n",
    "Field path expressions refer to a value in the current document. In our custom `round` expression, `\"$a\"` refers to the value in the current document that has a key of **a**. "
   ]
  },
  {
   "cell_type": "markdown",
   "metadata": {
    "slideshow": {
     "slide_type": "notes"
    }
   },
   "source": [
    "\n",
    "We will look into more detail ahead but reinforce that field path expressions allow you to use values of incoming document fields in the expressions/stages. \n",
    "\n",
    "Field path expressions will be covered in more depth in the upcoming sections.\n"
   ]
  },
  {
   "cell_type": "markdown",
   "metadata": {
    "slideshow": {
     "slide_type": "slide"
    }
   },
   "source": [
    "## Expression \"Categories\"\n",
    "\n",
    "There are many built-in expressions in the Aggregation Framework that fall into several categories."
   ]
  },
  {
   "cell_type": "markdown",
   "metadata": {
    "slideshow": {
     "slide_type": "subslide"
    }
   },
   "source": [
    "![expression categories](assets/expression-categories.png)"
   ]
  },
  {
   "cell_type": "markdown",
   "metadata": {
    "slideshow": {
     "slide_type": "notes"
    }
   },
   "source": [
    "Walk students through the main groups, however don't spend too much time on it, just a couple of examples don't go through the extended list\n",
    "\n",
    "* Arithmetic - add, subtract, divide, multiply, square root, etc...\n",
    "* Array - filter, map, reduce, arrayElemAt, etc...\n",
    "* Boolean - and, or, not\n",
    "* Comparison - eq, ne, gte, lte, etc...\n",
    "* Conditional - switch, cond, isNull\n",
    "* Date - dayOfWeek, dayOfMonth, month, second, etc...\n",
    "* Object - objectToArray, mergeObjects,\n",
    "* Set - setUnion, setIntersection, setDifference\n",
    "* String - substr, indexOfCP, concat, etc...\n",
    "* Accumulators - avg, min, max, stdDevPop, etc..."
   ]
  },
  {
   "cell_type": "markdown",
   "metadata": {
    "slideshow": {
     "slide_type": "slide"
    }
   },
   "source": [
    "The best way to learn is by doing. We'll be using expressions heavily throughout this workshop, and pointing out interesting functionality as we go.\n",
    "\n",
    "Remember:\n",
    "\n",
    "* Expressions are just functions\n",
    "* Expressions can be composed together to form complex and powerful logic.\n",
    "* Refer to the [aggregation quick reference](https://docs.mongodb.com/manual/meta/aggregation-quick-reference/) often!"
   ]
  },
  {
   "cell_type": "markdown",
   "metadata": {
    "slideshow": {
     "slide_type": "notes"
    }
   },
   "source": [
    "We are now transitioning into coverage of `$addFields` stage."
   ]
  },
  {
   "cell_type": "markdown",
   "metadata": {
    "slideshow": {
     "slide_type": "slide"
    }
   },
   "source": [
    "## Calculating values and storing them for later use"
   ]
  },
  {
   "cell_type": "markdown",
   "metadata": {
    "slideshow": {
     "slide_type": "subslide"
    }
   },
   "source": [
    "Let's consider the following document\n",
    "\n",
    "    {\n",
    "        name: \"John Smith\",\n",
    "        yearly_income: 60000,\n",
    "        dependents: 3\n",
    "    }\n",
    "    \n",
    "We'd like to engineer a feature, a derived point of data. In Aggregation, we call these **computed fields**. The field should be called **income_pressure**, and is simply the `yearly_income` divided by the number of dependents plus 1 to account for John Smith himself.\n",
    "\n",
    "    income_pressure = yearly_income / (dependents + 1)"
   ]
  },
  {
   "cell_type": "markdown",
   "metadata": {
    "slideshow": {
     "slide_type": "notes"
    }
   },
   "source": [
    "We use two field path expressions to refer to values directly in the document, `$yearly_income` and `$dependents`.\n",
    "\n",
    "Because expressions are evaluated inside out, the value of `$dependents` is inserted into position, then 1 is added to that.\n",
    "\n",
    "The resultant value is put in place of the entire `$add` expression, so in our example the value 4 is now there. Then, the value of `yearly_income` is put into place (60000)\n",
    "\n",
    "Lastly, the `$divide` expression is evaluated. 60000 / 4 == 15000. 15000 is returned from this expression composition.\n",
    "\n",
    "    { $divide : [ \"$yearly_income\",  {\"$add\": [ \"$dependents\", 1 ] }  ] }"
   ]
  },
  {
   "cell_type": "markdown",
   "metadata": {
    "slideshow": {
     "slide_type": "subslide"
    }
   },
   "source": [
    "    { \"$divide\": [ \"$yearly_income\", { \"$add\": [ \"$dependents\", 1 ] } ] }\n",
    "    \n",
    "The above expresses the logic we want, first adding one to the value of **dependents**, then using that amount to divide the value in **yearly_income**.\n",
    "\n",
    "**How do we now assign this value to a field in the document for use in later stages?**"
   ]
  },
  {
   "cell_type": "markdown",
   "metadata": {
    "slideshow": {
     "slide_type": "notes"
    }
   },
   "source": [
    "Make sure students understand what \"_assigning this value to a field in the document_\" means. \n",
    "\n",
    "We are asking them to set the value to a new field so it can be use in later pipeline stages. "
   ]
  },
  {
   "cell_type": "markdown",
   "metadata": {
    "slideshow": {
     "slide_type": "slide"
    }
   },
   "source": [
    "## `$addFields`\n",
    "\n",
    "One possible solution is to use the `$addFields` stage.\n",
    "\n",
    "`$addFields` - and `$project`, which you'll learn about in the next section - should be considered a main transformative stage, akin to `map` in many programming languages.\n",
    "\n",
    "Put simply, `$addFields` adds fields to the existing document, or modifies existing fields."
   ]
  },
  {
   "cell_type": "markdown",
   "metadata": {
    "slideshow": {
     "slide_type": "subslide"
    }
   },
   "source": [
    "Here's what the `$addFields` stage would look like to calculate and assign the value from the previous expression to a field called **income_pressure**"
   ]
  },
  {
   "cell_type": "markdown",
   "metadata": {
    "slideshow": {
     "slide_type": "fragment"
    }
   },
   "source": [
    "```\n",
    "{\n",
    "    \"$addFields\": {\n",
    "        \"income_pressure\": {\n",
    "            \"$divide\": [\n",
    "                \"$yearly_income\",\n",
    "                { \"$add\": [ \"$dependents\", 1 ] }\n",
    "            ]\n",
    "        }\n",
    "    }\n",
    "}\n",
    "```"
   ]
  },
  {
   "cell_type": "markdown",
   "metadata": {
    "slideshow": {
     "slide_type": "slide"
    }
   },
   "source": [
    "## `$addFields` Exercise 1\n",
    "\n",
    "Let's give it a try! Use your initials or nickname for the collection name making a collection handle."
   ]
  },
  {
   "cell_type": "code",
   "execution_count": null,
   "metadata": {
    "slideshow": {
     "slide_type": "subslide"
    }
   },
   "outputs": [],
   "source": [
    "%%capture\n",
    "my_coll = workshop.mongonathan\n",
    "my_coll.drop()\n",
    "my_coll.insert_one({\"name\": \"John Smith\", \"yearly_income\": 60000, \"dependents\": 3})"
   ]
  },
  {
   "cell_type": "markdown",
   "metadata": {
    "slideshow": {
     "slide_type": "notes"
    }
   },
   "source": [
    "`%%capture` supresses the output of the cell\n",
    "\n",
    "We are using the drop method to ensure what we insert is the only document in the collection."
   ]
  },
  {
   "cell_type": "code",
   "execution_count": null,
   "metadata": {
    "slideshow": {
     "slide_type": "slide"
    }
   },
   "outputs": [],
   "source": [
    "income_pressure = {\n",
    "    \"$addFields\": {\n",
    "        \"income_pressure\": <your code here!!>\n",
    "    }\n",
    "}\n",
    "m_print(my_coll.aggregate([income_pressure]).next())"
   ]
  },
  {
   "cell_type": "markdown",
   "metadata": {
    "slideshow": {
     "slide_type": "notes"
    }
   },
   "source": [
    "This is what the stage should look like:\n",
    "\n",
    "```\n",
    "income_pressure = {\n",
    "    \"$addFields\": {\n",
    "        \"income_pressure\": {\n",
    "            \"$divide\": [\n",
    "                \"$yearly_income\",\n",
    "                { \"$add\": [ \"$dependents\", 1 ] }\n",
    "            ]\n",
    "        }\n",
    "    }\n",
    "}\n",
    "```"
   ]
  },
  {
   "cell_type": "markdown",
   "metadata": {
    "slideshow": {
     "slide_type": "slide"
    }
   },
   "source": [
    "## `$addFields` Exercise 2\n",
    "\n",
    "For this exercise, you'll use expressions from the **Accumulator** family to accumulate results, and assigning the results to a computed field in an `$addFields` stage.\n",
    "\n",
    "Given the following document..."
   ]
  },
  {
   "cell_type": "code",
   "execution_count": null,
   "metadata": {
    "slideshow": {
     "slide_type": "slide"
    }
   },
   "outputs": [],
   "source": [
    "%%capture\n",
    "yearly_sales_2016 = [\n",
    "    { \"quarter\": 1, \"sales\": 8675309 },\n",
    "    { \"quarter\": 2, \"sales\": 6309212 },\n",
    "    { \"quarter\": 3, \"sales\": 9755867 },\n",
    "    { \"quarter\": 4, \"sales\": 8812392 }\n",
    "]\n",
    "yearly_sales_2017 = [\n",
    "    { \"quarter\": 1, \"sales\": 8027581 },\n",
    "    { \"quarter\": 2, \"sales\": 7792839 },\n",
    "    { \"quarter\": 3, \"sales\": 6690023 },\n",
    "    { \"quarter\": 4, \"sales\": 10023977 }\n",
    "]\n",
    "my_coll.drop()\n",
    "my_coll.insert_many([\n",
    "    {\"year\": 2016, \"yearly_sales\": yearly_sales_2016},\n",
    "    {\"year\": 2017, \"yearly_sales\": yearly_sales_2017}\n",
    "])"
   ]
  },
  {
   "cell_type": "markdown",
   "metadata": {
    "slideshow": {
     "slide_type": "notes"
    }
   },
   "source": [
    "We're creating some fake data and assigning it to variables `yearly_sales_2016` and `yearly_sales_2017`.\n",
    "\n",
    "We then insert two documents into our test collection with a year key and our fake data corresponding to that year."
   ]
  },
  {
   "cell_type": "markdown",
   "metadata": {
    "slideshow": {
     "slide_type": "slide"
    }
   },
   "source": [
    "Calculate the following:\n",
    "* The average quarterly sales. Add this value to a new field called **avg_quarterly_sales**\n",
    "* The total yearly sales. Add this value to a new field called **total_yearly_sales**"
   ]
  },
  {
   "cell_type": "code",
   "execution_count": null,
   "metadata": {
    "slideshow": {
     "slide_type": "slide"
    }
   },
   "outputs": [],
   "source": [
    "add_sales_information = {\n",
    "    \"$addFields\": {\n",
    "        \"avg_quarterly_sales\": <your code here!>,\n",
    "        \"total_yearly_sales\": <your code here!>\n",
    "    }\n",
    "}\n",
    "m_print(my_coll.aggregate([add_sales_information]))"
   ]
  },
  {
   "cell_type": "markdown",
   "metadata": {
    "slideshow": {
     "slide_type": "notes"
    }
   },
   "source": [
    "This is how the second `$addFields` stage can look like:\n",
    "\n",
    "```\n",
    "add_sales_information = {\n",
    "    \"$addFields\": {\n",
    "        \"avg_quarterly_sales\": { \"$avg\": \"$yearly_sales.sales\" },\n",
    "        \"total_yearly_sales\": { \"$sum\": \"$yearly_sales.sales\" }\n",
    "    }\n",
    "}\n",
    "```"
   ]
  },
  {
   "cell_type": "markdown",
   "metadata": {
    "slideshow": {
     "slide_type": "slide"
    }
   },
   "source": [
    "## Solution\n"
   ]
  },
  {
   "cell_type": "code",
   "execution_count": null,
   "metadata": {
    "slideshow": {
     "slide_type": "subslide"
    }
   },
   "outputs": [],
   "source": [
    "%load fragments/addFields.py"
   ]
  },
  {
   "cell_type": "markdown",
   "metadata": {
    "slideshow": {
     "slide_type": "subslide"
    }
   },
   "source": [
    "### A note about field path expressions\n",
    "\n",
    "As you can see, field path expressions are incredibly versatile.\n",
    "\n",
    "We can use dot notation (.) in a field path to specify a child key.\n",
    "\n",
    "If the field we specify is an array of documents like **yearly_sales** is, the field path expression\n",
    "`\"$yearly_sales.sales\"` will extract the value at that key for every document in the array.\n",
    "\n",
    "Let's look at a quick example to illustrate this."
   ]
  },
  {
   "cell_type": "code",
   "execution_count": null,
   "metadata": {
    "slideshow": {
     "slide_type": "subslide"
    }
   },
   "outputs": [],
   "source": [
    "just_sales = {\n",
    "    \"$addFields\": {\n",
    "        \"just_sales\": \"$yearly_sales.sales\"\n",
    "    }\n",
    "}\n",
    "m_print(my_coll.aggregate([just_sales]))"
   ]
  },
  {
   "cell_type": "markdown",
   "metadata": {
    "slideshow": {
     "slide_type": "slide"
    }
   },
   "source": [
    "### Assigning a computed value to an existing field\n",
    "\n",
    "If we specify the name of an existing field within `$addFields`, the computed value will replace the existing value in the pipeline.\n",
    "\n",
    "An example follows showing assigning only the sales values to the field **yearly_sales**"
   ]
  },
  {
   "cell_type": "code",
   "execution_count": null,
   "metadata": {
    "slideshow": {
     "slide_type": "subslide"
    }
   },
   "outputs": [],
   "source": [
    "yearly_sales = {\n",
    "    \"$addFields\": {\n",
    "        \"yearly_sales\": \"$yearly_sales.sales\"\n",
    "    }\n",
    "}\n",
    "m_print(my_coll.aggregate([yearly_sales]))"
   ]
  },
  {
   "cell_type": "markdown",
   "metadata": {
    "slideshow": {
     "slide_type": "notes"
    }
   },
   "source": [
    "Because the key `yearly_sales` already exists, specifying it as the target of the expression result overwrites the existing value.\n",
    "\n",
    "Stress to students that all of these transformations are taking place only within the pipeline, and they do not impact documents on disk. While it is possible to write using the `$out` stage, that will come later in the workshop."
   ]
  },
  {
   "cell_type": "markdown",
   "metadata": {
    "slideshow": {
     "slide_type": "slide"
    }
   },
   "source": [
    "## `$project`\n",
    "\n",
    "You've now seen the basics of computing fields with expressions and transformation by either overwriting existing keys or assigning computed values to new keys with `$addFields`.\n",
    "\n",
    "Another stage that is **very** similar to `$addFields` is the `$project` stage, but there are some nuanced differences.\n",
    "\n",
    "Let's explore the similarities and differences."
   ]
  },
  {
   "cell_type": "markdown",
   "metadata": {
    "slideshow": {
     "slide_type": "subslide"
    }
   },
   "source": [
    "`$project` is also capable of document transformation by computing fields.\n",
    "Using an answer to a previous exercise, we'll use a `$project` stage to illustrate a key difference."
   ]
  },
  {
   "cell_type": "code",
   "execution_count": null,
   "metadata": {
    "slideshow": {
     "slide_type": "subslide"
    }
   },
   "outputs": [],
   "source": [
    "add_sales_information = {\n",
    "    \"$project\": {\n",
    "        \"avg_quarterly_sales\": { \"$avg\": \"$yearly_sales.sales\" },\n",
    "        \"total_yearly_sales\": { \"$sum\": \"$yearly_sales.sales\" }\n",
    "    }\n",
    "}\n",
    "m_print(my_coll.aggregate([add_sales_information]))"
   ]
  },
  {
   "cell_type": "markdown",
   "metadata": {
    "slideshow": {
     "slide_type": "notes"
    }
   },
   "source": [
    "If necessary, point out that aside from the **_id** field, all of the other fields except those specified are now absent from the documents.\n",
    "\n",
    "The `$project` stage also implictly functions like the projection portion of a standard query."
   ]
  },
  {
   "cell_type": "markdown",
   "metadata": {
    "slideshow": {
     "slide_type": "slide"
    }
   },
   "source": [
    "As you can see, all other fields except those we specified were removed from the documents except the **`_id`** field.\n",
    "\n",
    "`$project` also implicitly has the functionality of the project mechanics like those in standard query operations.\n",
    "\n",
    "We must be explicit to remove the **`_id`** field."
   ]
  },
  {
   "cell_type": "code",
   "execution_count": null,
   "metadata": {
    "slideshow": {
     "slide_type": "subslide"
    }
   },
   "outputs": [],
   "source": [
    "add_sales_information = {\n",
    "    \"$project\": {\n",
    "        \"_id\": 0,\n",
    "        \"avg_quarterly_sales\": { \"$avg\": \"$yearly_sales.sales\" },\n",
    "        \"total_yearly_sales\": { \"$sum\": \"$yearly_sales.sales\" }\n",
    "    }\n",
    "}\n",
    "m_print(my_coll.aggregate([add_sales_information]))"
   ]
  },
  {
   "cell_type": "markdown",
   "metadata": {
    "slideshow": {
     "slide_type": "subslide"
    }
   },
   "source": [
    "If we only want to remove fields, we can specify to do so identically to how we just specified to remove the **`_id`** field.\n",
    "\n",
    "However, there is one caveat to this."
   ]
  },
  {
   "cell_type": "code",
   "execution_count": null,
   "metadata": {
    "slideshow": {
     "slide_type": "subslide"
    }
   },
   "outputs": [],
   "source": [
    "# will work\n",
    "remove_id_and_sales = {\n",
    "    \"$project\": {\n",
    "        \"_id\": 0,\n",
    "        \"yearly_sales\": 0\n",
    "    }\n",
    "}\n",
    "m_print(my_coll.aggregate([remove_id_and_sales]))"
   ]
  },
  {
   "cell_type": "code",
   "execution_count": null,
   "metadata": {
    "slideshow": {
     "slide_type": "subslide"
    }
   },
   "outputs": [],
   "source": [
    "# won't work!\n",
    "transform = {\n",
    "    \"$project\": {\n",
    "        \"_id\": 0,\n",
    "        \"yearly_sales\": 0,\n",
    "        \"avg_quarterly_sales\": { \"$avg\": \"$yearly_sales.sales\" },\n",
    "        \"total_yearly_sales\": { \"$sum\": \"$yearly_sales.sales\" },\n",
    "        \"year\": 1\n",
    "    }\n",
    "}\n",
    "m_print(my_coll.aggregate([transform]))"
   ]
  },
  {
   "cell_type": "markdown",
   "metadata": {
    "slideshow": {
     "slide_type": "notes"
    }
   },
   "source": [
    "This will fail because we can't mix and match field exclusion when specifying inclusion or computing fields.\n",
    "\n",
    "The only field we can exclude when computing fields or specifying inclusion is the **`_id`** field."
   ]
  },
  {
   "cell_type": "markdown",
   "metadata": {
    "slideshow": {
     "slide_type": "subslide"
    }
   },
   "source": [
    "## Exercise\n",
    "\n",
    "Given the previous `$project` stage and a desire for the following shape\n",
    "\n",
    "    {\n",
    "        avg_quarterly_sales: ...,\n",
    "        total_yearly_sales: ...,\n",
    "        year: ...\n",
    "    }\n",
    "    \n",
    "Correct the stage to output the desired shape."
   ]
  },
  {
   "cell_type": "code",
   "execution_count": null,
   "metadata": {
    "slideshow": {
     "slide_type": "subslide"
    }
   },
   "outputs": [],
   "source": [
    "transform = {\n",
    "    \"$project\": {\n",
    "        \"_id\": 0,\n",
    "        \"yearly_sales\": 0,\n",
    "        \"avg_quarterly_sales\": { \"$avg\": \"$yearly_sales.sales\" },\n",
    "        \"total_yearly_sales\": { \"$sum\": \"$yearly_sales.sales\" },\n",
    "        \"year\": 1\n",
    "    }\n",
    "}\n",
    "m_print(my_coll.aggregate([transform]))"
   ]
  },
  {
   "cell_type": "markdown",
   "metadata": {
    "slideshow": {
     "slide_type": "notes"
    }
   },
   "source": [
    "Solution - remove the yearly_sales exclusion\n",
    "\n",
    "```\n",
    "transform = {\n",
    "    \"$project\": {\n",
    "        \"_id\": 0,\n",
    "        \"avg_quarterly_sales\": { \"$avg\": \"$yearly_sales.sales\" },\n",
    "        \"total_yearly_sales\": { \"$sum\": \"$yearly_sales.sales\" },\n",
    "        \"year\": 1\n",
    "    }\n",
    "}\n",
    "```"
   ]
  },
  {
   "cell_type": "markdown",
   "metadata": {
    "slideshow": {
     "slide_type": "subslide"
    }
   },
   "source": [
    "## Solution\n",
    "\n",
    "Remove the exclusion for **yearly_sales**"
   ]
  },
  {
   "cell_type": "code",
   "execution_count": null,
   "metadata": {
    "slideshow": {
     "slide_type": "fragment"
    }
   },
   "outputs": [],
   "source": [
    "transform = {\n",
    "    \"$project\": {\n",
    "        \"_id\": 0,\n",
    "        \"avg_quarterly_sales\": { \"$avg\": \"$yearly_sales.sales\" },\n",
    "        \"total_yearly_sales\": { \"$sum\": \"$yearly_sales.sales\" },\n",
    "        \"year\": 1\n",
    "    }\n",
    "}\n",
    "m_print(my_coll.aggregate([transform]))"
   ]
  },
  {
   "cell_type": "markdown",
   "metadata": {
    "slideshow": {
     "slide_type": "slide"
    }
   },
   "source": [
    "## `$addFields` vs `$project`\n",
    "\n",
    "Let's summarize the similarities and differences between `$addFields` and `$project`"
   ]
  },
  {
   "cell_type": "markdown",
   "metadata": {
    "slideshow": {
     "slide_type": "subslide"
    }
   },
   "source": [
    "![project-vs-addfields](assets/project-vs-addfields.png)"
   ]
  },
  {
   "cell_type": "markdown",
   "metadata": {
    "slideshow": {
     "slide_type": "notes"
    }
   },
   "source": [
    "Both stages are capable of computing values.\n",
    "\n",
    "The main difference is in the projection mechanics. `$project` can explicitly include/exclude fields, and will implicitly perform exclusion of all unspecified fields when computing a value except for the `_id` field.\n",
    "\n",
    "As a general rule, prefer `$addFields` when you wish to only add a new computed value to the document or reassign an existing field without modifying other fields."
   ]
  },
  {
   "cell_type": "markdown",
   "metadata": {
    "slideshow": {
     "slide_type": "notes"
    }
   },
   "source": [
    "# Timing\n",
    "\n",
    "In previous deliveries this is where the first 15 minute break occurred."
   ]
  },
  {
   "cell_type": "markdown",
   "metadata": {
    "slideshow": {
     "slide_type": "slide"
    }
   },
   "source": [
    "# Data Cleansing\n",
    "\n",
    "Let's begin by getting student scores on problems offered on MongoDB university.\n",
    "\n",
    "A large part of \"data science\" is cleaning and transorming data into a usable form. We'll now begin work to transform a collection into a more usable form, throwing away data we're not interested in."
   ]
  },
  {
   "cell_type": "markdown",
   "metadata": {
    "slideshow": {
     "slide_type": "slide"
    }
   },
   "source": [
    "## Initial Exploration\n",
    "\n",
    "Begin by opening MongoDB Compass and connecting to the **mdbw** database.\n",
    "\n",
    "We'll initially be working with the **student_course** collection. Explore the schema and poke around within invidual documents to get a sense of the layout."
   ]
  },
  {
   "cell_type": "markdown",
   "metadata": {
    "slideshow": {
     "slide_type": "notes"
    }
   },
   "source": [
    "At this point, open Compass and walk through the collection with students. This is a critical point to shape student's understanding of the problem. Spend roughly 10-15 minutes. Any collection with **etl** and the **correlated_answers** collection do not need to be shown.\n",
    "\n",
    "Be sure to visit\n",
    "* The Schema tab\n",
    "* The Documents tab\n",
    "\n",
    "Point out the nesting.\n",
    "\n",
    "**tab_map** is where the student's submissions to problems are stored. \n",
    "\n",
    "Unfortunately, **tab_map** may be an empty object. We're going to filter out documents with an empty **tab_map** object."
   ]
  },
  {
   "cell_type": "markdown",
   "metadata": {
    "slideshow": {
     "slide_type": "subslide"
    }
   },
   "source": [
    "To begin with, we'll want to filter out those documents that have an empty **tab_map**. Each document has a **tab_map** entry, but some are empty.\n",
    "\n",
    "    ...,\n",
    "    tab_map: {},\n",
    "    ...\n",
    "\n",
    "To make it more interesting, there isn't a universal property within **tab_map** that we can check either. The entries in **tab_map** are the ids of gradeable problems. This makes the following impossible\n"
   ]
  },
  {
   "cell_type": "markdown",
   "metadata": {
    "slideshow": {
     "slide_type": "subslide"
    }
   },
   "source": [
    "```\n",
    "student_course.aggregate([\n",
    "    {\n",
    "        \"$match\": {\n",
    "            \"tab_map.some_universal_property\": { \"$exists\": True }\n",
    "        }\n",
    "    }\n",
    "])\n",
    "```"
   ]
  },
  {
   "cell_type": "markdown",
   "metadata": {
    "slideshow": {
     "slide_type": "subslide"
    }
   },
   "source": [
    "## `$objectToArray` to the Rescue!\n",
    "\n",
    "Thankfully, we have the `$objectToArray` expression. Put simply, `$objectToArray` converts an object to an array of key value pairs.\n",
    "\n",
    "```\n",
    "{\n",
    "    \"name\": \"Jane Smith\",\n",
    "    \"age\": 28\n",
    "}\n",
    "```\n",
    "becomes\n",
    "```\n",
    "[ {\"k\": \"name\", \"v\": \"Jane Smith\"}, {\"k\": \"age\", \"v\": 28 } ]\n",
    "```"
   ]
  },
  {
   "cell_type": "markdown",
   "metadata": {
    "slideshow": {
     "slide_type": "subslide"
    }
   },
   "source": [
    "![objectToArray](assets/objecttoarray2.gif)"
   ]
  },
  {
   "cell_type": "markdown",
   "metadata": {
    "slideshow": {
     "slide_type": "subslide"
    }
   },
   "source": [
    "So, with `$objectToArray` we can convert an object into an array where each entry is an object mapping to one key/value pair.\n",
    "\n",
    "With that, we can use the `$size` expression to return the size of the resultant array to us.\n",
    "\n",
    "```\n",
    "{ \"$size\": { \"$objectToArray\": \"$tab_map\" } }\n",
    "```"
   ]
  },
  {
   "cell_type": "markdown",
   "metadata": {
    "slideshow": {
     "slide_type": "fragment"
    }
   },
   "source": [
    "And then use that in a comparison.\n",
    "\n",
    "```\n",
    "{ \"$gt\": [ {\"$size\": { \"$objectToArray\": \"$tab_map\" } }, 0 ] }\n",
    "```\n",
    "\n",
    "Let's give it a try!"
   ]
  },
  {
   "cell_type": "code",
   "execution_count": null,
   "metadata": {
    "slideshow": {
     "slide_type": "subslide"
    }
   },
   "outputs": [],
   "source": [
    "ensure_tab_map_size = {\n",
    "    \"$match\": <your code here!!>\n",
    "}"
   ]
  },
  {
   "cell_type": "markdown",
   "metadata": {
    "slideshow": {
     "slide_type": "notes"
    }
   },
   "source": [
    "Without using `$expr`, this isn't expressible.\n",
    "\n",
    "However, encourage students to think about this."
   ]
  },
  {
   "cell_type": "markdown",
   "metadata": {
    "slideshow": {
     "slide_type": "subslide"
    }
   },
   "source": [
    "Unfortunately this isn't directly expressible in a `$match` stage.\n",
    "\n",
    "This brings us to a common pattern in Aggregation, computing a value in either `$addFields` or `$project` and following immediately with a `$match` stage."
   ]
  },
  {
   "cell_type": "markdown",
   "metadata": {
    "slideshow": {
     "slide_type": "slide"
    }
   },
   "source": [
    "## Exercise - Filter based on a computed value\n",
    "\n",
    "How many documents in the **student_course** collection have a non-empty **tab_map** property?"
   ]
  },
  {
   "cell_type": "code",
   "execution_count": null,
   "metadata": {
    "slideshow": {
     "slide_type": "fragment"
    }
   },
   "outputs": [],
   "source": [
    "compute_tab_map_size = {\n",
    "    \"$addFields\": <your code here!!>\n",
    "}\n",
    "filter_out_no_tab_map = {\n",
    "    \"$match\": <your code here!!>\n",
    "}\n",
    "m_len(collection=student_course, aggregation=[compute_tab_map_size, filter_out_no_tab_map])"
   ]
  },
  {
   "cell_type": "code",
   "execution_count": null,
   "metadata": {
    "slideshow": {
     "slide_type": "notes"
    }
   },
   "outputs": [],
   "source": [
    "compute_tab_map_size = {\n",
    "    \"$addFields\": {\n",
    "        \"tab_map_not_empty\": {\n",
    "            \"$gte\": [{\"$size\": {\"$objectToArray\": \"$tab_map\"}}, 1]\n",
    "        }\n",
    "    }\n",
    "}\n",
    "filter_out_no_tab_map = {\n",
    "    \"$match\": {\n",
    "        \"tab_map_not_empty\": True\n",
    "    }\n",
    "}\n",
    "m_len(collection=student_course, aggregation=[\n",
    "      compute_tab_map_size, filter_out_no_tab_map])\n"
   ]
  },
  {
   "cell_type": "markdown",
   "metadata": {
    "slideshow": {
     "slide_type": "slide"
    }
   },
   "source": [
    "## Solution"
   ]
  },
  {
   "cell_type": "code",
   "execution_count": null,
   "metadata": {
    "slideshow": {
     "slide_type": "fragment"
    }
   },
   "outputs": [],
   "source": [
    "%load fragments/filter_based_on_computed_value.py"
   ]
  },
  {
   "cell_type": "markdown",
   "metadata": {
    "slideshow": {
     "slide_type": "notes"
    }
   },
   "source": [
    "Talk to students about common patterns that emerge in aggregation. This is the first one. Computing a value and then filtering on it."
   ]
  },
  {
   "cell_type": "markdown",
   "metadata": {
    "slideshow": {
     "slide_type": "slide"
    }
   },
   "source": [
    "## But it can be expressed in `$match` (as of 3.6)\n",
    "\n",
    "This pattern of computing a field and then following with a `$match` stage was so common, an operator was added in MongoDB 3.6 to allow the expression of rich logic within a `$match` stage (actually within the query operator framework!)."
   ]
  },
  {
   "cell_type": "markdown",
   "metadata": {
    "slideshow": {
     "slide_type": "subslide"
    }
   },
   "source": [
    "## Introducing `$expr`\n",
    "\n",
    "The `$expr` operator tells MongoDB to switch from query operator syntax to expression syntax."
   ]
  },
  {
   "cell_type": "markdown",
   "metadata": {
    "slideshow": {
     "slide_type": "fragment"
    }
   },
   "source": [
    "```\n",
    "some_field: { \"$gte\": 5 }\n",
    "```"
   ]
  },
  {
   "cell_type": "markdown",
   "metadata": {
    "slideshow": {
     "slide_type": "fragment"
    }
   },
   "source": [
    "becomes"
   ]
  },
  {
   "cell_type": "markdown",
   "metadata": {
    "slideshow": {
     "slide_type": "fragment"
    }
   },
   "source": [
    "```\n",
    "\"$expr\": { \"$gte\": [ \"$some_field\", 5 ] }\n",
    "```"
   ]
  },
  {
   "cell_type": "markdown",
   "metadata": {
    "slideshow": {
     "slide_type": "subslide"
    }
   },
   "source": [
    "Let's use `$expr` to find all entries in **student_course** where the **updated_at** field falls on a Tuesday (the day assignments are due on MongoDB University and the day new Chapters become available).\n",
    "\n",
    "To do this, we'll use the `$dayOfWeek` Aggregation expression. `$dayOfWeek` will return a value between 1 (Sunday) and 7 (Saturday)."
   ]
  },
  {
   "cell_type": "code",
   "execution_count": null,
   "metadata": {
    "slideshow": {
     "slide_type": "subslide"
    }
   },
   "outputs": [],
   "source": [
    "tuesday = 3\n",
    "updated_on_tuesday = {\n",
    "    \"$match\": {\n",
    "        \"$expr\": {\n",
    "            \"$eq\": [ { \"$dayOfWeek\": \"$updated_at\"}, tuesday]\n",
    "        }\n",
    "    }\n",
    "}\n",
    "m_len(collection=student_course, aggregation=[updated_on_tuesday])"
   ]
  },
  {
   "cell_type": "markdown",
   "metadata": {
    "slideshow": {
     "slide_type": "subslide"
    }
   },
   "source": [
    "14670 documents where the **updated_at** value is a Tuesday. For fun, let's look at activity by hour for Tuesdays. For now we'll use a utility function, but you'll learn how to do this later in the workshop.\n",
    "\n",
    "Incidentally, this is built in to Compass in the Schema tab!\n",
    "\n",
    "Also keep in mind times are in UTC, and our assignments are due at 1700!"
   ]
  },
  {
   "cell_type": "markdown",
   "metadata": {
    "slideshow": {
     "slide_type": "notes"
    }
   },
   "source": [
    "Show students this functionality in the Compass Schema tab."
   ]
  },
  {
   "cell_type": "code",
   "execution_count": null,
   "metadata": {
    "slideshow": {
     "slide_type": "subslide"
    }
   },
   "outputs": [],
   "source": [
    "from utils.workshop import get_distribution_for_tuesdays\n",
    "hours = get_distribution_for_tuesdays(student_course)\n",
    "sns.set(style=\"whitegrid\")\n",
    "ax = sns.barplot(x=\"hour\", y=\"count\", data=hours)"
   ]
  },
  {
   "cell_type": "markdown",
   "metadata": {
    "slideshow": {
     "slide_type": "notes"
    }
   },
   "source": [
    "Our students appear to like to wait until the last moment!\n",
    "\n",
    "Ask students:\n",
    "\n",
    "- Are any attendees data points in this graph?"
   ]
  },
  {
   "cell_type": "markdown",
   "metadata": {
    "slideshow": {
     "slide_type": "slide"
    }
   },
   "source": [
    "## Exercise - Use `$expr` in `$match` to filter out documents with an empty `tab_map`\n",
    "\n",
    "Using a single `$match` stage with an `$expr` within, filter out documents with an empty **tab_map** object."
   ]
  },
  {
   "cell_type": "code",
   "execution_count": null,
   "metadata": {
    "slideshow": {
     "slide_type": "fragment"
    }
   },
   "outputs": [],
   "source": [
    "no_empty_tab_maps = {\n",
    "    \"$match\": {\n",
    "        \"$expr\": <your code here!!>\n",
    "    }\n",
    "}\n",
    "m_len(collection=student_course, aggregation=[no_empty_tab_maps])"
   ]
  },
  {
   "cell_type": "code",
   "execution_count": null,
   "metadata": {
    "slideshow": {
     "slide_type": "notes"
    }
   },
   "outputs": [],
   "source": [
    "# solution\n",
    "no_empty_tab_maps = {\n",
    "    \"$match\": {\n",
    "        \"$expr\": { \"$gt\": [ { \"$size\": { \"$objectToArray\": \"$tab_map\" } }, 0 ] }\n",
    "    }\n",
    "}\n",
    "m_len(collection=student_course, aggregation=[no_empty_tab_maps])"
   ]
  },
  {
   "cell_type": "markdown",
   "metadata": {
    "slideshow": {
     "slide_type": "slide"
    }
   },
   "source": [
    "## Solution - no_empty_tab_maps"
   ]
  },
  {
   "cell_type": "code",
   "execution_count": null,
   "metadata": {
    "slideshow": {
     "slide_type": "fragment"
    }
   },
   "outputs": [],
   "source": [
    "%load fragments/no-empty-tab-maps-solution.py"
   ]
  },
  {
   "cell_type": "markdown",
   "metadata": {
    "slideshow": {
     "slide_type": "notes"
    }
   },
   "source": [
    "`$expr` is awesome. \n",
    "\n",
    "Ask stundents:\n",
    "\n",
    "- why not just use it exclusively?\n",
    "\n",
    "It is awesome, however it won't use an index unless it is strict equality. Obviously later in the pipeline this doesn't matter, but as a first stage `$match`, if there is a range query it is better to use the pattern of compute/match."
   ]
  },
  {
   "cell_type": "markdown",
   "metadata": {
    "slideshow": {
     "slide_type": "slide"
    }
   },
   "source": [
    "## Shaping\n",
    "\n",
    "Ok! Now that we've ensured we're only working with documents with a **tab_map** that actually has entries, it's time to shape.\n",
    "\n",
    "Since we're performing an ETL to use for later analysis, it's ok if we throw away the **_id** field. We'll also want to convert the **tab_map** object into an array for later use. Again, this is because we don't know the top level key as it's an **_id** of the tab itself. However, we _are_ interested in its value! We also want to keep the **offering** and **user_id** values!"
   ]
  },
  {
   "cell_type": "markdown",
   "metadata": {
    "slideshow": {
     "slide_type": "subslide"
    }
   },
   "source": [
    "We need to add two more stages. The first should remove the **_id** entry and convert **tab_map** into an array, and the second should extract all of the **v** entries and reassign those to **tab_map**"
   ]
  },
  {
   "cell_type": "code",
   "execution_count": null,
   "metadata": {
    "slideshow": {
     "slide_type": "subslide"
    }
   },
   "outputs": [],
   "source": [
    "remove_id_and_convert_to_array =  {\n",
    "    \"$project\": {\n",
    "        \"_id\": 0,\n",
    "        \"offering\": 1,\n",
    "        \"user_id\": 1,\n",
    "        \"tab_map\": {\n",
    "          \"$objectToArray\": \"$tab_map\"\n",
    "        }\n",
    "    }\n",
    "}\n",
    "\n",
    "remap_tab_map_values_to_parent = {\n",
    "    \"$addFields\": {\n",
    "      \"tab_map\": \"$tab_map.v\"\n",
    "    }\n",
    "  }"
   ]
  },
  {
   "cell_type": "markdown",
   "metadata": {
    "slideshow": {
     "slide_type": "subslide"
    }
   },
   "source": [
    "Prior to running these in the notebook, open Compass and add these stages to your **student-map-elt** pipeline."
   ]
  },
  {
   "cell_type": "markdown",
   "metadata": {
    "slideshow": {
     "slide_type": "notes"
    }
   },
   "source": [
    "Demonstrate this in Compass and point out that this **tab_map** is now an array"
   ]
  },
  {
   "cell_type": "markdown",
   "metadata": {
    "slideshow": {
     "slide_type": "subslide"
    }
   },
   "source": [
    "Let's define and run our pipeline and preview the results in the notebook!"
   ]
  },
  {
   "cell_type": "code",
   "execution_count": null,
   "metadata": {
    "slideshow": {
     "slide_type": "fragment"
    }
   },
   "outputs": [],
   "source": [
    "pipeline = [\n",
    "    no_empty_tab_maps,\n",
    "    remove_id_and_convert_to_array,\n",
    "    remap_tab_map_values_to_parent\n",
    "]\n",
    "m_print(student_course.aggregate(pipeline), justone=True)"
   ]
  },
  {
   "cell_type": "markdown",
   "metadata": {
    "slideshow": {
     "slide_type": "slide"
    }
   },
   "source": [
    "Ok, we're making progress! Looking at the results, there's yet more to clean.\n",
    "The only values we really need from the **tab_map** documents are **_cls**, **text**, **indices**, **choices**, and **index** as these will help us map these student attempts later to whether the attempt was correct.\n",
    "\n",
    "So, how do we work with the values inside the **tab_map** array? There are many options, all of which we'll cover shortly."
   ]
  },
  {
   "cell_type": "markdown",
   "metadata": {
    "slideshow": {
     "slide_type": "slide"
    }
   },
   "source": [
    "## `$unwind`\n",
    "\n",
    "One of the easiest ways to work with data in an array is to use the `$unwind` aggregation stage.\n",
    "\n",
    "`$unwind` accepts one argument, a field path expression that points to an array. We'll be using it on the **tab_map** field, so it looks like this\n",
    "```\n",
    "\"$unwind\": \"$tab_map\"\n",
    "```"
   ]
  },
  {
   "cell_type": "markdown",
   "metadata": {
    "slideshow": {
     "slide_type": "subslide"
    }
   },
   "source": [
    "`$unwind` \"unwinds\" or expands an array, and creating a new document for **every** entry in the array.\n",
    "The value of the entry will be assigned to the key that was pointed to by the field path expression to `$unwind`.  Let's view this in action. We're going to add a `$limit` stage to the end of our pipeline, and then `$unwind` for demonstration purposes."
   ]
  },
  {
   "cell_type": "code",
   "execution_count": null,
   "metadata": {
    "slideshow": {
     "slide_type": "subslide"
    }
   },
   "outputs": [],
   "source": [
    "unwinding_tab_map= {\n",
    "    \"$unwind\": \"$tab_map\"\n",
    "}\n",
    "\n",
    "# making a copy of our pipeline to test with! Always do this\n",
    "unwind = pipeline[:]\n",
    "unwind.append(unwinding_tab_map)\n",
    "\n",
    "m_print(student_course.aggregate(unwind), justone=True)"
   ]
  },
  {
   "cell_type": "markdown",
   "metadata": {
    "slideshow": {
     "slide_type": "notes"
    }
   },
   "source": [
    "Point out the transition, **tab_map** is now a document rather than an array of documents.\n",
    "\n",
    "As we iterate through this next section, we'll be assigning the current value of `pipeline` to another temporary variable that we can add stages to as we test. This is so that as we explore and validate the transformations we are preserving the original pipeline and can append/extend it with finished stages.\n",
    "\n",
    "What's with the funny `[:]` at the end of the assignments? It's so that we clone the current pipeline. If we didn't add that, we'd just be aliasing `pipeline`."
   ]
  },
  {
   "cell_type": "markdown",
   "metadata": {
    "slideshow": {
     "slide_type": "slide"
    }
   },
   "source": [
    "Alright, it looks like we've arrived at a document shape that we can work with. However, one thing we need to take into considering is if the transformed **tab_map** is entry.\n",
    "\n",
    "We'll modify our usage of `$unwind` slightly, taking advantage of a different form. We can also specify to `$unwind` whether to `preserveNullAndEmptyArrays`, which defaults to True, as well as an option to `includeArrayIndex`, which takes a string as a key we'd like defined with the position the element was at in the array. Lastly, to use this form of `$unwind`, we must specify a `$path`.\n",
    "\n",
    "Let's look at an example."
   ]
  },
  {
   "cell_type": "code",
   "execution_count": null,
   "metadata": {
    "slideshow": {
     "slide_type": "subslide"
    }
   },
   "outputs": [],
   "source": [
    "# no need to specify includeArrayIndex. We don't want it\n",
    "unwinding_tab_map_discard_empties = {\n",
    "    \"$unwind\": {\n",
    "        \"path\": \"$tab_map\",\n",
    "        \"preserveNullAndEmptyArrays\": False\n",
    "    }\n",
    "}\n",
    "# again making a copy of the pipeline\n",
    "discard_empties = pipeline[:]\n",
    "discard_empties.append(unwinding_tab_map_discard_empties)\n",
    "m_print(student_course.aggregate(discard_empties), justone=True)"
   ]
  },
  {
   "cell_type": "markdown",
   "metadata": {
    "slideshow": {
     "slide_type": "slide"
    }
   },
   "source": [
    "And we can see the the effect is identical, however now we don't have to worry encountering a document with a value like `\"tab_map\": {}`.\n",
    "\n",
    "So, now each document contains a **tab_map** object and is representative of one student's work on a single problem.\n",
    "\n",
    "- The **id** refers to the unique problem id.\n",
    "- Within the **attempts** array:\n",
    "  - The **_cls** refers to the type of problem it is\n",
    "  - **date** is the date of attempt\n",
    "  - **indices**, **index**, or **text** is their submission\n",
    "  "
   ]
  },
  {
   "cell_type": "markdown",
   "metadata": {
    "slideshow": {
     "slide_type": "slide"
    }
   },
   "source": [
    "This shape looks good to work with to transform the answers into just the data we need, namely the id of the problem, and the student's attempts and submissions. We'll correlate this information with another collection later that contains the answers. Let's ensure we save this stage back to the `pipeline` variable we're working with."
   ]
  },
  {
   "cell_type": "code",
   "execution_count": null,
   "metadata": {
    "slideshow": {
     "slide_type": "fragment"
    }
   },
   "outputs": [],
   "source": [
    "# making a temporary copy of our pipeline\n",
    "tmp_pip = pipeline[:]\n",
    "pipeline.append(unwinding_tab_map_discard_empties)"
   ]
  },
  {
   "cell_type": "markdown",
   "metadata": {
    "slideshow": {
     "slide_type": "notes"
    }
   },
   "source": [
    "Make sure to let students know to only run cells with `append` once (with shift-enter).\n",
    "\n",
    "Also remind students where we are.\n",
    "\n",
    "- We began with a document representing one student's **problems** per course\n",
    "- With the `$unwind` we're increasing dimensionality and moving to a document representing one problem per student per course.\n",
    "\n",
    "Continue to frame the dimensionality for attendees as necessary as we continue."
   ]
  },
  {
   "cell_type": "markdown",
   "metadata": {
    "slideshow": {
     "slide_type": "slide"
    }
   },
   "source": [
    "## Going Deep into Expression Composition\n",
    "\n",
    "This next section will introduce several new expressions as well as compose them together to extract the information we want and produce the desired shaped. Here is a sample record of what we are going for."
   ]
  },
  {
   "cell_type": "markdown",
   "metadata": {
    "slideshow": {
     "slide_type": "subslide"
    }
   },
   "source": [
    "![desired_shape](assets/desired_shape.png)"
   ]
  },
  {
   "cell_type": "markdown",
   "metadata": {
    "slideshow": {
     "slide_type": "subslide"
    }
   },
   "source": [
    "We'll be transforming the **tab_map** document and assigning the transormation to a key called **submission**. Within, we'll compute the **num_attempts** and **problem_id** field. We'll also clean up the **attempts** to only get the relevant data we need as described previously. Keep in mind that because we want to remove **tab_map** and instead have a key called **submission**, we'll need to use the `$project` stage.\n",
    "\n",
    "Let's begin!"
   ]
  },
  {
   "cell_type": "markdown",
   "metadata": {
    "slideshow": {
     "slide_type": "subslide"
    }
   },
   "source": [
    "First, we'll express that we want to retain the **user_id** and **offering**, then specify the new field we want, **submission**, along with the **problem_id**, and **num_attempts**."
   ]
  },
  {
   "cell_type": "markdown",
   "metadata": {
    "slideshow": {
     "slide_type": "fragment"
    }
   },
   "source": [
    "```\n",
    "\"$project\": {\n",
    "    \"user_id\": 1,\n",
    "    \"offering\": 1,\n",
    "    \"submission: {\n",
    "        \"problem_id\": \"$tab_map.id\",\n",
    "        \"num_attempts\": ....\n",
    "```"
   ]
  },
  {
   "cell_type": "markdown",
   "metadata": {
    "slideshow": {
     "slide_type": "subslide"
    }
   },
   "source": [
    "We want the **num_attempts** field to be the size of the **attempts** array within **tab_map**. How do we get this information?"
   ]
  },
  {
   "cell_type": "markdown",
   "metadata": {
    "slideshow": {
     "slide_type": "fragment"
    }
   },
   "source": [
    "We can use the `$size` expression, and specify the attempts array as its input.\n",
    "\n",
    "`\"num_attempts\": { \"$size\": \"$tab_map.attempts\" }`\n",
    "\n",
    "Let's give it a try."
   ]
  },
  {
   "cell_type": "code",
   "execution_count": null,
   "metadata": {
    "slideshow": {
     "slide_type": "subslide"
    }
   },
   "outputs": [],
   "source": [
    "%%handle\n",
    "attempts_size = pipeline[:]\n",
    "calculate_num_attempts = {\n",
    "    \"$project\": {\n",
    "        \"user_id\": 1,\n",
    "        \"offering\": 1,\n",
    "        \"submission\": {\n",
    "            \"problem_id\": \"$tab_map.id\",\n",
    "            \"num_attempts\": { \"$size\": \"$tab_map.attempts\"}\n",
    "        }\n",
    "    }\n",
    "}\n",
    "attempts_size.append(calculate_num_attempts)\n",
    "m_print(student_course.aggregate(attempts_size), justone=True)"
   ]
  },
  {
   "cell_type": "markdown",
   "metadata": {
    "slideshow": {
     "slide_type": "notes"
    }
   },
   "source": [
    "Enterprising students might notice the magic `%%handle`. \n",
    "\n",
    "This aggregation will indeed throw an error from Mongo because some **tab_maps** do not have an **attempts** field!"
   ]
  },
  {
   "cell_type": "markdown",
   "metadata": {
    "slideshow": {
     "slide_type": "slide"
    }
   },
   "source": [
    "Unfortunately, we're encountering an error because some documents do not have a **tab_map.attempts** field. \n",
    "\n",
    "This may be because the entry wasn't actually a problem. In order to avoid this, we'll need to use a `$match` stage prior to this `$project` to eliminate those records."
   ]
  },
  {
   "cell_type": "markdown",
   "metadata": {
    "slideshow": {
     "slide_type": "slide"
    }
   },
   "source": [
    "## Exercise - Ensure attempts exists"
   ]
  },
  {
   "cell_type": "code",
   "execution_count": null,
   "metadata": {
    "slideshow": {
     "slide_type": "fragment"
    }
   },
   "outputs": [],
   "source": [
    "attempts_size_no_error = pipeline[:]\n",
    "calculate_num_attempts = {\n",
    "    \"$project\": {\n",
    "        \"user_id\": 1,\n",
    "        \"offering\": 1,\n",
    "        \"submission\": {\n",
    "            \"problem_id\": \"$tab_map.id\",\n",
    "            \"num_attempts\": { \"$size\": \"$tab_map.attempts\"}\n",
    "        }\n",
    "    }\n",
    "}\n",
    "ensure_attempts_exist = {\n",
    "    \"$match\": {\n",
    "        <your code here!!!>\n",
    "    }\n",
    "}\n",
    "attempts_size_no_error.extend([ensure_attempts_exist, calculate_num_attempts])\n",
    "m_print(student_course.aggregate(attempts_size_no_error), justone=True)"
   ]
  },
  {
   "cell_type": "markdown",
   "metadata": {
    "slideshow": {
     "slide_type": "notes"
    }
   },
   "source": [
    "This is how the stage should look like:\n",
    "\n",
    "```js\n",
    "    ensure_attempts_exist = {\n",
    "        \"$match\": {\n",
    "            \"tab_map.attempts\": { \"$type\": \"array\"  }\n",
    "        }\n",
    "    }\n",
    "```\n"
   ]
  },
  {
   "cell_type": "markdown",
   "metadata": {
    "slideshow": {
     "slide_type": "slide"
    }
   },
   "source": [
    "\n",
    "## Solution"
   ]
  },
  {
   "cell_type": "code",
   "execution_count": null,
   "metadata": {
    "slideshow": {
     "slide_type": "fragment"
    }
   },
   "outputs": [],
   "source": [
    "%load fragments/ensure_attempts_exist.py"
   ]
  },
  {
   "cell_type": "markdown",
   "metadata": {
    "slideshow": {
     "slide_type": "subslide"
    }
   },
   "source": [
    "Ok, let's go ahead and add `ensure_attempts_exist` to our pipeline. Then, let's perform the computation again."
   ]
  },
  {
   "cell_type": "code",
   "execution_count": null,
   "metadata": {
    "slideshow": {
     "slide_type": "fragment"
    }
   },
   "outputs": [],
   "source": [
    "pipeline.append(ensure_attempts_exist)"
   ]
  },
  {
   "cell_type": "code",
   "execution_count": null,
   "metadata": {
    "slideshow": {
     "slide_type": "subslide"
    }
   },
   "outputs": [],
   "source": [
    "attempts_size = pipeline[:]\n",
    "calculate_num_attempts = {\n",
    "    \"$project\": {\n",
    "        \"user_id\": 1,\n",
    "        \"offering\": 1,\n",
    "        \"submission\": {\n",
    "            \"problem_id\": \"$tab_map.id\",\n",
    "            \"num_attempts\": { \"$size\": \"$tab_map.attempts\"}\n",
    "        }\n",
    "    }\n",
    "}\n",
    "attempts_size.append(calculate_num_attempts)\n",
    "m_print(student_course.aggregate(attempts_size), justone=True)"
   ]
  },
  {
   "cell_type": "markdown",
   "metadata": {
    "slideshow": {
     "slide_type": "notes"
    }
   },
   "source": [
    "# Timing\n",
    "\n",
    "Suggested break. You should be anywhere between 1:45 to 2:15 into the workshop here."
   ]
  },
  {
   "cell_type": "markdown",
   "metadata": {
    "slideshow": {
     "slide_type": "subslide"
    }
   },
   "source": [
    "Now we're able to compute the value for **num_attempts** without throwing an error. Excellent.\n",
    "\n",
    "Next, we need to clean up the **attempts** array.\n",
    "\n",
    "For reference, this is what we're going for."
   ]
  },
  {
   "cell_type": "markdown",
   "metadata": {
    "slideshow": {
     "slide_type": "subslide"
    }
   },
   "source": [
    "![desired_shape](assets/desired_shape.png)"
   ]
  },
  {
   "cell_type": "markdown",
   "metadata": {
    "slideshow": {
     "slide_type": "subslide"
    }
   },
   "source": [
    "We'll need to iterate over the elements within the **attempts** array. To do so, we'll use the `$map` expression. "
   ]
  },
  {
   "cell_type": "markdown",
   "metadata": {
    "slideshow": {
     "slide_type": "slide"
    }
   },
   "source": [
    "## `$map`"
   ]
  },
  {
   "cell_type": "markdown",
   "metadata": {
    "slideshow": {
     "slide_type": "subslide"
    }
   },
   "source": [
    "![map](assets/$map.gif)"
   ]
  },
  {
   "cell_type": "markdown",
   "metadata": {
    "slideshow": {
     "slide_type": "notes"
    }
   },
   "source": [
    "Map works by taking a supplied array and a specified expression, then applying that expression, one by one, to each element in the array.\n",
    "\n",
    "In this example, `$map` accepts the THING array and squares each element by applying the `$pow` of 2 expression to each value, returning the array with the squared values maitaining order.\n"
   ]
  },
  {
   "cell_type": "markdown",
   "metadata": {
    "slideshow": {
     "slide_type": "subslide"
    }
   },
   "source": [
    "In the Aggregation Framework, `$map` has the following form\n",
    "\n",
    "```\n",
    "\"$map\": {\n",
    "    input: <expression>,\n",
    "    as: <string>,\n",
    "    in: <expression>\n",
    "}\n",
    "```"
   ]
  },
  {
   "cell_type": "markdown",
   "metadata": {
    "slideshow": {
     "slide_type": "notes"
    }
   },
   "source": [
    "`input` is the input array that we want to map over. Any expression could be specified here, most typically it will be a field path expression to an array in the document.\n",
    "\n",
    "`as` is an optional field. If we wanted to refer to the current element being transformed by a different name other than `$$this`, we would specify that name here.\n",
    "\n",
    "`in` is the expression or composition of expressions that the value will be transformed with."
   ]
  },
  {
   "cell_type": "markdown",
   "metadata": {
    "slideshow": {
     "slide_type": "subslide"
    }
   },
   "source": [
    "So, the transformation so far will look like\n",
    "```\n",
    "    \"$project\": {\n",
    "        \"user_id\": 1,\n",
    "        \"offering\": 1,\n",
    "        \"submission\": {\n",
    "            \"problem_id\": \"$tab_map.id\",\n",
    "            \"num_attempts\": { \"$size\": \"$tab_map.attempts\"},\n",
    "            \"$map\": {\n",
    "                \"input\": \"$tab_map.attempts\",\n",
    "                \"in\": {\n",
    "                    ....\n",
    "                }\n",
    "            }\n",
    "        }\n",
    "    }\n",
    "}\n",
    "```"
   ]
  },
  {
   "cell_type": "markdown",
   "metadata": {
    "slideshow": {
     "slide_type": "notes"
    }
   },
   "source": [
    "We aren't bothering with the optional `as` field here because it's easy to reference the element with `$$this`."
   ]
  },
  {
   "cell_type": "markdown",
   "metadata": {
    "slideshow": {
     "slide_type": "subslide"
    }
   },
   "source": [
    "Alright, we're ready to process the data in the **attempts** array. When working with an expression like `$map`, it's oftentimes easier to isolate the transformation within the `in` section, so we'll do just that.\n",
    "\n",
    "Let's take one document from the **attempts** array from the output from our saved pipeline and work with it in isolatation."
   ]
  },
  {
   "cell_type": "code",
   "execution_count": null,
   "metadata": {
    "slideshow": {
     "slide_type": "subslide"
    }
   },
   "outputs": [],
   "source": [
    "%%capture\n",
    "just_one_attempt = {\n",
    "    \"_cls\": \"HgCheckAllThatApplyAttempt\",\n",
    "    \"date\": \"2017-11-27 21:40:17\",\n",
    "    \"git_stamp\": {\n",
    "      \"date\": \"2017-11-27 21:40:11\",\n",
    "      \"revision\": \"789c694b49dd6d7dfbb245af7ab71bf509b0ba38\"\n",
    "    },\n",
    "    \"indices\": [\n",
    "      1,\n",
    "      0\n",
    "    ]\n",
    "}\n",
    "my_coll.drop()\n",
    "my_coll.insert_one(just_one_attempt)"
   ]
  },
  {
   "cell_type": "markdown",
   "metadata": {
    "slideshow": {
     "slide_type": "subslide"
    }
   },
   "source": [
    "Although this document is limited and doesn't include all problem types, it will work for our needs. As a reminder, the keys we want to keep are **_cls**, **text**, **indices**, **choices**, and **index**.\n",
    "\n",
    "In order to do this, we'll use the `$objectToArray` expression you've learned about already. Let's run an aggregation, transforming this document into an array to see the results. We'll use an `$addFields` stage, but keep in mind that this is only for testing our transformation. In the real pipeline, this transformation will take place in the `in` section of `$map`."
   ]
  },
  {
   "cell_type": "code",
   "execution_count": null,
   "metadata": {
    "slideshow": {
     "slide_type": "subslide"
    }
   },
   "outputs": [],
   "source": [
    "transform_attempt = {\n",
    "    \"$project\": {\n",
    "        \"_id\": 0,\n",
    "        \"attempt\": { \"$objectToArray\": \"$$ROOT\"}\n",
    "    }\n",
    "}\n",
    "m_print(my_coll.aggregate([transform_attempt]), justone=True)"
   ]
  },
  {
   "cell_type": "markdown",
   "metadata": {
    "slideshow": {
     "slide_type": "notes"
    }
   },
   "source": [
    "We've just casually introduced `$$ROOT` to students! Explain to them that `$$ROOT` is a system variable that refers to the root document. It's a very useful way to transform the entire document at once when there's no field path to reference it by.\n",
    "\n",
    "Additionally, the document was given an _id by MongoDB when we inserted it, hence why we projected it away. This won't be the case when we finish building out this transformation and use it within the real pipeline."
   ]
  },
  {
   "cell_type": "markdown",
   "metadata": {
    "slideshow": {
     "slide_type": "subslide"
    }
   },
   "source": [
    "Alright, this is promising. The **k** keys now have values of the key name in the original object. We can now filter out the keys we aren't interested in. Unfortunately, we can't use `$match` symantics because we're firmly executing within the context of an expression. Thus, we're introduced to our next expression, `$filter`"
   ]
  },
  {
   "cell_type": "markdown",
   "metadata": {
    "slideshow": {
     "slide_type": "slide"
    }
   },
   "source": [
    "## `$filter`"
   ]
  },
  {
   "cell_type": "markdown",
   "metadata": {
    "slideshow": {
     "slide_type": "subslide"
    }
   },
   "source": [
    "![filter](assets/$filter.gif)"
   ]
  },
  {
   "cell_type": "markdown",
   "metadata": {
    "slideshow": {
     "slide_type": "notes"
    }
   },
   "source": [
    "Filter works a lot like map. However, rather than apply a transformation to each element in the array, again referenced to as THING in this example, filter takes a predicate expression that must resolve to true or false.\n",
    "\n",
    "Here, filter is taking every element in the array and testing it with this expression that composes the `$mod` modulo operator and checks if the element is even. If it is it will return it back, otherwise it will be filtered out."
   ]
  },
  {
   "cell_type": "markdown",
   "metadata": {
    "slideshow": {
     "slide_type": "subslide"
    }
   },
   "source": [
    "In the aggregation framework, `$filter` has the following form\n",
    "```\n",
    "\"$filter\": {\n",
    "    \"input\": <expression>,\n",
    "    \"as\": <string>,\n",
    "    \"cond\": <expression>\n",
    "}\n",
    "```"
   ]
  },
  {
   "cell_type": "markdown",
   "metadata": {
    "slideshow": {
     "slide_type": "notes"
    }
   },
   "source": [
    "`input` is the input array that we want to iterate over. Any expression could be specified here, most typically it will be a field path expression to an array in the document.\n",
    "\n",
    "`as` is an optional field. If we wanted to refer to the current element being transformed by a different name other than $$this, we would specify that name here.\n",
    "\n",
    "`$cond` is the expression or composition of expressions that the value will be tested with."
   ]
  },
  {
   "cell_type": "markdown",
   "metadata": {
    "slideshow": {
     "slide_type": "subslide"
    }
   },
   "source": [
    "Now that we know how to filter elements in an array, let's do so. Your task is to use `$filter` to keep only the keys we're interested in."
   ]
  },
  {
   "cell_type": "markdown",
   "metadata": {
    "slideshow": {
     "slide_type": "slide"
    }
   },
   "source": [
    "## Exercise - Filter out undesired keys\n",
    "A shell is provided to help get you started."
   ]
  },
  {
   "cell_type": "code",
   "execution_count": null,
   "metadata": {
    "slideshow": {
     "slide_type": "fragment"
    }
   },
   "outputs": [],
   "source": [
    "transform_attempt = {\n",
    "    \"$project\": {\n",
    "        \"_id\": 0,\n",
    "        \"attempt\": {\"$objectToArray\": \"$$ROOT\"}\n",
    "    }\n",
    "}\n",
    "keys_to_keep = [\"_cls\", \"text\", \"indices\", \"choices\", \"index\"]\n",
    "filter_keys = {\n",
    "    \"$filter\": {\n",
    "        <your code here!!!>\n",
    "    }\n",
    "}\n",
    "filter_attempt = {\n",
    "    \"$addFields\": {\n",
    "        \"attempt\": filter_keys\n",
    "    }\n",
    "}\n",
    "m_print(my_coll.aggregate([transform_attempt, filter_attempt]), justone=True)"
   ]
  },
  {
   "cell_type": "markdown",
   "metadata": {
    "slideshow": {
     "slide_type": "notes"
    }
   },
   "source": [
    "```\n",
    "\"$filter\": {\n",
    "    \"input\": \"$attempt\",\n",
    "    \"cond\": {\n",
    "        \"$in\": [ \n",
    "            \"$$this.k\",\n",
    "            keys_to_keep\n",
    "        ]\n",
    "    }\n",
    "}\n",
    "```\n",
    "Specify the **attempt** array as input with a field path.\n",
    "Use the `$in` operator to determine whether `$$this.k`, the current element's **k**, is in the keys to keep array."
   ]
  },
  {
   "cell_type": "markdown",
   "metadata": {
    "slideshow": {
     "slide_type": "slide"
    }
   },
   "source": [
    "## Solution"
   ]
  },
  {
   "cell_type": "code",
   "execution_count": null,
   "metadata": {
    "slideshow": {
     "slide_type": "subslide"
    }
   },
   "outputs": [],
   "source": [
    "%load fragments/filter_out_undesired_keys.py"
   ]
  },
  {
   "cell_type": "markdown",
   "metadata": {
    "slideshow": {
     "slide_type": "subslide"
    }
   },
   "source": [
    "Great job! We've now successfully cleaned the array to only retain the values that we want, but there is a more succint method.\n",
    "\n",
    "Recall that expression are composable. We can specify as to the `input` of `$filter` the transformation we apply in the `$project` stage we called **transform attempt**.\n",
    "\n",
    "Run the next code cell to see it in action."
   ]
  },
  {
   "cell_type": "code",
   "execution_count": null,
   "metadata": {
    "slideshow": {
     "slide_type": "subslide"
    }
   },
   "outputs": [],
   "source": [
    "%load fragments/filter_keys_one_shot.py"
   ]
  },
  {
   "cell_type": "markdown",
   "metadata": {
    "slideshow": {
     "slide_type": "subslide"
    }
   },
   "source": [
    "So now that we have a cleaned array, we need to get it back into an object. We want to be able to reference the values by key name for later operations.\n",
    "\n",
    "You guessed it, there's another expression for that.\n",
    "\n",
    "Introducing `$arrayToObject`"
   ]
  },
  {
   "cell_type": "markdown",
   "metadata": {
    "slideshow": {
     "slide_type": "slide"
    }
   },
   "source": [
    "## `$arrayToObject`"
   ]
  },
  {
   "cell_type": "markdown",
   "metadata": {
    "slideshow": {
     "slide_type": "subslide"
    }
   },
   "source": [
    "`$arrayToObject` has the following form\n",
    "```\n",
    "\"$arrayToObject\": <expression>\n",
    "```\n",
    "The expression can be anything that resolves to an array of one of the following forms.\n",
    "\n",
    "[[\"key1\", \"value1\"], [\"key2\", \"value2\"]]\n",
    "    - or -\n",
    "[{\"k\": \"key1\", \"v\": \"value1\"}, {\"k\": \"key2\", \"v\": \"value2\"}]"
   ]
  },
  {
   "cell_type": "markdown",
   "metadata": {
    "slideshow": {
     "slide_type": "subslide"
    }
   },
   "source": [
    "In either case, they will both end up as\n",
    "```\n",
    "{\n",
    "    \"key1\": \"value1\",\n",
    "    \"key2\": \"value2\"\n",
    "}\n",
    "```"
   ]
  },
  {
   "cell_type": "markdown",
   "metadata": {
    "slideshow": {
     "slide_type": "fragment"
    }
   },
   "source": [
    "We know that our filter expression results in an array of the required form, so let's specify that entire expression as the input expression to `$arrayToObject`!\n",
    "\n",
    "We'll re-use the `filter_keys` variable defined previously to save on typing. This is good practice when building up complex aggregations!"
   ]
  },
  {
   "cell_type": "code",
   "execution_count": null,
   "metadata": {
    "slideshow": {
     "slide_type": "subslide"
    }
   },
   "outputs": [],
   "source": [
    "filter_with_object_conversion = {\n",
    "    \"$project\": {\n",
    "        \"_id\": 0,\n",
    "        \"attempt\": {\n",
    "            \"$arrayToObject\": filter_keys\n",
    "        }\n",
    "    }\n",
    "}\n",
    "m_print(my_coll.aggregate([filter_with_object_conversion]), justone=True)"
   ]
  },
  {
   "cell_type": "markdown",
   "metadata": {
    "slideshow": {
     "slide_type": "subslide"
    }
   },
   "source": [
    "Excellent, we're now ready to combine them together. Let's go ahead and assign our array cleaning operation to a variable called **array_cleaning**."
   ]
  },
  {
   "cell_type": "code",
   "execution_count": null,
   "metadata": {
    "slideshow": {
     "slide_type": "subslide"
    }
   },
   "outputs": [],
   "source": [
    "array_cleaning = {\n",
    "    \"$arrayToObject\": filter_keys\n",
    "}\n",
    "# and to test for good measure\n",
    "test_step = {\n",
    "    \"$project\": {\n",
    "        \"_id\": 0,\n",
    "        \"attempt\": array_cleaning\n",
    "    }\n",
    "}\n",
    "m_print(my_coll.aggregate([test_step]), justone=True)"
   ]
  },
  {
   "cell_type": "markdown",
   "metadata": {
    "slideshow": {
     "slide_type": "subslide"
    }
   },
   "source": [
    "Looks good! We're now ready to combine this portion together with our map stage.\n",
    "\n",
    "Let's test this out in isolation, just as we've done with our work with `$arrayToObject` and `$filter`."
   ]
  },
  {
   "cell_type": "code",
   "execution_count": null,
   "metadata": {
    "slideshow": {
     "slide_type": "subslide"
    }
   },
   "outputs": [],
   "source": [
    "%%capture\n",
    "my_coll.drop()\n",
    "my_coll.insert_one({\n",
    "  \"user_id\": 1,\n",
    "  \"offering\": \"M036/2017_November\",\n",
    "  \"tab_map\": {\n",
    "    \"_cls\": \"HgStudentAttemptableProblem\",\n",
    "    \"id\": \"5a1c7e44f62672abf36e4ba3\",\n",
    "    \"given_credit\": False,\n",
    "    \"attempts\": [\n",
    "      {\n",
    "        \"_cls\": \"HgCheckAllThatApplyAttempt\",\n",
    "        \"date\": \"2017-11-27 21:40:17\",\n",
    "        \"git_stamp\": {\n",
    "          \"date\": \"2017-11-27 21:40:11\",\n",
    "          \"revision\": \"789c694b49dd6d7dfbb245af7ab71bf509b0ba38\"\n",
    "        },\n",
    "        \"indices\": [\n",
    "          1,\n",
    "          0\n",
    "        ]\n",
    "      },\n",
    "      {\n",
    "        \"_cls\": \"HgCheckAllThatApplyAttempt\",\n",
    "        \"date\": \"2017-11-29 14:55:01\",\n",
    "        \"git_stamp\": {\n",
    "          \"date\": \"2017-11-29 14:54:52\",\n",
    "          \"revision\": \"94556bc6f03ac374a48e4df79808b8b059c806e7\"\n",
    "        },\n",
    "        \"indices\": [\n",
    "          3,\n",
    "          2\n",
    "        ]\n",
    "      }\n",
    "    ]\n",
    "  }\n",
    "})"
   ]
  },
  {
   "cell_type": "markdown",
   "metadata": {
    "slideshow": {
     "slide_type": "slide"
    }
   },
   "source": [
    "## Composing the Expressions\n",
    "\n",
    "Now we should be able to compose our `$filter` with a `$map` to test the combined functionality. Let's summarize what we're going to do\n",
    "- We'll test it using a `$project` stage, using `$map` to iterate over every element in the **attempts** array\n",
    "  - Convert each element to an array with `objectToArray`, \n",
    "  - `$filter` out undesirable keys, \n",
    "  - Convert that back into an object with `$arrayToObject`, \n",
    "- Putting that result back into position. \n",
    "\n",
    "Lastly, we'll assign the entire computed value to a computed key called **submission**."
   ]
  },
  {
   "cell_type": "markdown",
   "metadata": {
    "slideshow": {
     "slide_type": "subslide"
    }
   },
   "source": [
    "Prior to that, though, we need to make a small modification. The **filter_keys** expression we defined earlier currently is looking for the field path expression `$attempts`. Because we're iterating over the **attempts** array with `$map`, we'll redefine it to look for `$$this`, the currently iterated element in `$map`.\n",
    "\n",
    "We'll assign the entire composition to a variabled called `combined_map_and_filter`. If it works, we'll be able to reuse this in our main pipeline."
   ]
  },
  {
   "cell_type": "code",
   "execution_count": null,
   "metadata": {
    "slideshow": {
     "slide_type": "subslide"
    }
   },
   "outputs": [],
   "source": [
    "filter_keys = {\n",
    "    \"$filter\": {\n",
    "        \"input\": {\"$objectToArray\": \"$$this\"},\n",
    "        \"cond\": {\n",
    "            \"$in\": [ \"$$this.k\", keys_to_keep ]\n",
    "        }\n",
    "    }\n",
    "}\n",
    "array_cleaning = {\n",
    "    \"$arrayToObject\": filter_keys\n",
    "}\n",
    "combined_map_and_filter = {\n",
    "    \"$map\": {\n",
    "        \"input\": \"$tab_map.attempts\",\n",
    "        \"in\": array_cleaning\n",
    "    }\n",
    "}"
   ]
  },
  {
   "cell_type": "markdown",
   "metadata": {
    "slideshow": {
     "slide_type": "notes"
    }
   },
   "source": [
    "Recap with students:\n",
    "\n",
    "- `filter_keys` accepts as its input `{$objectToArray: \"$$this\"}` because `$map` is iterating over the **tab_map.attempts** array. \n",
    "- It's safe to reference the element as `$$this` because until we drop into the context of \n",
    "`$filter`'s **in** block, `$$this` is scoped within the **in** block of `$map`.\n",
    "\n",
    "Also remind students:\n",
    "\n",
    "- if they are confused about referring to the input for  `$map` that the field path `$tab_map.attempts` will point directly to the **attempts** array in **tab_map**."
   ]
  },
  {
   "cell_type": "code",
   "execution_count": null,
   "metadata": {
    "slideshow": {
     "slide_type": "subslide"
    }
   },
   "outputs": [],
   "source": [
    "composing_project = {\n",
    "    \"$project\": {\n",
    "        \"_id\": 0,\n",
    "        \"user_id\": 1,\n",
    "        \"offering\": 1,\n",
    "        \"submission\": combined_map_and_filter\n",
    "    }\n",
    "}\n",
    "m_print(my_coll.aggregate([composing_project]), justone=True)"
   ]
  },
  {
   "cell_type": "markdown",
   "metadata": {
    "slideshow": {
     "slide_type": "subslide"
    }
   },
   "source": [
    "It looks like it works! Let's go ahead and and try it out with the pipeline we've assembled so far. Again we'll create a copy of the pipeline to test everything out before we assign it back.\n",
    "\n",
    "We'll also ensure we assign to the correct keys."
   ]
  },
  {
   "cell_type": "code",
   "execution_count": null,
   "metadata": {
    "slideshow": {
     "slide_type": "subslide"
    }
   },
   "outputs": [],
   "source": [
    "testing_composition = pipeline[:]\n",
    "shaping_submissions_stage = {\n",
    "    \"$project\": {\n",
    "        \"user_id\": 1,\n",
    "        \"offering\": 1,\n",
    "        \"submission\": {\n",
    "            \"problem_id\": \"$tab_map.id\",\n",
    "            \"attempts\": combined_map_and_filter\n",
    "        }\n",
    "    }\n",
    "}\n",
    "testing_composition.append(shaping_submissions_stage)\n",
    "m_print(student_course.aggregate(testing_composition), justone=True)"
   ]
  },
  {
   "cell_type": "markdown",
   "metadata": {
    "slideshow": {
     "slide_type": "subslide"
    }
   },
   "source": [
    "Excellent, this we've reached our goal. Now every output document corresponds to one student's submissions for one problem in a course.\n",
    "\n",
    "Let's ensure we capture this work."
   ]
  },
  {
   "cell_type": "code",
   "execution_count": null,
   "metadata": {
    "slideshow": {
     "slide_type": "fragment"
    }
   },
   "outputs": [],
   "source": [
    "pipeline.append(shaping_submissions_stage)"
   ]
  },
  {
   "cell_type": "markdown",
   "metadata": {
    "slideshow": {
     "slide_type": "fragment"
    }
   },
   "source": [
    "The next step is to group documents together that have equal **offering**s and **user_id**s as they were originally. This way, each document is a record of one student's performance in an entire course.\n",
    "\n",
    "This is a common pattern in Aggregation, especially after an `$unwind`. The Aggregation Framework provides a stage for this, too.\n",
    "\n",
    "Introducing `$group`"
   ]
  },
  {
   "cell_type": "markdown",
   "metadata": {
    "slideshow": {
     "slide_type": "notes"
    }
   },
   "source": [
    "# Timing\n",
    "\n",
    "You should now be between 3:00 to 3:30 into the presentation.\n",
    "\n",
    "Suggested break."
   ]
  },
  {
   "cell_type": "markdown",
   "metadata": {
    "slideshow": {
     "slide_type": "slide"
    }
   },
   "source": [
    "## `$group`"
   ]
  },
  {
   "cell_type": "markdown",
   "metadata": {
    "slideshow": {
     "slide_type": "subslide"
    }
   },
   "source": [
    "![agg factory](assets/agg_factory.gif)"
   ]
  },
  {
   "cell_type": "markdown",
   "metadata": {
    "slideshow": {
     "slide_type": "subslide"
    }
   },
   "source": [
    "`$group` has the following form\n",
    "```\n",
    "\"$group\": {\n",
    "    \"_id\": <expression>,\n",
    "    \"fieldN\": { <accumulatorN>: <expressionN> },\n",
    "    ...\n",
    "}\n",
    "```"
   ]
  },
  {
   "cell_type": "markdown",
   "metadata": {
    "slideshow": {
     "slide_type": "notes"
    }
   },
   "source": [
    "**_id** is any expression or composition of expressions to match similar documents together on.\n",
    "\n",
    "**fieldN** is an optional field, and as hinted at by the postfixed \"N\", can be any number of fields. \n",
    "\n",
    "Each field specified accepts an accumulator and expression to accumlate."
   ]
  },
  {
   "cell_type": "markdown",
   "metadata": {
    "slideshow": {
     "slide_type": "subslide"
    }
   },
   "source": [
    "When we say that the **_id** field in `$group` can be any expression or composition of expressions to group similar documents together with, we really mean it.\n",
    "\n",
    "Let's explore `$group` in isolation to get a sense for how powerful it is, as well as how accumulator expressions work and some very common patterns."
   ]
  },
  {
   "cell_type": "markdown",
   "metadata": {
    "slideshow": {
     "slide_type": "subslide"
    }
   },
   "source": [
    "First, we'll insert 100 documents into our test collection. They'll be of the shape\n",
    "```\n",
    "{\n",
    "    \"_id\": <assigned by mongod>,\n",
    "    \"value\": 0..100\n",
    "}\n",
    "```"
   ]
  },
  {
   "cell_type": "code",
   "execution_count": null,
   "metadata": {
    "slideshow": {
     "slide_type": "fragment"
    }
   },
   "outputs": [],
   "source": [
    "my_coll.drop()\n",
    "my_coll.insert_many([{\"value\": n} for n in range(100)])\n",
    "print(my_coll.count())\n",
    "m_print(my_coll.find_one())"
   ]
  },
  {
   "cell_type": "markdown",
   "metadata": {
    "slideshow": {
     "slide_type": "subslide"
    }
   },
   "source": [
    "Alright, we have 100 documents inserted into our collection, with values ranging from 0 to 99.\n",
    "\n",
    "First, let's `$group` similar documents together. We're also going to use a very common accumulator expression to count how many documents were grouped together, called `$sum`."
   ]
  },
  {
   "cell_type": "markdown",
   "metadata": {
    "slideshow": {
     "slide_type": "notes"
    }
   },
   "source": [
    "We're about to introduce control flow expressions as an exercise to explore accumulator expressions!"
   ]
  },
  {
   "cell_type": "code",
   "execution_count": null,
   "metadata": {
    "slideshow": {
     "slide_type": "subslide"
    }
   },
   "outputs": [],
   "source": [
    "grouping_by_odd_or_even = {\n",
    "    \"$group\": {\n",
    "        \"_id\": {\n",
    "            \"$cond\": [ \n",
    "                { \"$eq\": [{\"$mod\": [ \"$value\", 2 ] }, 0] }, \n",
    "                \"even\", \n",
    "                \"odd\" \n",
    "            ]\n",
    "        },\n",
    "        \"count\": { \"$sum\": 1 }\n",
    "    }\n",
    "}\n",
    "m_print(my_coll.aggregate([grouping_by_odd_or_even]))"
   ]
  },
  {
   "cell_type": "markdown",
   "metadata": {
    "slideshow": {
     "slide_type": "subslide"
    }
   },
   "source": [
    "OK let's break this down.\n",
    "\n",
    "Within the **_id** argument, we specified one of the _control flow_ expressions, `$cond`. \n",
    "\n",
    "It can be read as\n",
    "\n",
    "**if** `{ \"$eq\": [{\"$mod\": [ \"$value\", 2 ] }, 0] },`\n",
    "\n",
    "**then** `\"even\",`\n",
    "\n",
    "**else** `\"odd\",`"
   ]
  },
  {
   "cell_type": "markdown",
   "metadata": {
    "slideshow": {
     "slide_type": "subslide"
    }
   },
   "source": [
    "The next portion is the accumulator expression block. We specified a field called `count`, but it could have been any name. Within, we use the accumulator expression `$sum`.\n",
    "\n",
    "`\"count\": { \"$sum\": 1 }` can be thought of as the instruction \"for every document that matches, **sum** 1 with the current value of **count**. So the first time it matched, it summed 1 and 0, then 1 and 1, then 1 and 2, and so on.\n",
    "\n",
    "We would expect that both **count** fields in the output documents were 50, as there are 50 even and 50 odd numbers in the interval **[0, 99]**\n",
    "\n",
    "Following is an almost identical example, however it won't use the `$cond` expression and will use the name **documents_matched** instead of count. What do you expect the output to be?"
   ]
  },
  {
   "cell_type": "code",
   "execution_count": null,
   "metadata": {
    "slideshow": {
     "slide_type": "subslide"
    }
   },
   "outputs": [],
   "source": [
    "grouping_by_odd_or_even = {\n",
    "    \"$group\": {\n",
    "        \"_id\": { \"$eq\": [{\"$mod\": [ \"$value\", 2 ] }, 0] }, \n",
    "        \"documents_matched\": { \"$sum\": 1 }\n",
    "    }\n",
    "}\n",
    "m_print(my_coll.aggregate([grouping_by_odd_or_even]))"
   ]
  },
  {
   "cell_type": "markdown",
   "metadata": {
    "slideshow": {
     "slide_type": "notes"
    }
   },
   "source": [
    "Encourage students to answer before they run the code."
   ]
  },
  {
   "cell_type": "markdown",
   "metadata": {
    "slideshow": {
     "slide_type": "subslide"
    }
   },
   "source": [
    "Because we didn't specify the `$cond`, we got the raw output from the expression, which is a boolean true/false. We can see that the **documents_matched** key is what we expected, 50."
   ]
  },
  {
   "cell_type": "markdown",
   "metadata": {
    "slideshow": {
     "slide_type": "subslide"
    }
   },
   "source": [
    "Alright, let's have a little bit of fun.\n",
    "\n",
    "We're going to solve a variation of **FizzBuzz** with aggregation.\n",
    "\n",
    "If you aren't familiar, FizzBuzz is a programming problem where you take the interval [0, 99] or [1, 100] and do the following:\n",
    "- If the number if divisible by 3, output \"Fizz\"\n",
    "- If the number is divisible by 5, output \"Buzz\"\n",
    "- If the number is divisible by 15, output \"FizzBuzz\"\n",
    "- If the number doesn't meet one of the above criteria, output the number itself\n",
    "\n",
    "We'll group on this criteria instead, and use an accumulator expression called `$push` to push values into an array."
   ]
  },
  {
   "cell_type": "markdown",
   "metadata": {
    "slideshow": {
     "slide_type": "subslide"
    }
   },
   "source": [
    "To do this, we're going to use a `$switch` expression. We could just nest `$cond` expressions but the syntax starts to get a bit unweildy."
   ]
  },
  {
   "cell_type": "markdown",
   "metadata": {
    "slideshow": {
     "slide_type": "subslide"
    }
   },
   "source": [
    "![haduken_code](assets/haduken_code.jpg)"
   ]
  },
  {
   "cell_type": "code",
   "execution_count": null,
   "metadata": {
    "slideshow": {
     "slide_type": "subslide"
    }
   },
   "outputs": [],
   "source": [
    "fizz_buzz = {\n",
    "    \"$group\": {\n",
    "        \"_id\": {\n",
    "            \"$switch\": {\n",
    "                \"branches\": [\n",
    "                    { \"case\": { \"$eq\": [{\"$mod\": [ \"$value\", 15 ] }, 0] }, \"then\": \"FizzBuzz\" },\n",
    "                    { \"case\": { \"$eq\": [{\"$mod\": [ \"$value\", 5 ] }, 0] }, \"then\": \"Buzz\" },\n",
    "                    { \"case\": { \"$eq\": [{\"$mod\": [ \"$value\", 3 ] }, 0] }, \"then\": \"Fizz\" }\n",
    "                ],\n",
    "                \"default\": \"plain\"\n",
    "            }\n",
    "        },\n",
    "        \"matching_nums\": { \"$push\": \"$value\"}\n",
    "    }\n",
    "}\n",
    "m_print(my_coll.aggregate([fizz_buzz]))"
   ]
  },
  {
   "cell_type": "markdown",
   "metadata": {
    "slideshow": {
     "slide_type": "subslide"
    }
   },
   "source": [
    "Alright, we see that documents where the value was divisible by 15 were matched and the **_id** resulted in \"FizzBuzz\", and the individual values were pushed into a field called **matching_nums**.\n",
    "\n",
    "Same for \"Fizz\" and \"Buzz\", and because we need a common value to match other values together with, we chose to use \"plain\" if no branches in our `$switch` matched."
   ]
  },
  {
   "cell_type": "markdown",
   "metadata": {
    "slideshow": {
     "slide_type": "subslide"
    }
   },
   "source": [
    "We can also `$group` all input documents together. To do so, we specify an expression or value that won't be enountered in any documents. By convention, we tend to use the value **0**.\n",
    "\n",
    "Let's look at an example. We'll `$group` all of the documents together, and use some mathematical accumulator expressions to find the `$max`, `$min`, `$avg`, `$sum`, and `$stdDevPop`."
   ]
  },
  {
   "cell_type": "code",
   "execution_count": null,
   "metadata": {
    "slideshow": {
     "slide_type": "subslide"
    }
   },
   "outputs": [],
   "source": [
    "the_stats = {\n",
    "    \"$group\": {\n",
    "        \"_id\": 0,\n",
    "        \"max\": { \"$max\": \"$value\" },\n",
    "        \"min\": { \"$min\": \"$value\" },\n",
    "        \"avg\": { \"$avg\": \"$value\" },\n",
    "        \"sum\": { \"$sum\": \"$value\" },\n",
    "        \"sd\": { \"$stdDevPop\": \"$value\" }\n",
    "    }\n",
    "}\n",
    "m_print(my_coll.aggregate([the_stats]))"
   ]
  },
  {
   "cell_type": "markdown",
   "metadata": {
    "slideshow": {
     "slide_type": "subslide"
    }
   },
   "source": [
    "`$group` and accumulator expressions are very powerful and full of utility and will be used further in this workshop."
   ]
  },
  {
   "cell_type": "markdown",
   "metadata": {
    "slideshow": {
     "slide_type": "subslide"
    }
   },
   "source": [
    "Ok, back to our pipeline. We have just the data we want, and we want to group documents together matching on the **offering** and **user_id**. Let's do it!"
   ]
  },
  {
   "cell_type": "code",
   "execution_count": null,
   "metadata": {
    "slideshow": {
     "slide_type": "subslide"
    }
   },
   "outputs": [],
   "source": [
    "test_grouping = {\n",
    "    \"$group\": {\n",
    "        \"_id\": {\n",
    "            \"offering\": \"$offering\",\n",
    "            \"user_id\": \"$user_id\"\n",
    "        }\n",
    "    }\n",
    "}\n",
    "test_pipeline = pipeline[:]\n",
    "test_pipeline.append(test_grouping)\n",
    "m_print(student_course.aggregate(test_pipeline), justone=True)"
   ]
  },
  {
   "cell_type": "markdown",
   "metadata": {
    "slideshow": {
     "slide_type": "notes"
    }
   },
   "source": [
    "Prior to running this cell, ask students what might be wrong.\n",
    "\n",
    "With no accumulator, we're losing the data we've been cleaning."
   ]
  },
  {
   "cell_type": "markdown",
   "metadata": {
    "slideshow": {
     "slide_type": "subslide"
    }
   },
   "source": [
    "Well, it kind of worked. But, we lost all of the **submission** data we so meticulously cleaned and derived.\n",
    "\n",
    "Let's fix that by specifying a field to accumulate values in."
   ]
  },
  {
   "cell_type": "code",
   "execution_count": null,
   "metadata": {
    "slideshow": {
     "slide_type": "subslide"
    }
   },
   "outputs": [],
   "source": [
    "%%handle\n",
    "group_by_offering_and_student = {\n",
    "    \"$group\": {\n",
    "        \"_id\": {\n",
    "            \"offering\": \"$offering\",\n",
    "            \"user_id\": \"$user_id\"\n",
    "        },\n",
    "        \"submissions\": {\n",
    "            \"$push\": \"$submission\"\n",
    "        }\n",
    "    }\n",
    "}\n",
    "test_pipeline = pipeline[:]\n",
    "test_pipeline.append(group_by_offering_and_student)\n",
    "m_print(student_course.aggregate(test_pipeline), justone=True)"
   ]
  },
  {
   "cell_type": "markdown",
   "metadata": {
    "slideshow": {
     "slide_type": "subslide"
    }
   },
   "source": [
    "![uh_oh](assets/beaker_fire.jpg)"
   ]
  },
  {
   "cell_type": "markdown",
   "metadata": {
    "slideshow": {
     "slide_type": "subslide"
    }
   },
   "source": [
    "We may encounter errors like this once our pipeline becomes sufficiently complex.\n",
    "\n",
    "The Aggregation Framework limits the operations in the pipeline to use 100MB of memory in order to avoid negatively impacting performance for other database operations.\n",
    "\n",
    "This is typically why MongoDB recommends analytics be performed on a secondary.\n",
    "\n",
    "In order to get around this, we'll do exactly what the error message suggest, allow the Aggregation Framework to use the disk!"
   ]
  },
  {
   "cell_type": "code",
   "execution_count": null,
   "metadata": {
    "slideshow": {
     "slide_type": "subslide"
    }
   },
   "outputs": [],
   "source": [
    "group_by_offering_and_student = {\n",
    "    \"$group\": {\n",
    "        \"_id\": {\n",
    "            \"offering\": \"$offering\",\n",
    "            \"user_id\": \"$user_id\"\n",
    "        },\n",
    "        \"submissions\": {\n",
    "            \"$push\": \"$submission\"\n",
    "        }\n",
    "    }\n",
    "}\n",
    "test_pipeline = pipeline[:]\n",
    "test_pipeline.append(group_by_offering_and_student)\n",
    "m_print(student_course.aggregate(test_pipeline, allowDiskUse=True), justone=True)"
   ]
  },
  {
   "cell_type": "markdown",
   "metadata": {
    "slideshow": {
     "slide_type": "subslide"
    }
   },
   "source": [
    "And it works! We have one last operation to perform before saving our transformed documents, namely extracting the **offering** and **user_id** fields from with the **_id** field that was assigned by `$group` to label our matches."
   ]
  },
  {
   "cell_type": "code",
   "execution_count": null,
   "metadata": {
    "slideshow": {
     "slide_type": "subslide"
    }
   },
   "outputs": [],
   "source": [
    "last_transforming_project = {\n",
    "    \"$project\": {\n",
    "        \"_id\": 0,\n",
    "        \"offering\": \"$_id.offering\",\n",
    "        \"user_id\": \"$_id.user_id\",\n",
    "        \"submissions\": 1\n",
    "    }\n",
    "}\n",
    "test_pipeline = pipeline[:]\n",
    "test_pipeline.extend([group_by_offering_and_student, last_transforming_project])\n",
    "m_print(student_course.aggregate(test_pipeline, allowDiskUse=True), justone=True)"
   ]
  },
  {
   "cell_type": "markdown",
   "metadata": {
    "slideshow": {
     "slide_type": "subslide"
    }
   },
   "source": [
    "Look good, let's save it to our pipeline."
   ]
  },
  {
   "cell_type": "code",
   "execution_count": null,
   "metadata": {
    "slideshow": {
     "slide_type": "fragment"
    }
   },
   "outputs": [],
   "source": [
    "# only run this once\n",
    "pipeline.extend([group_by_offering_and_student, last_transforming_project])"
   ]
  },
  {
   "cell_type": "markdown",
   "metadata": {
    "slideshow": {
     "slide_type": "fragment"
    }
   },
   "source": [
    "Alright, we've come a long way in a short amount of time!\n",
    "\n",
    "We've used a combination of expressions and different stages to transform our data into the shape we want. The last step would be to save our entire transformation using the `$out` expression."
   ]
  },
  {
   "cell_type": "markdown",
   "metadata": {
    "slideshow": {
     "slide_type": "slide"
    }
   },
   "source": [
    "## `$out`\n",
    "\n",
    "`$out` is a simple expression that lets us save the results of an aggregation. It has the following form\n",
    "```\n",
    "\"$out\": <string> # the name of the collection you'd like to save the output to\n",
    "```\n",
    "\n",
    "If the name of an existing collection is specified, that collection will be overwritten but existing indexes will be preserved and rebuilt."
   ]
  },
  {
   "cell_type": "markdown",
   "metadata": {
    "slideshow": {
     "slide_type": "subslide"
    }
   },
   "source": [
    "There's no need to add a `$out` to the pipeline you've built as it's already been done for you! The **courses_etl** collection was built using the transformation we've put together so far in this workshop.\n",
    "\n",
    "Let's look at the pipeline to see what we've built."
   ]
  },
  {
   "cell_type": "code",
   "execution_count": null,
   "metadata": {
    "slideshow": {
     "slide_type": "subslide"
    }
   },
   "outputs": [],
   "source": [
    "m_print(pipeline)"
   ]
  },
  {
   "cell_type": "markdown",
   "metadata": {
    "slideshow": {
     "slide_type": "slide"
    }
   },
   "source": [
    "We've covered a lot of ground so far, well done!\n",
    "\n",
    "The next step is to correlate our transformed data with another collection, called **answers_etl** (don't worry, we've performed the transformation of this collection for you!), to determine whether the student got an answer correct."
   ]
  },
  {
   "cell_type": "markdown",
   "metadata": {
    "slideshow": {
     "slide_type": "slide"
    }
   },
   "source": [
    "We're now going to cover a few more extremely useful stages and expressions that were used to prepare the datasets for this workshop.\n",
    "\n",
    "You can see the full aggregation pipelines used to transform the source collections in the `scratch` directory in your handout."
   ]
  },
  {
   "cell_type": "markdown",
   "metadata": {
    "slideshow": {
     "slide_type": "slide"
    }
   },
   "source": [
    "## `$lookup`\n",
    "\n",
    "`$lookup` has two forms. In this workshop, we'll focus on the new form. It looks like this\n",
    "\n",
    "```\n",
    "\"$lookup\": {\n",
    "    \"from\": <string>,\n",
    "    \"let\": <expressions>,\n",
    "    \"pipeline: [<aggregation pipeline>],\n",
    "    \"as\": <string>\n",
    "}\n",
    "```"
   ]
  },
  {
   "cell_type": "markdown",
   "metadata": {
    "slideshow": {
     "slide_type": "subslide"
    }
   },
   "source": [
    "This form of `$lookup` was introduced in MongoDB 3.6 and is **very** powerful. Here's an example of this form being used in one of the pipelines that was used to prepare the data for this workshop!"
   ]
  },
  {
   "cell_type": "markdown",
   "metadata": {
    "slideshow": {
     "slide_type": "subslide"
    }
   },
   "source": [
    "```\n",
    "...\n",
    "    {\n",
    "        \"$lookup\": {\n",
    "            \"from\": \"answers_etl\",\n",
    "            \"let\": {\"source\": \"$submissions.problem_id\"},\n",
    "            \"pipeline\": [\n",
    "                {\n",
    "                    \"$match\": {\n",
    "                        \"$expr\": {\"$eq\": [\"$problem_id\", \"$$source\"]}\n",
    "                    }\n",
    "                },\n",
    "                {\n",
    "                    \"$project\": {\n",
    "                        \"_id\": 0,\n",
    "                        \"answer\": 1\n",
    "                    }\n",
    "                }\n",
    "            ],\n",
    "            \"as\": \"answer\"\n",
    "        }\n",
    "    },\n",
    "...\n",
    "```"
   ]
  },
  {
   "cell_type": "markdown",
   "metadata": {
    "slideshow": {
     "slide_type": "subslide"
    }
   },
   "source": [
    "Let's break this down.\n",
    "\n",
    "- First, we specify the `from` collection as **answers_etl**, a prepared collection that has problem answers.\n",
    "- In `let`, we bind the value of the current document's **$submission.problem_id** to the name **source**. We'll reference this name within the pipeline.\n",
    "- In `pipeline`, we define an aggregation pipeline that executes in the context of the collection that we specified in `from`.\n",
    "- This pipeline matches where the **problem_id** in documents in the **answer_etl** collection match the **$$source** value, the value we bound in `let`. It then projects away the **_id** and keeps the **answer** value.\n",
    "- Lastly, we return the results and store them in a field called **answer**."
   ]
  },
  {
   "cell_type": "markdown",
   "metadata": {
    "slideshow": {
     "slide_type": "notes"
    }
   },
   "source": [
    "If this is moving too quickly for students, feel free to run through more examples than what we're about to do."
   ]
  },
  {
   "cell_type": "markdown",
   "metadata": {
    "slideshow": {
     "slide_type": "subslide"
    }
   },
   "source": [
    "Let's run through a quick exercise. We'd like to use a `$lookup` to get a list of students who have taken the **most** MongoDB Certified Developer/DBA exams."
   ]
  },
  {
   "cell_type": "code",
   "execution_count": null,
   "metadata": {
    "slideshow": {
     "slide_type": "subslide"
    }
   },
   "outputs": [],
   "source": [
    "exams_by_student = [\n",
    "    {\n",
    "        \"$project\": {\n",
    "            \"_id\": 0,\n",
    "            \"user_id\": 1\n",
    "        }\n",
    "    },\n",
    "    {\n",
    "        \"$lookup\": {\n",
    "            <your code here!!>\n",
    "        }\n",
    "    },\n",
    "    {\n",
    "        \"$match\": {\n",
    "            \"$expr\": {\n",
    "                \"$gt\": [{\"$size\": \"$exams\"}, 0]\n",
    "            }\n",
    "        }\n",
    "    },\n",
    "    {\n",
    "        \"$sortByCount\": {\"$size\": \"$exams\"}\n",
    "    }\n",
    "]\n",
    "m_print(student_course.aggregate(exams_by_student), justone=True)"
   ]
  },
  {
   "cell_type": "markdown",
   "metadata": {
    "slideshow": {
     "slide_type": "notes"
    }
   },
   "source": [
    "This is how it should look like:\n",
    "\n",
    "\n",
    "```json\n",
    "    {\n",
    "        \"$lookup\": {\n",
    "            \"from\": \"exam_results_etl\",\n",
    "            \"let\": {\"source\": \"$user_id\"},\n",
    "            \"pipeline\": [\n",
    "                {\n",
    "                    \"$match\": {\n",
    "                        \"$expr\": {\n",
    "                            \"$eq\": [\"$user_id\", \"$$source\"]\n",
    "                        }\n",
    "                    }\n",
    "                },\n",
    "                {\n",
    "                    \"$project\": {\n",
    "                        \"_id\": 0,\n",
    "                        \"user_id\": 1\n",
    "                    }\n",
    "                }\n",
    "            ],\n",
    "            \"as\": \"exams\"\n",
    "        }\n",
    "    }\n",
    "```\n",
    "\n",
    "Next, we will be covering ``$sortByCount``"
   ]
  },
  {
   "cell_type": "markdown",
   "metadata": {
    "slideshow": {
     "slide_type": "subslide"
    }
   },
   "source": [
    "You may be wondering what that `$sortByCount` stage is doing. We'll look at that momentarily! Let's focus on `$lookup`.\n",
    "\n",
    "- The `$lookup` stage is \"looking up\" documents **from** the **exam_results** collection.\n",
    "- Within `let`, it is binding the value of its own **user_id** field to the name **source**\n",
    "- The pipeline executes in the context of the **exam_results** collection. The `$match` stage is filtering out documents where **user_id** in the document doesn't match the value of **$source**. It then uses a `$project` stage to project away every field except for the **user_id**. This is done so that the documents returned to the `as` field are very tiny.\n",
    "- `as` tells `$lookup` to collect matching documents into a field called **as** in the current document being iterated over in the **student_course** collection."
   ]
  },
  {
   "cell_type": "markdown",
   "metadata": {
    "slideshow": {
     "slide_type": "subslide"
    }
   },
   "source": [
    "Ok, that `$sortByCount` stage we saw. It's a useful utility stage that does grouping and sorting in one shot, very handy when you want to group documents together just to get a count on some matching criteria.\n",
    "\n",
    "`\"$sortByCount\": <expression>`\n",
    "\n",
    "is the same as\n",
    "\n",
    "```\n",
    "{\n",
    "    \"$group\": {\n",
    "        \"_id\": <expression>,\n",
    "        \"count\": { \"$sum\": 1 }\n",
    "    }\n",
    "},\n",
    "{\n",
    "    \"$sort\": {\n",
    "        \"count\": -1\n",
    "    }\n",
    "}\n",
    "```\n"
   ]
  },
  {
   "cell_type": "markdown",
   "metadata": {
    "slideshow": {
     "slide_type": "notes"
    }
   },
   "source": [
    "`$sort` is a stage that does exactly what the cursor method `find().sort()` does."
   ]
  },
  {
   "cell_type": "markdown",
   "metadata": {
    "slideshow": {
     "slide_type": "subslide"
    }
   },
   "source": [
    "## Exercise - `$lookup`\n",
    "\n",
    "Let's have a little bit of fun.\n",
    "\n",
    "Within the **user_profile** collection there is a field called **devlang** where a user has stated their development langauge.\n",
    "\n",
    "Of poeple who have taken the **offering** *M103/2018_April* (found in the **student_course** collection), what is the most popular **devlang**?"
   ]
  },
  {
   "cell_type": "code",
   "execution_count": null,
   "metadata": {
    "slideshow": {
     "slide_type": "subslide"
    }
   },
   "outputs": [],
   "source": [
    "only_m103_april = {\n",
    "    \"$match\": {\n",
    "        \"offering\": \"M103/2018_April\"\n",
    "    }\n",
    "}\n",
    "just_user_id = {\n",
    "    \"$project\": {\n",
    "        \"_id\": 0,\n",
    "        \"user_id\": 1\n",
    "    }\n",
    "}\n",
    "unwind_devlangs = {\n",
    "    \"$unwind\": \"$devlangs\"\n",
    "}\n",
    "sort_devlangs = {\n",
    "    \"$sortByCount\": \"$devlangs\"\n",
    "}"
   ]
  },
  {
   "cell_type": "code",
   "execution_count": null,
   "metadata": {
    "slideshow": {
     "slide_type": "subslide"
    }
   },
   "outputs": [],
   "source": [
    "lookup = {\n",
    "    \"$lookup\": {\n",
    "        <your code here!!>\n",
    "    }\n",
    "}\n",
    "\n",
    "\n",
    "m_print(\n",
    "    student_course.aggregate(\n",
    "        [only_m103_april, just_user_id, lookup, unwind_devlangs, sort_devlangs]\n",
    "    )\n",
    ")"
   ]
  },
  {
   "cell_type": "markdown",
   "metadata": {
    "slideshow": {
     "slide_type": "notes"
    }
   },
   "source": [
    "The answer is Java with 389.\n",
    "\n",
    "```js\n",
    "lookup = {\n",
    "    \"$lookup\": {\n",
    "        \"from\": \"user_profile\",\n",
    "        \"let\": {\"source\": \"$user_id\"},\n",
    "        \"pipeline\": [\n",
    "            {\n",
    "                \"$match\": {\n",
    "                    \"$expr\": {\n",
    "                        \"$eq\": [\"$user_id\", \"$$source\"]\n",
    "                    }\n",
    "                }\n",
    "            },\n",
    "            {\n",
    "                \"$project\": {\n",
    "                    \"_id\": 0,\n",
    "                    \"devlang\": 1\n",
    "                }\n",
    "            }\n",
    "        ],\n",
    "        \"as\": \"devlangs\"\n",
    "    }\n",
    "}\n",
    "```"
   ]
  },
  {
   "cell_type": "markdown",
   "metadata": {
    "slideshow": {
     "slide_type": "subslide"
    }
   },
   "source": [
    "## Solution - `$lookup`"
   ]
  },
  {
   "cell_type": "code",
   "execution_count": null,
   "metadata": {
    "slideshow": {
     "slide_type": "subslide"
    }
   },
   "outputs": [],
   "source": [
    "%load fragments/lookup_exercise.py"
   ]
  },
  {
   "cell_type": "markdown",
   "metadata": {
    "slideshow": {
     "slide_type": "slide"
    }
   },
   "source": [
    "Another useful expression when dealing with arrays is `$reduce`. Let's take a look at it."
   ]
  },
  {
   "cell_type": "markdown",
   "metadata": {
    "slideshow": {
     "slide_type": "fragment"
    }
   },
   "source": [
    "```\n",
    "\"$reduce\": {\n",
    "    input: <expression that results in an array>,\n",
    "    initialValue: <expression>,\n",
    "    in: <expression>\n",
    "}\n",
    "```"
   ]
  },
  {
   "cell_type": "markdown",
   "metadata": {
    "slideshow": {
     "slide_type": "subslide"
    }
   },
   "source": [
    "Like `$map` and `$filter`, **input** and **in** function the same. Where `$reduce` differs is the **initialValue**, that can be anything we want.\n",
    "\n",
    "Here is an example where we used `$reduce` to correlate answers with student submissions. We reduced the array to a boolean value!"
   ]
  },
  {
   "cell_type": "markdown",
   "metadata": {
    "slideshow": {
     "slide_type": "subslide"
    }
   },
   "source": [
    "```\n",
    "\"$reduce\": {\n",
    "    \"input\": \"$$this.indices\",\n",
    "    \"initialValue\": True,\n",
    "    \"in\": {\n",
    "        \"$cond\": [\n",
    "            { \"$eq\": [ {\"$arrayElemAt\": [ \"$answer\", \"$$this\"] }, 1 ] },\n",
    "            { \"$and\": [ \"$$value\", True] },\n",
    "            { \"$and\": [ \"$$value\", False] }\n",
    "        ]\n",
    "    }\n",
    "}\n",
    "```"
   ]
  },
  {
   "cell_type": "markdown",
   "metadata": {
    "slideshow": {
     "slide_type": "subslide"
    }
   },
   "source": [
    "Within `$reduce`'s **in** block, we refer to the **`initialValue`** as **`$$value`**. \n",
    "\n",
    "As `$reduce` iterates over the array elements, it returns the result of the **in** expression block back to **$$value**. \n",
    "\n",
    "When it finishes iterating, it returns the result of whatever **`$$value`** is. We call **`$$value`** the **accumulator**.\n",
    "\n",
    "Here, we check each value in some **$answer** array. If it is equal to 1, the answer choice at that index is correct (0 means false).\n",
    "\n",
    "If it is, we return the current **`$$value`** and **True**, otherwise **`$$value`** and **False**.\n",
    "\n",
    "This has the effect that even though we start with True, if False is ever returned to the **accumulator**, it can **never** switch back to True."
   ]
  },
  {
   "cell_type": "markdown",
   "metadata": {
    "slideshow": {
     "slide_type": "subslide"
    }
   },
   "source": [
    "`$reduce` is a powerful expression. In fact, `$map` and `$filter` are expressible as a `$reduce`.\n",
    "\n",
    "Let's experiment with it to develop a sense."
   ]
  },
  {
   "cell_type": "code",
   "execution_count": null,
   "metadata": {
    "slideshow": {
     "slide_type": "subslide"
    }
   },
   "outputs": [],
   "source": [
    "%%capture\n",
    "my_coll.drop()\n",
    "my_coll.insert_many([\n",
    "    {\n",
    "        \"choices\": [0, 1, 2, 3],\n",
    "        \"answer\": [1, 1, 0, 1]\n",
    "    },\n",
    "    {\n",
    "        \"choices\": [0, 1, 3],\n",
    "        \"answer\": [1, 1, 0, 1]\n",
    "    }\n",
    "])"
   ]
  },
  {
   "cell_type": "markdown",
   "metadata": {
    "slideshow": {
     "slide_type": "subslide"
    }
   },
   "source": [
    "Now, let's `$reduce` over **indices**, comparing each entry to index position in the **answer** array. If it is, it will assign True to the **accumulator**, otherwise False."
   ]
  },
  {
   "cell_type": "code",
   "execution_count": null,
   "metadata": {
    "slideshow": {
     "slide_type": "subslide"
    }
   },
   "outputs": [],
   "source": [
    "is_correct = {\n",
    "    \"$addFields\": {\n",
    "        \"correct\": {\n",
    "            \"$reduce\": {\n",
    "                \"input\": \"$choices\",\n",
    "                \"initialValue\": True,\n",
    "                \"in\": {\n",
    "                    \"$and\": [\"$$value\", {\"$eq\": [ { \"$arrayElemAt\": [\"$answer\", \"$$this\"] }, 1 ]}]\n",
    "                }\n",
    "            }\n",
    "        }\n",
    "    }\n",
    "}\n",
    "m_print(my_coll.aggregate([is_correct]))"
   ]
  },
  {
   "cell_type": "markdown",
   "metadata": {
    "slideshow": {
     "slide_type": "subslide"
    }
   },
   "source": [
    "Your turn. Use `$reduce` to get the sum of values in each **choices** array. Yes, you could use the `$sum` operator to do this, and should when not learning."
   ]
  },
  {
   "cell_type": "code",
   "execution_count": null,
   "metadata": {
    "slideshow": {
     "slide_type": "subslide"
    }
   },
   "outputs": [],
   "source": [
    "choices_sum = [\n",
    "    {\n",
    "        \"$addFields\": {\n",
    "            \"sum_of_choices\": {\n",
    "                \"$reduce\": <your code here!!>\n",
    "            }\n",
    "        }\n",
    "    }\n",
    "]\n",
    "m_print(my_coll.aggregate(choices_sum))"
   ]
  },
  {
   "cell_type": "code",
   "execution_count": null,
   "metadata": {
    "slideshow": {
     "slide_type": "subslide"
    }
   },
   "outputs": [],
   "source": [
    "# students should get 6 for the first document, and 4 for the second\n",
    "choices_sum = [\n",
    "    {\n",
    "        \"$addFields\": {\n",
    "            \"sum_of_choices\": {\n",
    "                \"$reduce\": {\n",
    "                    \"input\": \"$choices\",\n",
    "                    \"initialValue\": 0,\n",
    "                    \"in\": {\n",
    "                        \"$add\": [\"$$value\", \"$$this\"]\n",
    "                    }\n",
    "                }\n",
    "            }\n",
    "        }\n",
    "    }\n",
    "]\n",
    "m_print(my_coll.aggregate(choices_sum))"
   ]
  },
  {
   "cell_type": "markdown",
   "metadata": {
    "slideshow": {
     "slide_type": "slide"
    }
   },
   "source": [
    "Lastly, let's look at **set** expressions.\n",
    "\n",
    "Set expressions are useful when dealing with arrays when you want to find overlap, remove duplicates, and so on.\n",
    "\n",
    "Let's look at a few examples. We'll insert some test data."
   ]
  },
  {
   "cell_type": "code",
   "execution_count": null,
   "metadata": {
    "slideshow": {
     "slide_type": "subslide"
    }
   },
   "outputs": [],
   "source": [
    "%%capture\n",
    "my_coll.drop()\n",
    "my_coll.insert_one(\n",
    "    {\n",
    "        \"values\": [1, 1, 2, 3, 4, 4, 4, 5, 5, 6, 7, 7, 7],\n",
    "        \"evens\": [0, 2, 4, 6, 8],\n",
    "        \"odds\": [1, 3, 5, 7, 9]\n",
    "    }\n",
    ")"
   ]
  },
  {
   "cell_type": "markdown",
   "metadata": {
    "slideshow": {
     "slide_type": "subslide"
    }
   },
   "source": [
    "Let's remove duplicates from the **values** field."
   ]
  },
  {
   "cell_type": "code",
   "execution_count": null,
   "metadata": {
    "slideshow": {
     "slide_type": "fragment"
    }
   },
   "outputs": [],
   "source": [
    "remove_dups = [{\n",
    "    \"$addFields\": {\n",
    "        \"values\": { \"$setUnion\": [\"$values\", [] ] }\n",
    "    }\n",
    "}]\n",
    "m_print(my_coll.aggregate(remove_dups))"
   ]
  },
  {
   "cell_type": "markdown",
   "metadata": {
    "slideshow": {
     "slide_type": "notes"
    }
   },
   "source": [
    "We've used the `$setUnion` expression to express a union between the **values** array and an empty array. \n",
    "\n",
    "Because it's a set operation, it implicitly removes duplicates.\n"
   ]
  },
  {
   "cell_type": "markdown",
   "metadata": {
    "slideshow": {
     "slide_type": "subslide"
    }
   },
   "source": [
    "Now, let's find the intersection between odds and evens. We expect there to be no intersection!"
   ]
  },
  {
   "cell_type": "code",
   "execution_count": null,
   "metadata": {
    "slideshow": {
     "slide_type": "fragment"
    }
   },
   "outputs": [],
   "source": [
    "intersect_odds_and_evens = [{\n",
    "    \"$addFields\": {\n",
    "        \"hopefully_empty\": {\n",
    "            \"$setIntersection\": [\"$odds\", \"$evens\"]\n",
    "        }\n",
    "    }\n",
    "}]\n",
    "m_print(my_coll.aggregate(intersect_odds_and_evens))"
   ]
  },
  {
   "cell_type": "markdown",
   "metadata": {
    "slideshow": {
     "slide_type": "subslide"
    }
   },
   "source": [
    "Let's look at one last example before moving on. What if we want to remove a single value we know might exist from an array?\n",
    "\n",
    "**$setDifference** is a great operator for this."
   ]
  },
  {
   "cell_type": "code",
   "execution_count": null,
   "metadata": {
    "slideshow": {
     "slide_type": "subslide"
    }
   },
   "outputs": [],
   "source": [
    "remove_4_from_values = [{\n",
    "    \"$addFields\": {\n",
    "        \"no_fours\": {\n",
    "            \"$setDifference\": [\"$values\", [4]]\n",
    "        }\n",
    "    }\n",
    "}]\n",
    "print(my_coll.aggregate(remove_4_from_values), justone=True)"
   ]
  },
  {
   "cell_type": "markdown",
   "metadata": {
    "slideshow": {
     "slide_type": "slide"
    }
   },
   "source": [
    "## `$bucket`"
   ]
  },
  {
   "cell_type": "markdown",
   "metadata": {
    "slideshow": {
     "slide_type": "subslide"
    }
   },
   "source": [
    "Let's get introduced to two more useful stages that perform a very similar task.\n",
    "\n",
    "`$bucket` is similar to the `$group` stage in a way, because they group similar documents together based on some value.\n",
    "\n",
    "`$bucket` allows us to pre-define boundaries. Let's look at an example of `$bucket` in action. Let's get the distribution of student problem submissions by the `$dayOfWeek`."
   ]
  },
  {
   "cell_type": "code",
   "execution_count": null,
   "metadata": {
    "slideshow": {
     "slide_type": "subslide"
    }
   },
   "outputs": [],
   "source": [
    "bucketing = {\n",
    "    \"$bucket\": {\n",
    "        \"groupBy\": { \"$dayOfWeek\": \"$updated_at\"},\n",
    "        \"boundaries\": [1, 2, 3, 4, 5, 6, 7],\n",
    "        \"default\": \"uncaught range\",\n",
    "        \"output\": {\n",
    "            \"count\": { \"$sum\": 1 }\n",
    "        }\n",
    "    }\n",
    "}"
   ]
  },
  {
   "cell_type": "markdown",
   "metadata": {
    "slideshow": {
     "slide_type": "notes"
    }
   },
   "source": [
    "Pause and ask attendees what they think the output will be.\n",
    "\n",
    "They may be surprised that we get output in \"uncaught range\". This is because we didn't define an upper bound of 8."
   ]
  },
  {
   "cell_type": "markdown",
   "metadata": {
    "slideshow": {
     "slide_type": "subslide"
    }
   },
   "source": [
    "The `$dayOfWeek` expression gives us the day of the week from an ISOString or a Date object. 1 is Sunday,  7 is Saturday.\n",
    "\n",
    "`groupBy` is similar to the `_id` block in `$group`.\n",
    "\n",
    "`boundaries` are boundaries we define for bucket ranges. Each boundary is the inclusive lower bound of that bucket, and the next boundary is the exlusive upper bound. In order for a full bucket to be defined there must be a lower and upper bound.\n",
    "\n",
    "`default` is for documents that don't fall into a defined bucket boundary. If `default` isn't specified, `$bucket` will error if any document doesn't fall into a bucket boundary.\n",
    "\n",
    "`output` is a block where we can specify accumulator expressions, just like `$group`."
   ]
  },
  {
   "cell_type": "code",
   "execution_count": null,
   "metadata": {
    "slideshow": {
     "slide_type": "subslide"
    }
   },
   "outputs": [],
   "source": [
    "m_print(student_course.aggregate([bucketing]))"
   ]
  },
  {
   "cell_type": "markdown",
   "metadata": {
    "slideshow": {
     "slide_type": "subslide"
    }
   },
   "source": [
    "When defining bucket boundaries, we have to specify both the lower and upper bounds. From the output we can see that submissions on Saturdays were caught in the **\"uncaught range\"** bucket. Let's fix that."
   ]
  },
  {
   "cell_type": "code",
   "execution_count": null,
   "metadata": {
    "slideshow": {
     "slide_type": "subslide"
    }
   },
   "outputs": [],
   "source": [
    "bucketing = {\n",
    "    \"$bucket\": {\n",
    "        \"groupBy\": { \"$dayOfWeek\": \"$updated_at\"},\n",
    "        \"boundaries\": [1, 2, 3, 4, 5, 6, 7, 8],\n",
    "        \"default\": \"uncaught range\",\n",
    "        \"output\": {\n",
    "            \"count\": { \"$sum\": 1 }\n",
    "        }\n",
    "    }\n",
    "}\n",
    "m_print(student_course.aggregate([bucketing]))"
   ]
  },
  {
   "cell_type": "markdown",
   "metadata": {
    "slideshow": {
     "slide_type": "subslide"
    }
   },
   "source": [
    "Excellent, we've now caught all encountered values in a bucket.\n",
    "\n",
    "Earlier in the workshop we had a bit of fun showing the distribution of problem submissions on Tuesdays and promised we'd reveal our methods later. This is how.\n",
    "\n",
    "Let's have a bit more fun with this. We'll graph out the distribution of problem submissions by day and by hour. We can see the majority of submissions are on Mondays, so maybe most MongoDB University students don't wait until the last moment."
   ]
  },
  {
   "cell_type": "markdown",
   "metadata": {
    "slideshow": {
     "slide_type": "subslide"
    }
   },
   "source": [
    "Let's think about how we'd want to do this. We could just issue multiple queries to the database, something like match where the submission is a Monday and then use `$bucket` to get the distribution by hour.\n",
    "\n",
    "This approach would indeed solve the task. However, there's a more efficient way.\n",
    "\n",
    "Introducing `$facet`..."
   ]
  },
  {
   "cell_type": "markdown",
   "metadata": {
    "slideshow": {
     "slide_type": "slide"
    }
   },
   "source": [
    "## `$facet`\n",
    "\n",
    "`$facet` is a very powerful stage and perhaps one of the most misunderstood. `$facet` allows us to execute multiple pipelines within a single aggregation.\n",
    "\n",
    "This is very useful if we want to perform more than one transformation of our data but each transformation alone would prevent the other. It's also useful when we want to get multiple different metrics. For example, an ecommerce site might use facet to return results based on review rating and price. This takes a lot of the heavy lifting off of the UI and allows the UI to focus on what it should, giving end users a great experience."
   ]
  },
  {
   "cell_type": "markdown",
   "metadata": {
    "slideshow": {
     "slide_type": "subslide"
    }
   },
   "source": [
    "So, rather than issue multiple different queries, let's issue one `$facet` aggregation that performs the sub-aggregations. In each sub-aggregation we'll `$match` on the `$dayOfWeek`, then use `$bucket` to get information by the hour.\n",
    "\n",
    "We'll use functions to build out our query, otherwise it would be pretty tedious."
   ]
  },
  {
   "cell_type": "code",
   "execution_count": null,
   "metadata": {
    "slideshow": {
     "slide_type": "subslide"
    }
   },
   "outputs": [],
   "source": [
    "def generate_sub_agg(dayOfWeek):\n",
    "    return [\n",
    "        {\n",
    "            \"$match\": {\n",
    "                \"$expr\": { \"$eq\": [ {\"$dayOfWeek\": \"$updated_at\" }, dayOfWeek] }\n",
    "            }\n",
    "        },\n",
    "        {\n",
    "            \"$bucket\": {\n",
    "                \"groupBy\": { \"$hour\": \"$updated_at\" },\n",
    "                \"boundaries\": [x for x in range(25)],\n",
    "                \"output\": {\n",
    "                    \"count\": { \"$sum\": 1 }\n",
    "                }\n",
    "            }\n",
    "        }\n",
    "    ]"
   ]
  },
  {
   "cell_type": "markdown",
   "metadata": {
    "slideshow": {
     "slide_type": "subslide"
    }
   },
   "source": [
    "Ok, we've defined a function to generate a sub-aggregation to use within a `$facet`. It accepts a **dayOfWeek** that we can pass in, uses `$match` to filter out documents that aren't that day, then a `$bucket` stage. We use a list comprehension to generate our boundaries, 0-24. This is simply to reduce typing.\n",
    "\n",
    "Let's build our complete pipeline."
   ]
  },
  {
   "cell_type": "code",
   "execution_count": null,
   "metadata": {
    "slideshow": {
     "slide_type": "subslide"
    }
   },
   "outputs": [],
   "source": [
    "first_facet = [\n",
    "    {\n",
    "        \"$facet\": {\n",
    "            \"sunday\": generate_sub_agg(1),\n",
    "            \"monday\": generate_sub_agg(2),\n",
    "            \"tuesday\": generate_sub_agg(3),\n",
    "            \"wednesday\": generate_sub_agg(4),\n",
    "            \"thursday\": generate_sub_agg(5),\n",
    "            \"friday\": generate_sub_agg(6),\n",
    "            \"saturday\": generate_sub_agg(7)\n",
    "        }\n",
    "    }\n",
    "]"
   ]
  },
  {
   "cell_type": "markdown",
   "metadata": {
    "slideshow": {
     "slide_type": "subslide"
    }
   },
   "source": [
    "`$facet` itself does not have a lot of ceremony in form like other stages. We specify the stage, `$facet`, and then specify the pipeline names. These names will be the key used to assign the value of the sub-aggregation.\n",
    "\n",
    "Let's see it in action."
   ]
  },
  {
   "cell_type": "code",
   "execution_count": null,
   "metadata": {
    "slideshow": {
     "slide_type": "subslide"
    }
   },
   "outputs": [],
   "source": [
    "m_print(student_course.aggregate(first_facet), justone=True)"
   ]
  },
  {
   "cell_type": "markdown",
   "metadata": {
    "slideshow": {
     "slide_type": "subslide"
    }
   },
   "source": [
    "And now we have a breakdown, by hour, of student submissions. Let's visualize the results. The hardest part now is selecting a color scheme..."
   ]
  },
  {
   "cell_type": "code",
   "execution_count": null,
   "metadata": {
    "slideshow": {
     "slide_type": "fragment"
    }
   },
   "outputs": [],
   "source": [
    "# dependencies\n",
    "import pandas as pd\n",
    "\n",
    "# rather than print out the results, store it to a variable\n",
    "by_hour_breakdown = list(student_course.aggregate(first_facet))[0]"
   ]
  },
  {
   "cell_type": "code",
   "execution_count": null,
   "metadata": {
    "scrolled": true,
    "slideshow": {
     "slide_type": "subslide"
    }
   },
   "outputs": [],
   "source": [
    "\"\"\"\n",
    "we're creating a 3d dataframe, remapping every day entry to the key \"day\", and a value of \"stats\"\n",
    "each \"stats\" value is itself a dataframe, where the _id has been mapped to \"hour\" and the count is\n",
    "remapped to \"count\"\n",
    "This is all for display\n",
    "\"\"\"\n",
    "\n",
    "data =[{\"day\": k, \"stats\": pd.DataFrame(list(map(lambda x: {\"hour\": x[\"_id\"], \"count\": x[\"count\"]}, v)))} for (k, v) in by_hour_breakdown.items()]\n",
    "df = pd.DataFrame(data)"
   ]
  },
  {
   "cell_type": "code",
   "execution_count": null,
   "metadata": {
    "slideshow": {
     "slide_type": "slide"
    }
   },
   "outputs": [],
   "source": [
    "\"\"\"\n",
    "Plotting the data. We use a for loop to create a subplot for every \"day\" entry.\n",
    "The rest is formatting\n",
    "\"\"\"\n",
    "fig, axs = plt.subplots(ncols=3, nrows=3,figsize=(16, 16))\n",
    "days = df['day'].tolist()\n",
    "x = 0\n",
    "for day in df['day']:\n",
    "    bp = sns.barplot(\n",
    "        x=\"hour\", \n",
    "        y=\"count\", \n",
    "        data=df['stats'][days.index(day)], \n",
    "        ax=axs[x//3, x%3]\n",
    "    ).set_title(day)\n",
    "    axes = bp.axes\n",
    "    axes.set_ylim(0,1200)\n",
    "    x+=1"
   ]
  },
  {
   "cell_type": "markdown",
   "metadata": {
    "slideshow": {
     "slide_type": "subslide"
    }
   },
   "source": [
    "Hmm... it looks like there is an outlier on Monday. Perhaps we ran a script to grant credit to users for a problem at that time, heavily skewing the **updated_at** value that produced this bucket.\n",
    "\n",
    "Either way, very interesting to look at the usage pattern of our users!"
   ]
  },
  {
   "cell_type": "markdown",
   "metadata": {
    "slideshow": {
     "slide_type": "slide"
    }
   },
   "source": [
    "There is another bucketing stage, `$bucketAuto`. `$bucketAuto` automatically deterimines bucket boundaries, attempting to evenly distribute results.\n",
    "\n",
    "`$bucketAuto` has the following form\n",
    "```\n",
    "\"$bucketAuto\": {\n",
    "    \"groupBy\": <expression>,\n",
    "    \"buckets\": <number>,\n",
    "    \"output\": {\n",
    "        fieldN: { <accumulator expression },\n",
    "        ...\n",
    "    }\n",
    "}\n",
    "```"
   ]
  },
  {
   "cell_type": "markdown",
   "metadata": {
    "slideshow": {
     "slide_type": "subslide"
    }
   },
   "source": [
    "Like `$bucket`, **groupBy** and **output** are the same. Again, instead of defining boundaries, **buckets** within **bucketAuto** takes a number and will attempt to distribute documents into that many buckets.\n",
    "\n",
    "Let's experiment. Let's aggregate over the **correlated_answers** collection, using `$bucketAuto` to get an idea of the distribution of the **num_attempts** each problem has."
   ]
  },
  {
   "cell_type": "code",
   "execution_count": null,
   "metadata": {
    "slideshow": {
     "slide_type": "subslide"
    }
   },
   "outputs": [],
   "source": [
    "bucket_auto = [\n",
    "    {\n",
    "        \"$unwind\": \"$submissions\"\n",
    "    },\n",
    "    {\n",
    "        \"$bucketAuto\": {\n",
    "            \"groupBy\": \"$submissions.num_attempts\",\n",
    "            \"buckets\": 5,\n",
    "            \"output\": {\n",
    "                \"count\": { \"$sum\": 1 }\n",
    "            }\n",
    "        }\n",
    "    }\n",
    "]\n",
    "m_print(mdbw.correlated_answers.aggregate(bucket_auto, allowDiskUse=True))"
   ]
  },
  {
   "cell_type": "markdown",
   "metadata": {
    "slideshow": {
     "slide_type": "subslide"
    }
   },
   "source": [
    "Very interesting. The vast majority of attempted problems fall into the less than 2 bucket, with another large portion falling into the less than 5 attempts bucket. The rest range from 5 attempts all the way up to 83.\n",
    "\n",
    "We cringe thinking about the frustration that user probably had.\n",
    "\n",
    "`$bucketAuto` was unable to give us 5 buckets because there wasn't enough distribution in our data.\n",
    "\n",
    "There's one more optional field that can be specified to `$bucketAuto`, **granularity**. We won't delve into it in this workshop, but if you are interested you can [refer to the documentation](https://docs.mongodb.com/manual/reference/operator/aggregation/bucketAuto/#pipe._S_bucketAuto)"
   ]
  },
  {
   "cell_type": "markdown",
   "metadata": {
    "slideshow": {
     "slide_type": "subslide"
    }
   },
   "source": [
    "## Exercise - `$facet`\n",
    "\n",
    "In this exercise, we're to find **user_id**s that are enrolled in every shortform offering on MongoDB University for the month of April.\n",
    "\n",
    "Your job will be fill out the `$facet` portion of the aggregation."
   ]
  },
  {
   "cell_type": "code",
   "execution_count": null,
   "metadata": {
    "slideshow": {
     "slide_type": "subslide"
    }
   },
   "outputs": [],
   "source": [
    "offerings = [\n",
    "    \"M001/2018_April\", \"M121/2018_April\", \"M103/2018_April\", \n",
    "    \"M201/2018_April\", \"M310/2018_April\", \"M312/2018_April\"\n",
    "]\n",
    "def pipeline_builder(offering):\n",
    "    return [\n",
    "        {\n",
    "            \"$match\": {\n",
    "                \"_id.offering\": offering\n",
    "            }\n",
    "        },\n",
    "        {\n",
    "            \"$project\": {\n",
    "                \"_id\": 0,\n",
    "                \"user_id\": \"$_id.user_id\"\n",
    "            }\n",
    "        }\n",
    "    ]\n",
    "\n",
    "def after_projection():\n",
    "    projection = {}\n",
    "    for offering in offerings:\n",
    "        # this will strip the offering to just the course code\n",
    "        # i.e. M001/2018_April will become M001\n",
    "        projection[offering[:4]] = f\"${offering[:4]}.user_id\"\n",
    "    return projection"
   ]
  },
  {
   "cell_type": "code",
   "execution_count": null,
   "metadata": {
    "slideshow": {
     "slide_type": "subslide"
    }
   },
   "outputs": [],
   "source": [
    "subpipelines = {}\n",
    "for offering in offerings:\n",
    "    subpipelines[offering[:4]] = pipeline_builder(offering)\n",
    "pipeline = [\n",
    "    {\n",
    "        \"$facet\": subpipelines\n",
    "    },\n",
    "    {\n",
    "        \"$project\": after_projection()\n",
    "    },\n",
    "    {\n",
    "        \"$project\": {\n",
    "            \"concurrent_students\": {\n",
    "                \"$setIntersection\": [f\"${offering[:4]}\" for offering in offerings]\n",
    "            }\n",
    "        }\n",
    "    }\n",
    "    \n",
    "]\n",
    "m_print(mdbw.correlated_answers.aggregate(pipeline))\n"
   ]
  },
  {
   "cell_type": "markdown",
   "metadata": {
    "slideshow": {
     "slide_type": "slide"
    }
   },
   "source": [
    "Now roughly 5 to 5.5 hours in."
   ]
  },
  {
   "cell_type": "markdown",
   "metadata": {
    "slideshow": {
     "slide_type": "slide"
    }
   },
   "source": [
    "# Summary\n",
    "\n",
    "Congratulations, you've made it! We've covered a lot of ground in a short amount of time.\n",
    "\n",
    "Nothing reinforces learning like using newly acquired knowledge. It's time to jump into the Capstone exercises.\n",
    "\n",
    "## Capstones\n",
    "\n",
    "- [Capstone 1 - Problem problems?](http://localhost:8888/notebooks/capstone1.ipynb)\n",
    "- [Capstone 2 - Cliff Problems](http://localhost:8888/notebooks/capstone2.ipynb)"
   ]
  }
 ],
 "metadata": {
  "celltoolbar": "Slideshow",
  "kernelspec": {
   "display_name": "Python 3",
   "language": "python",
   "name": "python3"
  },
  "language_info": {
   "codemirror_mode": {
    "name": "ipython",
    "version": 3
   },
   "file_extension": ".py",
   "mimetype": "text/x-python",
   "name": "python",
   "nbconvert_exporter": "python",
   "pygments_lexer": "ipython3",
   "version": "3.6.4"
  }
 },
 "nbformat": 4,
 "nbformat_minor": 2
}
