{
 "cells": [
  {
   "cell_type": "markdown",
   "metadata": {},
   "source": [
    "# Capstone 2 - Identifying Cliff Problems\n",
    "\n",
    "In this capstone exercise, you are tasked with finding problems that seem to be \"cliffs\".\n",
    "\n",
    "We'll again be using information from the **correlated_answers** collection.\n",
    "\n",
    "### We want to find out the number of students who attempt a problem and visualize that. This will visually show us \"cliffs\"\n",
    "\n",
    "For example, if problem 1 is attempted by 15000 students and problem 2 is attempted by 600, one of those may be a cliff problem. Correlating that data with the previous capstone might be useful!\n",
    "\n",
    "You'll also want to return information on the order of apperance of problems. You can find this information in the **course_info** collection.\n",
    "\n",
    "## Tips\n",
    "\n",
    "Here are a few tips\n",
    "\n",
    "- The pipeline will look very similar to the last capstone. Rather than attempt information per student, we're interested in the students themselves this time.\n",
    "\n",
    "- Getting an order of the problems will require a **$lookup** `from` **course_info**\n",
    "\n",
    "- Within the inner pipeline of **$lookup**, the **`$map`** expression might prove very useful!\n",
    "\n",
    "Again, the work of creating the visualization is done for you. Your job is to create an aggregation pipeline that produces output like the following, for each course."
   ]
  },
  {
   "cell_type": "markdown",
   "metadata": {},
   "source": [
    "## Required Output\n",
    "\n",
    "```\n",
    "[\n",
    "  {\n",
    "    \"_id\": \"M036\",\n",
    "    \"problems\": [\n",
    "      {\n",
    "        \"problem_id\": \"5a34333cdac97f48b78748ce\",\n",
    "        \"users_attempted\": 351\n",
    "      },\n",
    "      {\n",
    "        \"problem_id\": \"5a14c3bd7f87b5284fd81e36\",\n",
    "        \"users_attempted\": 347\n",
    "      },\n",
    "      ...,\n",
    "    ],\n",
    "    \"problem_order\": [\n",
    "      {\n",
    "        \"chapters\": [\n",
    "          [\n",
    "            \"5a2192c1e433132c56d7ec55\",\n",
    "            \"5a1dbcf98b0c765208f7e0c3\"\n",
    "          ],\n",
    "          [\n",
    "            \"59c1a1c8f6bd8f33225d97c5\",\n",
    "            \"59c2a1c8f6bd8f33225d97c7\",\n",
    "            \"5ac1a1c8f6bd8f33225d97c9\",\n",
    "            \"59c1a1c8f6bd8f33225d97cb\",\n",
    "            \"5a0c882a0fa481129fcb408d\"\n",
    "          ],\n",
    "          ...\n",
    "        ]\n",
    "      }\n",
    "    ]\n",
    "  },\n",
    "  {\n",
    "    \"_id\": \"M001\",\n",
    "    ...\n",
    "  },\n",
    "  ...\n",
    "]\n",
    "```"
   ]
  },
  {
   "cell_type": "code",
   "execution_count": 1,
   "metadata": {},
   "outputs": [],
   "source": [
    "# import our dependencies\n",
    "import pandas as pd\n",
    "import seaborn as sns\n",
    "import matplotlib.pyplot as plt\n",
    "from pymongo import MongoClient\n",
    "client = MongoClient()\n",
    "%matplotlib inline\n",
    "from utils.workshop import *\n",
    "sns.set(font_scale=3)\n",
    "correlated_answers = client.mdbw.correlated_answers"
   ]
  },
  {
   "cell_type": "code",
   "execution_count": null,
   "metadata": {},
   "outputs": [],
   "source": [
    "# create your stages here. Remember to iterate in small steps!\n",
    "# Most of this pipeline is similar to the pipeline from capstone 1!\n",
    "\n",
    "\n",
    "pipeline = [<your stages here!!>]"
   ]
  },
  {
   "cell_type": "code",
   "execution_count": null,
   "metadata": {},
   "outputs": [],
   "source": [
    "# ensure you suppled your stages to the aggregation variable above!\n",
    "courses = list((correlated_answers.aggregate(pipeline)))\n",
    "m_print(courses)\n",
    "# making a copy of the original results\n",
    "results = courses[:]"
   ]
  },
  {
   "cell_type": "markdown",
   "metadata": {},
   "source": [
    "# Finished?\n",
    "Run the following cells without modifying them and you should see each course as a plot, with each problem graphed in the order they appear in the course."
   ]
  },
  {
   "cell_type": "code",
   "execution_count": null,
   "metadata": {},
   "outputs": [],
   "source": [
    "problem_orders = [{\"course\": course[\"_id\"]} for course in results]\n",
    "\n",
    "def find_ordering_index(course):\n",
    "    \"\"\"\n",
    "    Finds the order of a course in the results\n",
    "    \"\"\"\n",
    "    return next((index for (index, d) in enumerate(problem_orders) if d['course'] == course))\n",
    "\n",
    "def get_chapter_and_ordering(course, problem_id):\n",
    "    \"\"\"\n",
    "    Gets the chapter and position in the chapter a particular problem is in\n",
    "    \"\"\"\n",
    "    problem_order = results[find_ordering_index(course)]['problem_order'][0]['chapters']\n",
    "    for (ix, chapter) in enumerate(problem_order):\n",
    "        if problem_id in chapter:\n",
    "            return (ix, chapter.index(problem_id))\n",
    "\n",
    "def translate_to_object(course, d):\n",
    "    \"\"\"\n",
    "    Translates a problem in the results to the format we want for graphing\n",
    "    \"\"\"\n",
    "    chapter, order = get_chapter_and_ordering(course, d[\"problem_id\"])\n",
    "    return {\n",
    "        \"problem\": d[\"problem_id\"],\n",
    "        \"users_attempted\": d[\"users_attempted\"],\n",
    "        \"chapter\": chapter,\n",
    "        \"order\": order\n",
    "    }    \n"
   ]
  },
  {
   "cell_type": "markdown",
   "metadata": {},
   "source": [
    "# Visualizing\n",
    "\n",
    "Once you've peformed the necessary transformation, run the following cell to show a nice graph of the \"noise\" in problem attempts.\n",
    "\n",
    "While we called these \"Problem problems\" we should be suspicious. Is the average number of attempts per problem a good indicator?"
   ]
  },
  {
   "cell_type": "code",
   "execution_count": null,
   "metadata": {},
   "outputs": [],
   "source": [
    "\"\"\"\n",
    "Creating the dataframe again\n",
    "\"\"\"\n",
    "import operator\n",
    "df = pd.DataFrame([\n",
    "    {\n",
    "        \"course\": course['_id'], \n",
    "        \"problems\": pd.DataFrame(\n",
    "            sorted([translate_to_object(course['_id'], p) for p in course[\"problems\"]], key=operator.itemgetter('chapter','order'))\n",
    "        )\n",
    "    } for course in results])\n",
    "\n",
    "fig, axs = plt.subplots(ncols=3, nrows=3,figsize=(50, 50))\n",
    "courses = df['course'].tolist()\n",
    "x = 0\n",
    "for course in df['course']:\n",
    "    bp = sns.barplot(\n",
    "        x=\"problem\", \n",
    "        y=\"users_attempted\",\n",
    "        hue=\"chapter\",\n",
    "        data=df['problems'][courses.index(course)], \n",
    "        ax=axs[x//3, x%3],\n",
    "    ).set_title(course)\n",
    "    axes = bp.axes\n",
    "    ymed = df['problems'][courses.index(course)]['users_attempted'].median()\n",
    "    axes.axhline(y=ymed, xmin=0, xmax=1)\n",
    "    axes.set_xticklabels([])\n",
    "    x+=1"
   ]
  },
  {
   "cell_type": "markdown",
   "metadata": {},
   "source": [
    "# Interpretation\n",
    "Some clearly identifiable patterns are emerging. There is some variance, which we expect. Perhaps some of them are \"labs\" that count towards a student's grade. It loks like the final questions - the questions in the last chapter - all hover around the same values.\n",
    "\n",
    "Looking at the difference between the start of a course and the end of a course, we can definitely see some dropoff. The nature of free courses! However, there are clearly visible dropoff points."
   ]
  }
 ],
 "metadata": {
  "kernelspec": {
   "display_name": "Python 3",
   "language": "python",
   "name": "python3"
  },
  "language_info": {
   "codemirror_mode": {
    "name": "ipython",
    "version": 3
   },
   "file_extension": ".py",
   "mimetype": "text/x-python",
   "name": "python",
   "nbconvert_exporter": "python",
   "pygments_lexer": "ipython3",
   "version": "3.6.4"
  }
 },
 "nbformat": 4,
 "nbformat_minor": 2
}
