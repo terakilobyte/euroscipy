{
 "cells": [
  {
   "cell_type": "markdown",
   "metadata": {
    "slideshow": {
     "slide_type": "slide"
    }
   },
   "source": [
    "<h1 style=\"text-align: center; font-size: 54px;\">Blending Aggregation with Pandas</h1>"
   ]
  },
  {
   "cell_type": "code",
   "execution_count": null,
   "metadata": {
    "slideshow": {
     "slide_type": "subslide"
    }
   },
   "outputs": [],
   "source": [
    "from utils.workshop import *\n",
    "import pandas as pd\n",
    "import seaborn as sns\n",
    "import matplotlib.pyplot as plt\n",
    "sns.set(color_codes=True)"
   ]
  },
  {
   "cell_type": "markdown",
   "metadata": {
    "slideshow": {
     "slide_type": "notes"
    }
   },
   "source": [
    "The goal of this tutorial is to teach/intrigue/inspire better analytics by blending MongoDB's Aggregation Framework with existing analysis tools to achieve desired results faster and more efficiently."
   ]
  },
  {
   "cell_type": "markdown",
   "metadata": {
    "slideshow": {
     "slide_type": "slide"
    }
   },
   "source": [
    "<h2 style=\"font-size: 36px; text-align: center;\">The Problem</h1>\n",
    "\n",
    "<img src=\"assets/everything.jpg\" style=\"margin: 20px auto; max-width: 800px; max-height: 800px;\"/>"
   ]
  },
  {
   "cell_type": "markdown",
   "metadata": {
    "slideshow": {
     "slide_type": "notes"
    }
   },
   "source": [
    "Without Aggregation on the database layer, any question we ask is potentially inefficient. Doing everything with the client results in the transfer of all data, resulting in increased bandwidth consumption and greater memory and processor usage."
   ]
  },
  {
   "cell_type": "markdown",
   "metadata": {
    "slideshow": {
     "slide_type": "slide"
    }
   },
   "source": [
    "## Finding things"
   ]
  },
  {
   "cell_type": "markdown",
   "metadata": {
    "slideshow": {
     "slide_type": "notes"
    }
   },
   "source": [
    "First, let's create some data to play with."
   ]
  },
  {
   "cell_type": "code",
   "execution_count": null,
   "metadata": {
    "slideshow": {
     "slide_type": "subslide"
    }
   },
   "outputs": [],
   "source": [
    "very_important_data = [{\"value\": x} for x in range(100)]"
   ]
  },
  {
   "cell_type": "code",
   "execution_count": null,
   "metadata": {
    "slideshow": {
     "slide_type": "subslide"
    }
   },
   "outputs": [],
   "source": [
    "df = pd.DataFrame.from_dict(very_important_data)"
   ]
  },
  {
   "cell_type": "code",
   "execution_count": null,
   "metadata": {
    "slideshow": {
     "slide_type": "subslide"
    }
   },
   "outputs": [],
   "source": [
    "df.head()"
   ]
  },
  {
   "cell_type": "markdown",
   "metadata": {
    "slideshow": {
     "slide_type": "slide"
    }
   },
   "source": [
    "Now, let's put the same data in MongoDB."
   ]
  },
  {
   "cell_type": "code",
   "execution_count": null,
   "metadata": {
    "slideshow": {
     "slide_type": "subslide"
    }
   },
   "outputs": [],
   "source": [
    "from pymongo import MongoClient\n",
    "\n",
    "client = MongoClient()\n",
    "mdbw = client.mdbw\n",
    "tutorial = mdbw.tutorial\n",
    "student_course = mdbw.student_course\n",
    "my_coll = mdbw.my_coll"
   ]
  },
  {
   "cell_type": "code",
   "execution_count": null,
   "metadata": {
    "slideshow": {
     "slide_type": "subslide"
    }
   },
   "outputs": [],
   "source": [
    "tutorial.drop()\n",
    "tutorial.insert_many(very_important_data)"
   ]
  },
  {
   "cell_type": "markdown",
   "metadata": {
    "slideshow": {
     "slide_type": "slide"
    }
   },
   "source": [
    "Let's find all the values that are evenly divisible by 2."
   ]
  },
  {
   "cell_type": "code",
   "execution_count": null,
   "metadata": {
    "slideshow": {
     "slide_type": "subslide"
    }
   },
   "outputs": [],
   "source": [
    "only_evens = df.loc[df['value'] % 2 == 0]\n",
    "only_evens.count()"
   ]
  },
  {
   "cell_type": "code",
   "execution_count": null,
   "metadata": {
    "slideshow": {
     "slide_type": "subslide"
    }
   },
   "outputs": [],
   "source": [
    "only_evens.head()"
   ]
  },
  {
   "cell_type": "markdown",
   "metadata": {
    "slideshow": {
     "slide_type": "slide"
    }
   },
   "source": [
    "Now in MongoDB."
   ]
  },
  {
   "cell_type": "markdown",
   "metadata": {
    "slideshow": {
     "slide_type": "subslide"
    }
   },
   "source": [
    "The \"old\" way"
   ]
  },
  {
   "cell_type": "code",
   "execution_count": null,
   "metadata": {
    "slideshow": {
     "slide_type": "subslide"
    }
   },
   "outputs": [],
   "source": [
    "m_evens = {\n",
    "    \"$addFields\": {\n",
    "        \"is_even\": {\"$eq\": [{ \"$mod\": [ \"$value\", 2 ]}, 0]}\n",
    "    }\n",
    "}\n",
    "m_match = {\n",
    "    \"$match\": {\n",
    "        \"is_even\": True\n",
    "    }\n",
    "}\n",
    "m_results1 = list(tutorial.aggregate([m_evens, m_match]))"
   ]
  },
  {
   "cell_type": "markdown",
   "metadata": {
    "slideshow": {
     "slide_type": "subslide"
    }
   },
   "source": [
    "The \"new\" way"
   ]
  },
  {
   "cell_type": "code",
   "execution_count": null,
   "metadata": {
    "slideshow": {
     "slide_type": "subslide"
    }
   },
   "outputs": [],
   "source": [
    "m_evens = {\n",
    "    \"$match\": {\n",
    "        \"$expr\": {\"$eq\": [{\"$mod\": [\"$value\", 2]}, 0]}\n",
    "    }\n",
    "}\n",
    "m_results2 = list(tutorial.aggregate([m_evens]))"
   ]
  },
  {
   "cell_type": "code",
   "execution_count": null,
   "metadata": {
    "slideshow": {
     "slide_type": "subslide"
    }
   },
   "outputs": [],
   "source": [
    "m_df1 = pd.DataFrame.from_dict(m_results1)\n",
    "m_df2 = pd.DataFrame.from_dict(m_results2)"
   ]
  },
  {
   "cell_type": "code",
   "execution_count": null,
   "metadata": {
    "slideshow": {
     "slide_type": "subslide"
    }
   },
   "outputs": [],
   "source": [
    "m_df1.count()"
   ]
  },
  {
   "cell_type": "code",
   "execution_count": null,
   "metadata": {
    "slideshow": {
     "slide_type": "subslide"
    }
   },
   "outputs": [],
   "source": [
    "m_df2.count()"
   ]
  },
  {
   "cell_type": "code",
   "execution_count": null,
   "metadata": {
    "slideshow": {
     "slide_type": "subslide"
    }
   },
   "outputs": [],
   "source": [
    "m_df1.head()"
   ]
  },
  {
   "cell_type": "code",
   "execution_count": null,
   "metadata": {
    "slideshow": {
     "slide_type": "subslide"
    }
   },
   "outputs": [],
   "source": [
    "m_df2.head()"
   ]
  },
  {
   "cell_type": "markdown",
   "metadata": {
    "slideshow": {
     "slide_type": "slide"
    }
   },
   "source": [
    "We can quickly get rid of the `_id` field that MongoDB automatically created, as well as the `is_even` field we created as a placeholder."
   ]
  },
  {
   "cell_type": "code",
   "execution_count": null,
   "metadata": {
    "slideshow": {
     "slide_type": "subslide"
    }
   },
   "outputs": [],
   "source": [
    "m_df1.drop(labels=[\"_id\", \"is_even\"], axis=1, inplace=True)\n",
    "m_df2.drop(labels=[\"_id\"], axis=1, inplace=True)"
   ]
  },
  {
   "cell_type": "code",
   "execution_count": null,
   "metadata": {
    "slideshow": {
     "slide_type": "subslide"
    }
   },
   "outputs": [],
   "source": [
    "m_df1.head()"
   ]
  },
  {
   "cell_type": "code",
   "execution_count": null,
   "metadata": {
    "slideshow": {
     "slide_type": "subslide"
    }
   },
   "outputs": [],
   "source": [
    "m_df2.head()"
   ]
  },
  {
   "cell_type": "markdown",
   "metadata": {
    "slideshow": {
     "slide_type": "slide"
    }
   },
   "source": [
    "## Let's break down what we just didn't do.\n",
    "\n",
    "We didn't use a `$match` stage to find documents where the **value** was even."
   ]
  },
  {
   "cell_type": "markdown",
   "metadata": {
    "slideshow": {
     "slide_type": "subslide"
    }
   },
   "source": [
    "MongoDB's Aggregation Framework is a data pipeline. Documents aren't fetched, instead they flow through the pipeline and each stage transforms the documents in some way. So, all 100 documents entered the `$addFields` stage in the first example. They then entered the `$match` stage, and were filtered out."
   ]
  },
  {
   "cell_type": "markdown",
   "metadata": {
    "slideshow": {
     "slide_type": "slide"
    }
   },
   "source": [
    "![agg_factor](assets/agg_factory.gif)"
   ]
  },
  {
   "cell_type": "markdown",
   "metadata": {
    "slideshow": {
     "slide_type": "slide"
    }
   },
   "source": [
    "## $match\n",
    "\n",
    "`$match` in aggregation is akin to the `df.loc` method in Pandas, `find` in MQL, and `SELECT` in SQL.\n",
    "Unlike the rest of the stages in the Aggregation Framework, `$match` uses the \"standard\" MQL operators."
   ]
  },
  {
   "cell_type": "markdown",
   "metadata": {
    "slideshow": {
     "slide_type": "subslide"
    }
   },
   "source": [
    "In the second version, we used the **$expr** expression that was added in MongoDB 3.6. It allows us to \"break free\" from standard MQL and use aggregation expressions."
   ]
  },
  {
   "cell_type": "markdown",
   "metadata": {
    "slideshow": {
     "slide_type": "slide"
    }
   },
   "source": [
    "## Expressions\n",
    "\n",
    "The next area we'll cover is expressions. If stages like `$match`, `$project`, and `$group` are the assembly stations of an aggregation pipeline, expressions are the individual tools at each station."
   ]
  },
  {
   "cell_type": "markdown",
   "metadata": {
    "slideshow": {
     "slide_type": "subslide"
    }
   },
   "source": [
    "Expressions are functions. With them we can add, multiply, get square roots, join sets, and much, much more. Here are functionally identical examples of a function called add.\n",
    "\n",
    "- Python\n",
    "\n",
    "```python\n",
    "    def add(a, b):\n",
    "        return a + b\n",
    "```\n",
    "\n",
    "- Aggregation Syntax\n",
    "\n",
    "```js\n",
    "    { \"$add\": [ \"$a\", \"$b\" ] }\n",
    "```"
   ]
  },
  {
   "cell_type": "markdown",
   "metadata": {
    "slideshow": {
     "slide_type": "subslide"
    }
   },
   "source": [
    "Here's another example for a function called `floor`, which floors the input to the next lowest integer value.\n",
    "\n",
    "Python:\n",
    "\n",
    "```python\n",
    "    def floor(a):\n",
    "        return int(a)\n",
    "```\n",
    "\n",
    "Aggregation:\n",
    "\n",
    "```json\n",
    "    { \"$floor\": \"$a\" }\n",
    "```"
   ]
  },
  {
   "cell_type": "markdown",
   "metadata": {
    "slideshow": {
     "slide_type": "subslide"
    }
   },
   "source": [
    "And just like functions, expressions can be composed together. Currently there is no round function in the Aggregation Framework, but we can make it by composing `$floor` and `$add` together.\n",
    "\n",
    "```json\n",
    "    { \"$floor\": { \"$add\": [ \"$a\", 0.5 ] } }\n",
    "```"
   ]
  },
  {
   "cell_type": "markdown",
   "metadata": {
    "slideshow": {
     "slide_type": "subslide"
    }
   },
   "source": [
    "Let's take a closer look at our custom `round` expression to get a feel for aggregation semantics.\n",
    "\n",
    "    { \"$floor\": { \"$add\": [ \"$a\", 0.5 ] } }"
   ]
  },
  {
   "cell_type": "markdown",
   "metadata": {
    "slideshow": {
     "slide_type": "subslide"
    }
   },
   "source": [
    "    { \"$floor\": { \"$add\": [ \"$a\", 0.5 ] } }\n",
    "    ^           ^                       ^ ^\n",
    "    \n",
    "Unless an expression is entirely self contained, it is surrounded by curly brackets. These delimit the scope of the expression.\n",
    "\n",
    "Expressions are evaluated from the inside out. So, the `$add` expression is evaluated before the `$floor` expression."
   ]
  },
  {
   "cell_type": "markdown",
   "metadata": {
    "slideshow": {
     "slide_type": "subslide"
    }
   },
   "source": [
    "    { \"$floor\": { \"$add\": [ \"$a\", 0.5 ] } }\n",
    "                          ^           ^\n",
    "\n",
    "As a general rule, expressions that take multiple arguments accept them in an array. Some expressions only accept 1 or 2 arguments, like `$subtract`, while others are variadic (number of arguments isn't fixed), like `$add`."
   ]
  },
  {
   "cell_type": "markdown",
   "metadata": {
    "slideshow": {
     "slide_type": "subslide"
    }
   },
   "source": [
    "    { \"$floor\": { \"$add\": [ \"$a\", 0.5 ] } }\n",
    "                              ^\n",
    "                              \n",
    "Lastly, let's cover field path expressions. Field path expressions are self contained, hence there's no need to surround them with curly braces when composing them with other expressions or using them to supply an argument to an expression.\n",
    "\n",
    "Field path expressions refer to a value in the current document. In our custom `round` expression, `\"$a\"` refers to the value in the current document that has a key of **a**. We saw this earlier when we referenced the value of **value** with `$value`."
   ]
  },
  {
   "cell_type": "markdown",
   "metadata": {
    "slideshow": {
     "slide_type": "slide"
    }
   },
   "source": [
    "## Expression \"Categories\"\n",
    "\n",
    "There are many built-in expressions in the Aggregation Framework that fall into several categories."
   ]
  },
  {
   "cell_type": "markdown",
   "metadata": {
    "slideshow": {
     "slide_type": "subslide"
    }
   },
   "source": [
    "![expression categories](assets/expression-categories.png)"
   ]
  },
  {
   "cell_type": "markdown",
   "metadata": {
    "slideshow": {
     "slide_type": "slide"
    }
   },
   "source": [
    "## `$addFields`\n",
    "\n",
    "Earlier in the first version of the aggregation, we used a stage called `$addFields`. `$addFields` allows us to temporarily derive and store values in documents as they pass through the data pipeline.\n",
    "\n",
    "`$addFields` - and `$project`, the sibling for `$addFields` - should be considered a main transformative stage, akin to `map` in many programming languages."
   ]
  },
  {
   "cell_type": "markdown",
   "metadata": {
    "slideshow": {
     "slide_type": "slide"
    }
   },
   "source": [
    "## Exercise - Get the number of submissions per day\n",
    "\n",
    "In this exercise, you'll have to use `$match` and `$addFields` to get the number of submissions that fell on a Tuesday, the end/beginning of an academic week on MongoDB University. This information is in the `student_course` collection.\n",
    "\n",
    "The final count stage is provided for you."
   ]
  },
  {
   "cell_type": "code",
   "execution_count": null,
   "metadata": {
    "slideshow": {
     "slide_type": "subslide"
    }
   },
   "outputs": [],
   "source": [
    "mark_day_of_week = {\n",
    "    \"$addFields\": {\n",
    "        \"dayofweek\": <your code here>\n",
    "    }\n",
    "}\n",
    "\n",
    "# remember that Sunday is 1, Saturday is 7\n",
    "on_tuesday = {\n",
    "    \"$match\": {\n",
    "        \"dayofweek\": <your code here>\n",
    "    }\n",
    "}\n",
    "\n",
    "# don't change this count stage\n",
    "count = {\n",
    "    \"$count\": \"submissions\"\n",
    "}\n",
    "\n",
    "m_print(student_course.aggregate([mark_day_of_week, on_tuesday, count]))"
   ]
  },
  {
   "cell_type": "markdown",
   "metadata": {
    "slideshow": {
     "slide_type": "subslide"
    }
   },
   "source": [
    "### Solution"
   ]
  },
  {
   "cell_type": "code",
   "execution_count": null,
   "metadata": {
    "slideshow": {
     "slide_type": "subslide"
    }
   },
   "outputs": [],
   "source": [
    "%load fragments/euroscipy_tuesdays.py"
   ]
  },
  {
   "cell_type": "markdown",
   "metadata": {
    "slideshow": {
     "slide_type": "slide"
    }
   },
   "source": [
    "## `$group`"
   ]
  },
  {
   "cell_type": "markdown",
   "metadata": {
    "slideshow": {
     "slide_type": "subslide"
    }
   },
   "source": [
    "`$group` has the following form\n",
    "```\n",
    "\"$group\": {\n",
    "    \"_id\": <expression>,\n",
    "    \"fieldN\": { <accumulatorN>: <expressionN> },\n",
    "    ...\n",
    "}\n",
    "```"
   ]
  },
  {
   "cell_type": "markdown",
   "metadata": {
    "slideshow": {
     "slide_type": "notes"
    }
   },
   "source": [
    "**_id** is any expression or composition of expressions to match similar documents together on.\n",
    "\n",
    "**fieldN** is an optional field, and as hinted at by the postfixed \"N\", can be any number of fields. \n",
    "\n",
    "Each field specified accepts an accumulator and expression to accumlate."
   ]
  },
  {
   "cell_type": "markdown",
   "metadata": {
    "slideshow": {
     "slide_type": "subslide"
    }
   },
   "source": [
    "When we say that the **_id** field in `$group` can be any expression or composition of expressions to group similar documents together with, we really mean it.\n",
    "\n",
    "Let's explore `$group` in isolation to get a sense for how powerful it is, as well as how accumulator expressions work and some very common patterns."
   ]
  },
  {
   "cell_type": "markdown",
   "metadata": {
    "slideshow": {
     "slide_type": "subslide"
    }
   },
   "source": [
    "First, we'll insert 100 documents into a test collection. They'll be of the shape\n",
    "```\n",
    "{\n",
    "    \"_id\": <assigned by mongod>,\n",
    "    \"value\": 0..100\n",
    "}\n",
    "```"
   ]
  },
  {
   "cell_type": "code",
   "execution_count": null,
   "metadata": {
    "slideshow": {
     "slide_type": "fragment"
    }
   },
   "outputs": [],
   "source": [
    "my_coll.drop()\n",
    "my_coll.insert_many([{\"value\": n} for n in range(100)])\n",
    "print(my_coll.count_documents({}))\n",
    "m_print(my_coll.find_one())"
   ]
  },
  {
   "cell_type": "markdown",
   "metadata": {
    "slideshow": {
     "slide_type": "subslide"
    }
   },
   "source": [
    "Alright, we have 100 documents inserted into our collection, with values ranging from 0 to 99.\n",
    "\n",
    "First, let's `$group` similar documents together. We're also going to use a very common accumulator expression to count how many documents were grouped together, called `$sum`."
   ]
  },
  {
   "cell_type": "code",
   "execution_count": null,
   "metadata": {
    "slideshow": {
     "slide_type": "subslide"
    }
   },
   "outputs": [],
   "source": [
    "grouping_by_odd_or_even = {\n",
    "    \"$group\": {\n",
    "        \"_id\": {\n",
    "            \"$cond\": [ \n",
    "                { \"$eq\": [{\"$mod\": [ \"$value\", 2 ] }, 0] }, \n",
    "                \"even\", \n",
    "                \"odd\" \n",
    "            ]\n",
    "        },\n",
    "        \"count\": { \"$sum\": 1 }\n",
    "    }\n",
    "}\n",
    "m_print(my_coll.aggregate([grouping_by_odd_or_even]))"
   ]
  },
  {
   "cell_type": "markdown",
   "metadata": {
    "slideshow": {
     "slide_type": "subslide"
    }
   },
   "source": [
    "OK let's break this down.\n",
    "\n",
    "Within the **_id** argument, we specified one of the _control flow_ expressions, `$cond`. \n",
    "\n",
    "It can be read as\n",
    "\n",
    "**if** `{ \"$eq\": [{\"$mod\": [ \"$value\", 2 ] }, 0] },`\n",
    "\n",
    "**then** `\"even\",`\n",
    "\n",
    "**else** `\"odd\",`"
   ]
  },
  {
   "cell_type": "markdown",
   "metadata": {
    "slideshow": {
     "slide_type": "subslide"
    }
   },
   "source": [
    "The next portion is the accumulator expression block. We specified a field called `count`, but it could have been any name. Within, we use the accumulator expression `$sum`.\n",
    "\n",
    "`\"count\": { \"$sum\": 1 }` can be thought of as the instruction \"for every document that matches, **sum** 1 with the current value of **count**. So the first time it matched, it summed 1 and 0, then 1 and 1, then 1 and 2, and so on.\n",
    "\n",
    "We would expect that both **count** fields in the output documents were 50, as there are 50 even and 50 odd numbers in the interval **[0, 99]**\n",
    "\n",
    "Following is an almost identical example, however it won't use the `$cond` expression and will use the name **documents_matched** instead of count. What do you expect the output to be?"
   ]
  },
  {
   "cell_type": "code",
   "execution_count": null,
   "metadata": {
    "slideshow": {
     "slide_type": "subslide"
    }
   },
   "outputs": [],
   "source": [
    "grouping_by_odd_or_even = {\n",
    "    \"$group\": {\n",
    "        \"_id\": { \"$eq\": [{\"$mod\": [ \"$value\", 2 ] }, 0] }, \n",
    "        \"documents_matched\": { \"$sum\": 1 }\n",
    "    }\n",
    "}\n",
    "m_print(my_coll.aggregate([grouping_by_odd_or_even]))"
   ]
  },
  {
   "cell_type": "markdown",
   "metadata": {
    "slideshow": {
     "slide_type": "subslide"
    }
   },
   "source": [
    "Because we didn't specify the `$cond`, we got the raw output from the expression, which is a boolean true/false. We can see that the **documents_matched** key is what we expected, 50."
   ]
  },
  {
   "cell_type": "markdown",
   "metadata": {
    "slideshow": {
     "slide_type": "subslide"
    }
   },
   "source": [
    "Alright, let's have a little bit of fun.\n",
    "\n",
    "We're going to solve a variation of **FizzBuzz** with aggregation.\n",
    "\n",
    "If you aren't familiar, FizzBuzz is a programming problem where you take the interval [0, 99] or [1, 100] and do the following:\n",
    "- If the number if divisible by 3, output \"Fizz\"\n",
    "- If the number is divisible by 5, output \"Buzz\"\n",
    "- If the number is divisible by 15, output \"FizzBuzz\"\n",
    "- If the number doesn't meet one of the above criteria, output the number itself\n",
    "\n",
    "We'll group on this criteria instead, and use an accumulator expression called `$push` to push values into an array."
   ]
  },
  {
   "cell_type": "markdown",
   "metadata": {
    "slideshow": {
     "slide_type": "subslide"
    }
   },
   "source": [
    "To do this, we're going to use a `$switch` expression. We could just nest `$cond` expressions but the syntax starts to get a bit unweildy."
   ]
  },
  {
   "cell_type": "markdown",
   "metadata": {
    "slideshow": {
     "slide_type": "subslide"
    }
   },
   "source": [
    "![haduken_code](assets/haduken_code.jpg)"
   ]
  },
  {
   "cell_type": "code",
   "execution_count": null,
   "metadata": {
    "slideshow": {
     "slide_type": "subslide"
    }
   },
   "outputs": [],
   "source": [
    "fizz_buzz = {\n",
    "    \"$group\": {\n",
    "        \"_id\": {\n",
    "            \"$switch\": {\n",
    "                \"branches\": [\n",
    "                    { \"case\": { \"$eq\": [{\"$mod\": [ \"$value\", 15 ] }, 0] }, \"then\": \"FizzBuzz\" },\n",
    "                    { \"case\": { \"$eq\": [{\"$mod\": [ \"$value\", 5 ] }, 0] }, \"then\": \"Buzz\" },\n",
    "                    { \"case\": { \"$eq\": [{\"$mod\": [ \"$value\", 3 ] }, 0] }, \"then\": \"Fizz\" }\n",
    "                ],\n",
    "                \"default\": \"plain\"\n",
    "            }\n",
    "        },\n",
    "        \"matching_nums\": { \"$push\": \"$value\"}\n",
    "    }\n",
    "}\n",
    "m_print(my_coll.aggregate([fizz_buzz]))"
   ]
  },
  {
   "cell_type": "markdown",
   "metadata": {
    "slideshow": {
     "slide_type": "subslide"
    }
   },
   "source": [
    "Alright, we see that documents where the value was divisible by 15 were matched and the **_id** resulted in \"FizzBuzz\", and the individual values were pushed into a field called **matching_nums**.\n",
    "\n",
    "Same for \"Fizz\" and \"Buzz\", and because we need a common value to match other values together with, we chose to use \"plain\" if no branches in our `$switch` matched."
   ]
  },
  {
   "cell_type": "markdown",
   "metadata": {
    "slideshow": {
     "slide_type": "subslide"
    }
   },
   "source": [
    "We can also `$group` all input documents together. To do so, we specify an expression or value that won't be enountered in any documents. By convention, we tend to use the value **0**.\n",
    "\n",
    "Let's look at an example. We'll `$group` all of the documents together, and use some mathematical accumulator expressions to find the `$max`, `$min`, `$avg`, `$sum`, and `$stdDevPop`."
   ]
  },
  {
   "cell_type": "code",
   "execution_count": null,
   "metadata": {
    "slideshow": {
     "slide_type": "subslide"
    }
   },
   "outputs": [],
   "source": [
    "the_stats = {\n",
    "    \"$group\": {\n",
    "        \"_id\": 0,\n",
    "        \"max\": { \"$max\": \"$value\" },\n",
    "        \"min\": { \"$min\": \"$value\" },\n",
    "        \"avg\": { \"$avg\": \"$value\" },\n",
    "        \"sum\": { \"$sum\": \"$value\" },\n",
    "        \"sd\": { \"$stdDevPop\": \"$value\" }\n",
    "    }\n",
    "}\n",
    "m_print(my_coll.aggregate([the_stats]))"
   ]
  },
  {
   "cell_type": "markdown",
   "metadata": {
    "slideshow": {
     "slide_type": "slide"
    }
   },
   "source": [
    "## Exercise - Group problem submissions by day of week and output count.\n",
    "\n",
    "For this exercise, group problem submissions together based on the day of the week they were submitted and output a count."
   ]
  },
  {
   "cell_type": "code",
   "execution_count": null,
   "metadata": {
    "slideshow": {
     "slide_type": "subslide"
    }
   },
   "outputs": [],
   "source": [
    "submissions = {\n",
    "    \"$group\": {\n",
    "    }\n",
    "}\n",
    "m_print(student_course.aggregate([submissions]))"
   ]
  },
  {
   "cell_type": "markdown",
   "metadata": {
    "slideshow": {
     "slide_type": "subslide"
    }
   },
   "source": [
    "### Solution"
   ]
  },
  {
   "cell_type": "code",
   "execution_count": null,
   "metadata": {
    "slideshow": {
     "slide_type": "subslide"
    }
   },
   "outputs": [],
   "source": [
    "%load fragments/euroscipy_first_group.py"
   ]
  },
  {
   "cell_type": "markdown",
   "metadata": {
    "slideshow": {
     "slide_type": "subslide"
    }
   },
   "source": [
    "Let's sort them in descending order, so they are greatest to least."
   ]
  },
  {
   "cell_type": "code",
   "execution_count": null,
   "metadata": {
    "slideshow": {
     "slide_type": "subslide"
    }
   },
   "outputs": [],
   "source": [
    "# %load fragments/euroscipy_first_group.py\n",
    "submissions = {\n",
    "    \"$group\": {\n",
    "        \"_id\": {\n",
    "            \"$dayOfWeek\": \"$updated_at\"\n",
    "        },\n",
    "        \"count\": { \"$sum\": 1 }\n",
    "    }\n",
    "}\n",
    "m_print(student_course.aggregate([submissions]))\n"
   ]
  },
  {
   "cell_type": "code",
   "execution_count": null,
   "metadata": {
    "slideshow": {
     "slide_type": "fragment"
    }
   },
   "outputs": [],
   "source": [
    "sorting = {\n",
    "    \"$sort\": { \"count\": -1 }\n",
    "}\n",
    "m_print(student_course.aggregate([submissions, sorting]))"
   ]
  },
  {
   "cell_type": "markdown",
   "metadata": {
    "slideshow": {
     "slide_type": "slide"
    }
   },
   "source": [
    "## Introducing ``$sortByCount``\n",
    "\n",
    "`$sortByCount` does the same thing as a `$group` followed by a `$sort`."
   ]
  },
  {
   "cell_type": "code",
   "execution_count": null,
   "metadata": {
    "slideshow": {
     "slide_type": "subslide"
    }
   },
   "outputs": [],
   "source": [
    "group_and_sort = {\n",
    "    \"$sortByCount\": {\"$dayOfWeek\": \"$updated_at\"}\n",
    "}\n",
    "m_print(student_course.aggregate([group_and_sort]))"
   ]
  },
  {
   "cell_type": "markdown",
   "metadata": {
    "slideshow": {
     "slide_type": "slide"
    }
   },
   "source": [
    "## `$lookup`\n",
    "\n",
    "`$lookup` has two forms. In this workshop, we'll focus on the new form. It looks like this\n",
    "\n",
    "```\n",
    "\"$lookup\": {\n",
    "    \"from\": <string>,\n",
    "    \"let\": <expressions>,\n",
    "    \"pipeline: [<aggregation pipeline>],\n",
    "    \"as\": <string>\n",
    "}\n",
    "```"
   ]
  },
  {
   "cell_type": "markdown",
   "metadata": {
    "slideshow": {
     "slide_type": "subslide"
    }
   },
   "source": [
    "This form of `$lookup` was introduced in MongoDB 3.6 and is **very** powerful. Here's an example of this form being used in one of the pipelines that was used to prepare the data for this workshop!"
   ]
  },
  {
   "cell_type": "markdown",
   "metadata": {
    "slideshow": {
     "slide_type": "subslide"
    }
   },
   "source": [
    "```\n",
    "...\n",
    "    {\n",
    "        \"$lookup\": {\n",
    "            \"from\": \"answers_etl\",\n",
    "            \"let\": {\"source\": \"$submissions.problem_id\"},\n",
    "            \"pipeline\": [\n",
    "                {\n",
    "                    \"$match\": {\n",
    "                        \"$expr\": {\"$eq\": [\"$problem_id\", \"$$source\"]}\n",
    "                    }\n",
    "                },\n",
    "                {\n",
    "                    \"$project\": {\n",
    "                        \"_id\": 0,\n",
    "                        \"answer\": 1\n",
    "                    }\n",
    "                }\n",
    "            ],\n",
    "            \"as\": \"answer\"\n",
    "        }\n",
    "    },\n",
    "...\n",
    "```"
   ]
  },
  {
   "cell_type": "markdown",
   "metadata": {
    "slideshow": {
     "slide_type": "subslide"
    }
   },
   "source": [
    "Let's break this down.\n",
    "\n",
    "- First, we specify the `from` collection as **answers_etl**, a prepared collection that has problem answers.\n",
    "- In `let`, we bind the value of the current document's **$submission.problem_id** to the name **source**. We'll reference this name within the pipeline.\n",
    "- In `pipeline`, we define an aggregation pipeline that executes in the context of the collection that we specified in `from`.\n",
    "- This pipeline matches where the **problem_id** in documents in the **answer_etl** collection match the **$$source** value, the value we bound in `let`. It then projects away the **_id** and keeps the **answer** value.\n",
    "- Lastly, we return the results and store them in a field called **answer**."
   ]
  },
  {
   "cell_type": "markdown",
   "metadata": {
    "slideshow": {
     "slide_type": "subslide"
    }
   },
   "source": [
    "## Exercise - Lookup\n",
    "\n",
    "Let's run through a quick exercise. We'd like to use a `$lookup` to get a list of students who have taken the **most** MongoDB Certified Developer/DBA exams."
   ]
  },
  {
   "cell_type": "code",
   "execution_count": null,
   "metadata": {
    "slideshow": {
     "slide_type": "subslide"
    }
   },
   "outputs": [],
   "source": [
    "exams_by_student = [\n",
    "    {\n",
    "        \"$project\": {\n",
    "            \"_id\": 0,\n",
    "            \"user_id\": 1\n",
    "        }\n",
    "    },\n",
    "    {\n",
    "        \"$lookup\": {\n",
    "            <your code here>\n",
    "        }\n",
    "    },\n",
    "    {\n",
    "        \"$match\": {\n",
    "            \"exams\": { \"$ne\": [] }\n",
    "        }\n",
    "    },\n",
    "    {\n",
    "        \"$addFields\": {\n",
    "            \"exams\": { \"$arrayElemAt\": [\"$exams.exams\", 0]}\n",
    "        }\n",
    "    },\n",
    "    {\n",
    "        \"$sort\": {\"exams\": -1}\n",
    "    }\n",
    "]\n",
    "m_print(student_course.aggregate(exams_by_student))"
   ]
  },
  {
   "cell_type": "markdown",
   "metadata": {
    "slideshow": {
     "slide_type": "subslide"
    }
   },
   "source": [
    "### Solution"
   ]
  },
  {
   "cell_type": "code",
   "execution_count": null,
   "metadata": {
    "slideshow": {
     "slide_type": "subslide"
    }
   },
   "outputs": [],
   "source": [
    "%load fragments/euroscipy_lookup.py"
   ]
  },
  {
   "cell_type": "markdown",
   "metadata": {
    "slideshow": {
     "slide_type": "slide"
    }
   },
   "source": [
    "## Let's do some analysis.\n",
    "\n",
    "Let's find out when students on MongoDB University are **most** active in submitting their homework."
   ]
  },
  {
   "cell_type": "markdown",
   "metadata": {
    "slideshow": {
     "slide_type": "slide"
    }
   },
   "source": [
    "In MongoDB Aggregation, using `$facet`"
   ]
  },
  {
   "cell_type": "markdown",
   "metadata": {
    "slideshow": {
     "slide_type": "slide"
    }
   },
   "source": [
    "## `$facet`\n",
    "\n",
    "`$facet` is a very powerful stage and perhaps one of the most misunderstood. `$facet` allows us to execute multiple pipelines within a single aggregation.\n",
    "\n",
    "This is very useful if we want to perform more than one transformation of our data but each transformation alone would prevent the other. It's also useful when we want to get multiple different metrics. For example, an ecommerce site might use facet to return results based on review rating and price. This takes a lot of the heavy lifting off of the UI and allows the UI to focus on what it should, giving end users a great experience."
   ]
  },
  {
   "cell_type": "code",
   "execution_count": null,
   "metadata": {
    "slideshow": {
     "slide_type": "subslide"
    }
   },
   "outputs": [],
   "source": [
    "def generate_sub_agg(dayOfWeek):\n",
    "    return [\n",
    "        {\n",
    "            \"$match\": {\n",
    "                \"$expr\": { \"$eq\": [ {\"$dayOfWeek\": \"$updated_at\" }, dayOfWeek] }\n",
    "            }\n",
    "        },\n",
    "        {\n",
    "            \"$bucket\": {\n",
    "                \"groupBy\": { \"$hour\": \"$updated_at\" },\n",
    "                \"boundaries\": [x for x in range(25)],\n",
    "                \"output\": {\n",
    "                    \"count\": { \"$sum\": 1 }\n",
    "                }\n",
    "            }\n",
    "        }\n",
    "    ]"
   ]
  },
  {
   "cell_type": "code",
   "execution_count": null,
   "metadata": {
    "slideshow": {
     "slide_type": "subslide"
    }
   },
   "outputs": [],
   "source": [
    "pipeline = [\n",
    "    {\n",
    "        \"$facet\": {\n",
    "            \"sunday\": generate_sub_agg(1),\n",
    "            \"monday\": generate_sub_agg(2),\n",
    "            \"tuesday\": generate_sub_agg(3),\n",
    "            \"wednesday\": generate_sub_agg(4),\n",
    "            \"thursday\": generate_sub_agg(5),\n",
    "            \"friday\": generate_sub_agg(6),\n",
    "            \"saturday\": generate_sub_agg(7)\n",
    "        }\n",
    "    }\n",
    "]"
   ]
  },
  {
   "cell_type": "code",
   "execution_count": null,
   "metadata": {
    "slideshow": {
     "slide_type": "subslide"
    }
   },
   "outputs": [],
   "source": [
    "by_hour_breakdown = list(student_course.aggregate(pipeline))[0]"
   ]
  },
  {
   "cell_type": "code",
   "execution_count": null,
   "metadata": {
    "slideshow": {
     "slide_type": "subslide"
    }
   },
   "outputs": [],
   "source": [
    "data =[{\"day\": k, \"stats\": pd.DataFrame(list(map(lambda x: {\"hour\": x[\"_id\"], \"count\": x[\"count\"]}, v)))} for (k, v) in by_hour_breakdown.items()]\n",
    "m_df = pd.DataFrame(data)"
   ]
  },
  {
   "cell_type": "code",
   "execution_count": null,
   "metadata": {
    "slideshow": {
     "slide_type": "slide"
    }
   },
   "outputs": [],
   "source": [
    "fig, axs = plt.subplots(ncols=3, nrows=3,figsize=(16, 16))\n",
    "days = m_df['day'].tolist()\n",
    "x = 0\n",
    "for day in m_df['day']:\n",
    "    bp = sns.barplot(\n",
    "        x=\"hour\", \n",
    "        y=\"count\", \n",
    "        data=m_df['stats'][days.index(day)], \n",
    "        ax=axs[x//3, x%3]\n",
    "    ).set_title(day)\n",
    "    axes = bp.axes\n",
    "    axes.set_ylim(0,1200)\n",
    "    x+=1"
   ]
  },
  {
   "cell_type": "code",
   "execution_count": null,
   "metadata": {},
   "outputs": [],
   "source": []
  }
 ],
 "metadata": {
  "celltoolbar": "Slideshow",
  "kernelspec": {
   "display_name": "Python 3",
   "language": "python",
   "name": "python3"
  },
  "language_info": {
   "codemirror_mode": {
    "name": "ipython",
    "version": 3
   },
   "file_extension": ".py",
   "mimetype": "text/x-python",
   "name": "python",
   "nbconvert_exporter": "python",
   "pygments_lexer": "ipython3",
   "version": "3.6.4"
  }
 },
 "nbformat": 4,
 "nbformat_minor": 2
}
